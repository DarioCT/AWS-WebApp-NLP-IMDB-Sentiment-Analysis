{
 "cells": [
  {
   "cell_type": "markdown",
   "metadata": {},
   "source": [
    "# Sentiment Analysis Web App\n",
    "\n",
    "---\n",
    "\n",
    "In this notebook we will use Amazon's SageMaker service to construct a random tree model to predict the sentiment of a movie review. In addition, we will deploy this model to an endpoint and construct a very simple web app which will interact with our model's deployed endpoint.\n",
    "\n",
    "## General Outline\n",
    "\n",
    "Typically, when using a notebook instance with SageMaker, you will proceed through the following steps. Of course, not every step will need to be done with each project. Also, there is quite a lot of room for variation in many of the steps, as you will see throughout these lessons.\n",
    "\n",
    "1. Download or otherwise retrieve the data.\n",
    "2. Process / Prepare the data.\n",
    "3. Upload the processed data to S3.\n",
    "4. Train a chosen model.\n",
    "5. Test the trained model (typically using a batch transform job).\n",
    "6. Deploy the trained model.\n",
    "7. Use the deployed model.\n",
    "\n",
    "In this notebook we will progress through each of the steps above. We will also see that the final step, using the deployed model, can be quite challenging."
   ]
  },
  {
   "cell_type": "markdown",
   "metadata": {},
   "source": [
    "## Step 1: Downloading the data\n",
    "\n",
    "The dataset we are going to use is very popular among researchers in Natural Language Processing, usually referred to as the [IMDb dataset](http://ai.stanford.edu/~amaas/data/sentiment/). It consists of movie reviews from the website [imdb.com](http://www.imdb.com/), each labeled as either '**pos**itive', if the reviewer enjoyed the film, or '**neg**ative' otherwise.\n",
    "\n",
    "> Maas, Andrew L., et al. [Learning Word Vectors for Sentiment Analysis](http://ai.stanford.edu/~amaas/data/sentiment/). In _Proceedings of the 49th Annual Meeting of the Association for Computational Linguistics: Human Language Technologies_. Association for Computational Linguistics, 2011.\n",
    "\n",
    "We begin by using some Jupyter Notebook magic to download and extract the dataset."
   ]
  },
  {
   "cell_type": "code",
   "execution_count": 1,
   "metadata": {},
   "outputs": [
    {
     "name": "stdout",
     "output_type": "stream",
     "text": [
      "mkdir: cannot create directory ‘../data’: File exists\n",
      "--2020-08-03 06:50:13--  http://ai.stanford.edu/~amaas/data/sentiment/aclImdb_v1.tar.gz\n",
      "Resolving ai.stanford.edu (ai.stanford.edu)... 171.64.68.10\n",
      "Connecting to ai.stanford.edu (ai.stanford.edu)|171.64.68.10|:80... connected.\n",
      "HTTP request sent, awaiting response... 200 OK\n",
      "Length: 84125825 (80M) [application/x-gzip]\n",
      "Saving to: ‘../data/aclImdb_v1.tar.gz’\n",
      "\n",
      "../data/aclImdb_v1. 100%[===================>]  80.23M  9.75MB/s    in 11s     \n",
      "\n",
      "2020-08-03 06:50:25 (7.08 MB/s) - ‘../data/aclImdb_v1.tar.gz’ saved [84125825/84125825]\n",
      "\n"
     ]
    }
   ],
   "source": [
    "%mkdir ../data\n",
    "!wget -O ../data/aclImdb_v1.tar.gz http://ai.stanford.edu/~amaas/data/sentiment/aclImdb_v1.tar.gz\n",
    "!tar -zxf ../data/aclImdb_v1.tar.gz -C ../data"
   ]
  },
  {
   "cell_type": "markdown",
   "metadata": {},
   "source": [
    "## Step 2: Preparing and Processing the data\n",
    "\n",
    "The data we have downloaded is split into various files, each of which contains a single review. It will be much easier going forward if we combine these individual files into two large files, one for training and one for testing."
   ]
  },
  {
   "cell_type": "code",
   "execution_count": 2,
   "metadata": {},
   "outputs": [],
   "source": [
    "import os\n",
    "import glob\n",
    "\n",
    "def read_imdb_data(data_dir='../data/aclImdb'):\n",
    "    data = {}\n",
    "    labels = {}\n",
    "    \n",
    "    for data_type in ['train', 'test']:\n",
    "        data[data_type] = {}\n",
    "        labels[data_type] = {}\n",
    "        \n",
    "        for sentiment in ['pos', 'neg']:\n",
    "            data[data_type][sentiment] = []\n",
    "            labels[data_type][sentiment] = []\n",
    "            \n",
    "            path = os.path.join(data_dir, data_type, sentiment, '*.txt')\n",
    "            files = glob.glob(path)\n",
    "            \n",
    "            for f in files:\n",
    "                with open(f) as review:\n",
    "                    data[data_type][sentiment].append(review.read())\n",
    "                    # Here we represent a positive review by '1' and a negative review by '0'\n",
    "                    labels[data_type][sentiment].append(1 if sentiment == 'pos' else 0)\n",
    "                    \n",
    "            assert len(data[data_type][sentiment]) == len(labels[data_type][sentiment]), \\\n",
    "                    \"{}/{} data size does not match labels size\".format(data_type, sentiment)\n",
    "                \n",
    "    return data, labels"
   ]
  },
  {
   "cell_type": "code",
   "execution_count": 3,
   "metadata": {},
   "outputs": [
    {
     "name": "stdout",
     "output_type": "stream",
     "text": [
      "IMDB reviews: train = 12500 pos / 12500 neg, test = 12500 pos / 12500 neg\n"
     ]
    }
   ],
   "source": [
    "data, labels = read_imdb_data()\n",
    "print(\"IMDB reviews: train = {} pos / {} neg, test = {} pos / {} neg\".format(\n",
    "            len(data['train']['pos']), len(data['train']['neg']),\n",
    "            len(data['test']['pos']), len(data['test']['neg'])))"
   ]
  },
  {
   "cell_type": "code",
   "execution_count": 4,
   "metadata": {},
   "outputs": [],
   "source": [
    "from sklearn.utils import shuffle\n",
    "\n",
    "def prepare_imdb_data(data, labels):\n",
    "    \"\"\"Prepare training and test sets from IMDb movie reviews.\"\"\"\n",
    "    \n",
    "    #Combine positive and negative reviews and labels\n",
    "    data_train = data['train']['pos'] + data['train']['neg']\n",
    "    data_test = data['test']['pos'] + data['test']['neg']\n",
    "    labels_train = labels['train']['pos'] + labels['train']['neg']\n",
    "    labels_test = labels['test']['pos'] + labels['test']['neg']\n",
    "    \n",
    "    #Shuffle reviews and corresponding labels within training and test sets\n",
    "    data_train, labels_train = shuffle(data_train, labels_train)\n",
    "    data_test, labels_test = shuffle(data_test, labels_test)\n",
    "    \n",
    "    # Return a unified training data, test data, training labels, test labets\n",
    "    return data_train, data_test, labels_train, labels_test"
   ]
  },
  {
   "cell_type": "code",
   "execution_count": 5,
   "metadata": {},
   "outputs": [
    {
     "name": "stdout",
     "output_type": "stream",
     "text": [
      "IMDb reviews (combined): train = 25000, test = 25000\n"
     ]
    }
   ],
   "source": [
    "train_X, test_X, train_y, test_y = prepare_imdb_data(data, labels)\n",
    "print(\"IMDb reviews (combined): train = {}, test = {}\".format(len(train_X), len(test_X)))"
   ]
  },
  {
   "cell_type": "code",
   "execution_count": 6,
   "metadata": {},
   "outputs": [
    {
     "data": {
      "text/plain": [
       "\"Ang Lee clearly likes to ease into a film, to catch action, characters and setting on the hoof, as they emerge. Covering the haphazard endgame of the American civil war via the haphazard actions of a young militia, unformed in mind or manhood, this is an ideal approach. The film turns out to be about the formation of personalities, adulthood and relationships. Lee also shows the beautiful panoramas of the mid-south as a silent character, enduring the strife like a hardy parent.<br /><br />James Schamus' script is probably the standard bearer for this film; close behind it are a number of well-appointed performances that carry it admirably. Jeffrey Wright's name alone could carry this film for me. He's brilliant here but in a slow burning role: instead we are treated to very good (if not revelatory) performances from a large, often recognisable ensemble.<br /><br />A noble, optimistic film. One to watch if you don't fancy the harder, more bittersweet Cold Mountain or The Claim, for example. 7/10\""
      ]
     },
     "execution_count": 6,
     "metadata": {},
     "output_type": "execute_result"
    }
   ],
   "source": [
    "train_X[100]"
   ]
  },
  {
   "cell_type": "markdown",
   "metadata": {},
   "source": [
    "## Processing the data\n",
    "\n",
    "Now that we have our training and testing datasets merged and ready to use, we need to start processing the raw data into something that will be useable by our machine learning algorithm. To begin with, we remove any html formatting and any non-alpha numeric characters that may appear in the reviews. We will do this in a very simplistic way using Python's regular expression module. We will discuss the reason for this rather simplistic pre-processing later on."
   ]
  },
  {
   "cell_type": "code",
   "execution_count": 7,
   "metadata": {},
   "outputs": [],
   "source": [
    "import re\n",
    "\n",
    "REPLACE_NO_SPACE = re.compile(\"(\\.)|(\\;)|(\\:)|(\\!)|(\\')|(\\?)|(\\,)|(\\\")|(\\()|(\\))|(\\[)|(\\])\")\n",
    "REPLACE_WITH_SPACE = re.compile(\"(<br\\s*/><br\\s*/>)|(\\-)|(\\/)\")\n",
    "\n",
    "def review_to_words(review):\n",
    "    words = REPLACE_NO_SPACE.sub(\"\", review.lower())\n",
    "    words = REPLACE_WITH_SPACE.sub(\" \", words)\n",
    "    return words"
   ]
  },
  {
   "cell_type": "code",
   "execution_count": 8,
   "metadata": {},
   "outputs": [
    {
     "data": {
      "text/plain": [
       "'ang lee clearly likes to ease into a film to catch action characters and setting on the hoof as they emerge covering the haphazard endgame of the american civil war via the haphazard actions of a young militia unformed in mind or manhood this is an ideal approach the film turns out to be about the formation of personalities adulthood and relationships lee also shows the beautiful panoramas of the mid south as a silent character enduring the strife like a hardy parent james schamus script is probably the standard bearer for this film close behind it are a number of well appointed performances that carry it admirably jeffrey wrights name alone could carry this film for me hes brilliant here but in a slow burning role instead we are treated to very good if not revelatory performances from a large often recognisable ensemble a noble optimistic film one to watch if you dont fancy the harder more bittersweet cold mountain or the claim for example 7 10'"
      ]
     },
     "execution_count": 8,
     "metadata": {},
     "output_type": "execute_result"
    }
   ],
   "source": [
    "review_to_words(train_X[100])"
   ]
  },
  {
   "cell_type": "code",
   "execution_count": 9,
   "metadata": {},
   "outputs": [],
   "source": [
    "import pickle\n",
    "\n",
    "cache_dir = os.path.join(\"../cache\", \"sentiment_web_app\")  # where to store cache files\n",
    "os.makedirs(cache_dir, exist_ok=True)  # ensure cache directory exists\n",
    "\n",
    "def preprocess_data(data_train, data_test, labels_train, labels_test,\n",
    "                    cache_dir=cache_dir, cache_file=\"preprocessed_data.pkl\"):\n",
    "    \"\"\"Convert each review to words; read from cache if available.\"\"\"\n",
    "\n",
    "    # If cache_file is not None, try to read from it first\n",
    "    cache_data = None\n",
    "    if cache_file is not None:\n",
    "        try:\n",
    "            with open(os.path.join(cache_dir, cache_file), \"rb\") as f:\n",
    "                cache_data = pickle.load(f)\n",
    "            print(\"Read preprocessed data from cache file:\", cache_file)\n",
    "        except:\n",
    "            pass  # unable to read from cache, but that's okay\n",
    "    \n",
    "    # If cache is missing, then do the heavy lifting\n",
    "    if cache_data is None:\n",
    "        # Preprocess training and test data to obtain words for each review\n",
    "        #words_train = list(map(review_to_words, data_train))\n",
    "        #words_test = list(map(review_to_words, data_test))\n",
    "        words_train = [review_to_words(review) for review in data_train]\n",
    "        words_test = [review_to_words(review) for review in data_test]\n",
    "        \n",
    "        # Write to cache file for future runs\n",
    "        if cache_file is not None:\n",
    "            cache_data = dict(words_train=words_train, words_test=words_test,\n",
    "                              labels_train=labels_train, labels_test=labels_test)\n",
    "            with open(os.path.join(cache_dir, cache_file), \"wb\") as f:\n",
    "                pickle.dump(cache_data, f)\n",
    "            print(\"Wrote preprocessed data to cache file:\", cache_file)\n",
    "    else:\n",
    "        # Unpack data loaded from cache file\n",
    "        words_train, words_test, labels_train, labels_test = (cache_data['words_train'],\n",
    "                cache_data['words_test'], cache_data['labels_train'], cache_data['labels_test'])\n",
    "    \n",
    "    return words_train, words_test, labels_train, labels_test"
   ]
  },
  {
   "cell_type": "code",
   "execution_count": 10,
   "metadata": {},
   "outputs": [
    {
     "name": "stdout",
     "output_type": "stream",
     "text": [
      "Read preprocessed data from cache file: preprocessed_data.pkl\n"
     ]
    }
   ],
   "source": [
    "# Preprocess data\n",
    "train_X, test_X, train_y, test_y = preprocess_data(train_X, test_X, train_y, test_y)"
   ]
  },
  {
   "cell_type": "markdown",
   "metadata": {},
   "source": [
    "### Extract Bag-of-Words features\n",
    "\n",
    "For the model we will be implementing, rather than using the reviews directly, we are going to transform each review into a Bag-of-Words feature representation. Keep in mind that 'in the wild' we will only have access to the training set so our transformer can only use the training set to construct a representation."
   ]
  },
  {
   "cell_type": "code",
   "execution_count": 11,
   "metadata": {},
   "outputs": [
    {
     "name": "stderr",
     "output_type": "stream",
     "text": [
      "/home/ec2-user/anaconda3/envs/python3/lib/python3.6/site-packages/sklearn/externals/joblib/__init__.py:15: FutureWarning: sklearn.externals.joblib is deprecated in 0.21 and will be removed in 0.23. Please import this functionality directly from joblib, which can be installed with: pip install joblib. If this warning is raised when loading pickled models, you may need to re-serialize those models with scikit-learn 0.21+.\n",
      "  warnings.warn(msg, category=FutureWarning)\n"
     ]
    }
   ],
   "source": [
    "import numpy as np\n",
    "from sklearn.feature_extraction.text import CountVectorizer\n",
    "from sklearn.externals import joblib\n",
    "# joblib is an enhanced version of pickle that is more efficient for storing NumPy arrays\n",
    "\n",
    "def extract_BoW_features(words_train, words_test, vocabulary_size=5000,\n",
    "                         cache_dir=cache_dir, cache_file=\"bow_features.pkl\"):\n",
    "    \"\"\"Extract Bag-of-Words for a given set of documents, already preprocessed into words.\"\"\"\n",
    "    \n",
    "    # If cache_file is not None, try to read from it first\n",
    "    cache_data = None\n",
    "    if cache_file is not None:\n",
    "        try:\n",
    "            with open(os.path.join(cache_dir, cache_file), \"rb\") as f:\n",
    "                cache_data = joblib.load(f)\n",
    "            print(\"Read features from cache file:\", cache_file)\n",
    "        except:\n",
    "            pass  # unable to read from cache, but that's okay\n",
    "    \n",
    "    # If cache is missing, then do the heavy lifting\n",
    "    if cache_data is None:\n",
    "        # Fit a vectorizer to training documents and use it to transform them\n",
    "        # NOTE: Training documents have already been preprocessed and tokenized into words;\n",
    "        #       pass in dummy functions to skip those steps, e.g. preprocessor=lambda x: x\n",
    "        vectorizer = CountVectorizer(max_features=vocabulary_size)\n",
    "        features_train = vectorizer.fit_transform(words_train).toarray()\n",
    "\n",
    "        # Apply the same vectorizer to transform the test documents (ignore unknown words)\n",
    "        features_test = vectorizer.transform(words_test).toarray()\n",
    "        \n",
    "        # NOTE: Remember to convert the features using .toarray() for a compact representation\n",
    "        \n",
    "        # Write to cache file for future runs (store vocabulary as well)\n",
    "        if cache_file is not None:\n",
    "            vocabulary = vectorizer.vocabulary_\n",
    "            cache_data = dict(features_train=features_train, features_test=features_test,\n",
    "                             vocabulary=vocabulary)\n",
    "            with open(os.path.join(cache_dir, cache_file), \"wb\") as f:\n",
    "                joblib.dump(cache_data, f)\n",
    "            print(\"Wrote features to cache file:\", cache_file)\n",
    "    else:\n",
    "        # Unpack data loaded from cache file\n",
    "        features_train, features_test, vocabulary = (cache_data['features_train'],\n",
    "                cache_data['features_test'], cache_data['vocabulary'])\n",
    "    \n",
    "    # Return both the extracted features as well as the vocabulary\n",
    "    return features_train, features_test, vocabulary"
   ]
  },
  {
   "cell_type": "code",
   "execution_count": 12,
   "metadata": {},
   "outputs": [
    {
     "name": "stdout",
     "output_type": "stream",
     "text": [
      "Read features from cache file: bow_features.pkl\n"
     ]
    }
   ],
   "source": [
    "# Extract Bag of Words features for both training and test datasets\n",
    "train_X, test_X, vocabulary = extract_BoW_features(train_X, test_X)"
   ]
  },
  {
   "cell_type": "code",
   "execution_count": 13,
   "metadata": {},
   "outputs": [
    {
     "data": {
      "text/plain": [
       "5000"
      ]
     },
     "execution_count": 13,
     "metadata": {},
     "output_type": "execute_result"
    }
   ],
   "source": [
    "len(train_X[100])"
   ]
  },
  {
   "cell_type": "markdown",
   "metadata": {},
   "source": [
    "## Step 3: Upload data to S3\n",
    "\n",
    "Now that we have created the feature representation of our training (and testing) data, it is time to start setting up and using the XGBoost classifier provided by SageMaker.\n",
    "\n",
    "### Writing the datasets\n",
    "\n",
    "The XGBoost classifier that we will be using requires the dataset to be written to a file and stored using Amazon S3. To do this, we will start by splitting the training dataset into two parts, the data we will train the model with and a validation set. Then, we will write those datasets to a file locally and then upload the files to S3. In addition, we will write the test set to a file and upload that file to S3. This is so that we can use SageMakers Batch Transform functionality to test our model once we've fit it."
   ]
  },
  {
   "cell_type": "code",
   "execution_count": 14,
   "metadata": {},
   "outputs": [],
   "source": [
    "import pandas as pd\n",
    "\n",
    "# Earlier we shuffled the training dataset so to make things simple we can just assign\n",
    "# the first 10 000 reviews to the validation set and use the remaining reviews for training.\n",
    "val_X = pd.DataFrame(train_X[:10000])\n",
    "train_X = pd.DataFrame(train_X[10000:])\n",
    "\n",
    "val_y = pd.DataFrame(train_y[:10000])\n",
    "train_y = pd.DataFrame(train_y[10000:])"
   ]
  },
  {
   "cell_type": "markdown",
   "metadata": {},
   "source": [
    "The documentation for the XGBoost algorithm in SageMaker requires that the training and validation datasets should contain no headers or index and that the label should occur first for each sample.\n",
    "\n",
    "For more information about this and other algorithms, the SageMaker developer documentation can be found on __[Amazon's website.](https://docs.aws.amazon.com/sagemaker/latest/dg/)__"
   ]
  },
  {
   "cell_type": "code",
   "execution_count": 15,
   "metadata": {},
   "outputs": [],
   "source": [
    "# First we make sure that the local directory in which we'd like to store the training and validation csv files exists.\n",
    "data_dir = '../data/sentiment_web_app'\n",
    "if not os.path.exists(data_dir):\n",
    "    os.makedirs(data_dir)"
   ]
  },
  {
   "cell_type": "code",
   "execution_count": 16,
   "metadata": {},
   "outputs": [],
   "source": [
    "pd.DataFrame(test_X).to_csv(os.path.join(data_dir, 'test.csv'), header=False, index=False)\n",
    "\n",
    "pd.concat([val_y, val_X], axis=1).to_csv(os.path.join(data_dir, 'validation.csv'), header=False, index=False)\n",
    "pd.concat([train_y, train_X], axis=1).to_csv(os.path.join(data_dir, 'train.csv'), header=False, index=False)"
   ]
  },
  {
   "cell_type": "code",
   "execution_count": 17,
   "metadata": {},
   "outputs": [],
   "source": [
    "# To save a bit of memory we can set text_X, train_X, val_X, train_y and val_y to None.\n",
    "\n",
    "test_X = train_X = val_X = train_y = val_y = None"
   ]
  },
  {
   "cell_type": "markdown",
   "metadata": {},
   "source": [
    "### Uploading Training / Validation files to S3\n",
    "\n",
    "Amazon's S3 service allows us to store files that can be accessed by both the built-in training models such as the XGBoost model we will be using as well as custom models such as the one we will see a little later.\n",
    "\n",
    "For this and most other tasks we will be doing using SageMaker, there are two methods we could use. The first is to use the low level functionality of SageMaker which requires knowing each of the objects involved in the SageMaker environment. The second is to use the high level functionality in which certain choices have been made on the user's behalf. The low level approach benefits from allowing the user a great deal of flexibility while the high level approach makes development much quicker. For our purposes we will opt to use the high level approach although using the low-level approach is certainly an option.\n",
    "\n",
    "Recall the method `upload_data()` which is a member of the object representing our current SageMaker session. What this method does is upload the data to the default bucket (which is created if it does not exist) into the path described by the key_prefix variable. To see this for yourself, once you have uploaded the data files, go to the S3 console and look to see where the files have been uploaded.\n",
    "\n",
    "For additional resources, see the __[SageMaker API documentation](http://sagemaker.readthedocs.io/en/latest/)__ and in addition the __[SageMaker Developer Guide.](https://docs.aws.amazon.com/sagemaker/latest/dg/)__"
   ]
  },
  {
   "cell_type": "code",
   "execution_count": 18,
   "metadata": {},
   "outputs": [],
   "source": [
    "import sagemaker\n",
    "\n",
    "session = sagemaker.Session() # Store the current SageMaker session\n",
    "\n",
    "# S3 prefix (which folder will we use)\n",
    "prefix = 'sentiment-web-app'\n",
    "\n",
    "test_location = session.upload_data(os.path.join(data_dir, 'test.csv'), key_prefix=prefix)\n",
    "val_location = session.upload_data(os.path.join(data_dir, 'validation.csv'), key_prefix=prefix)\n",
    "train_location = session.upload_data(os.path.join(data_dir, 'train.csv'), key_prefix=prefix)"
   ]
  },
  {
   "cell_type": "markdown",
   "metadata": {},
   "source": [
    "## Step 4: Creating the XGBoost model\n",
    "\n",
    "Now that the data has been uploaded it is time to create the XGBoost model. To begin with, we need to do some setup. At this point it is worth discussing what a model is in SageMaker. It is easiest to think of a model of comprising three different objects in the SageMaker ecosystem, which interact with one another.\n",
    "\n",
    "- Model Artifacts\n",
    "- Training Code (Container)\n",
    "- Inference Code (Container)\n",
    "\n",
    "The Model Artifacts are what you might think of as the actual model itself. For example, if you were building a neural network, the model artifacts would be the weights of the various layers. In our case, for an XGBoost model, the artifacts are the actual trees that are created during training.\n",
    "\n",
    "The other two objects, the training code and the inference code are then used to manipulate the training artifacts. More precisely, the training code uses the training data that is provided and creates the model artifacts, while the inference code uses the model artifacts to make predictions on new data.\n",
    "\n",
    "The way that SageMaker runs the training and inference code is by making use of Docker containers. For now, think of a container as being a way of packaging code up so that dependencies aren't an issue."
   ]
  },
  {
   "cell_type": "code",
   "execution_count": 19,
   "metadata": {},
   "outputs": [],
   "source": [
    "from sagemaker import get_execution_role\n",
    "\n",
    "# Our current execution role is required when creating the model as the training\n",
    "# and inference code will need to access the model artifacts.\n",
    "role = get_execution_role()"
   ]
  },
  {
   "cell_type": "code",
   "execution_count": 20,
   "metadata": {},
   "outputs": [
    {
     "name": "stderr",
     "output_type": "stream",
     "text": [
      "'get_image_uri' method will be deprecated in favor of 'ImageURIProvider' class in SageMaker Python SDK v2.\n",
      "There is a more up to date SageMaker XGBoost image. To use the newer image, please set 'repo_version'='1.0-1'. For example:\n",
      "\tget_image_uri(region, 'xgboost', '1.0-1').\n"
     ]
    }
   ],
   "source": [
    "# We need to retrieve the location of the container which is provided by Amazon for using XGBoost.\n",
    "# As a matter of convenience, the training and inference code both use the same container.\n",
    "from sagemaker.amazon.amazon_estimator import get_image_uri\n",
    "\n",
    "container = get_image_uri(session.boto_region_name, 'xgboost')"
   ]
  },
  {
   "cell_type": "code",
   "execution_count": 21,
   "metadata": {},
   "outputs": [
    {
     "name": "stderr",
     "output_type": "stream",
     "text": [
      "Parameter image_name will be renamed to image_uri in SageMaker Python SDK v2.\n"
     ]
    }
   ],
   "source": [
    "# First we create a SageMaker estimator object for our model.\n",
    "xgb = sagemaker.estimator.Estimator(container, # The location of the container we wish to use\n",
    "                                    role,                                    # What is our current IAM Role\n",
    "                                    train_instance_count=1,                  # How many compute instances\n",
    "                                    train_instance_type='ml.m4.xlarge',      # What kind of compute instances\n",
    "                                    output_path='s3://{}/{}/output'.format(session.default_bucket(), prefix),\n",
    "                                    sagemaker_session=session)\n",
    "\n",
    "# And then set the algorithm specific parameters.\n",
    "xgb.set_hyperparameters(max_depth=5,\n",
    "                        eta=0.2,\n",
    "                        gamma=4,\n",
    "                        min_child_weight=6,\n",
    "                        subsample=0.8,\n",
    "                        silent=0,\n",
    "                        objective='binary:logistic',\n",
    "                        early_stopping_rounds=10,\n",
    "                        num_round=500)"
   ]
  },
  {
   "cell_type": "markdown",
   "metadata": {},
   "source": [
    "### Fit the XGBoost model\n",
    "\n",
    "Now that our model has been set up we simply need to attach the training and validation datasets and then ask SageMaker to set up the computation."
   ]
  },
  {
   "cell_type": "code",
   "execution_count": 22,
   "metadata": {},
   "outputs": [
    {
     "name": "stderr",
     "output_type": "stream",
     "text": [
      "'s3_input' class will be renamed to 'TrainingInput' in SageMaker Python SDK v2.\n",
      "'s3_input' class will be renamed to 'TrainingInput' in SageMaker Python SDK v2.\n"
     ]
    }
   ],
   "source": [
    "s3_input_train = sagemaker.s3_input(s3_data=train_location, content_type='csv')\n",
    "s3_input_validation = sagemaker.s3_input(s3_data=val_location, content_type='csv')"
   ]
  },
  {
   "cell_type": "code",
   "execution_count": 23,
   "metadata": {},
   "outputs": [
    {
     "name": "stdout",
     "output_type": "stream",
     "text": [
      "2020-08-03 06:55:21 Starting - Starting the training job...\n",
      "2020-08-03 06:55:23 Starting - Launching requested ML instances......\n",
      "2020-08-03 06:56:26 Starting - Preparing the instances for training......\n",
      "2020-08-03 06:57:38 Downloading - Downloading input data...\n",
      "2020-08-03 06:58:12 Training - Downloading the training image..\u001b[34mArguments: train\u001b[0m\n",
      "\u001b[34m[2020-08-03:06:58:31:INFO] Running standalone xgboost training.\u001b[0m\n",
      "\u001b[34m[2020-08-03:06:58:31:INFO] File size need to be processed in the node: 238.5mb. Available memory size in the node: 8493.16mb\u001b[0m\n",
      "\u001b[34m[2020-08-03:06:58:31:INFO] Determined delimiter of CSV input is ','\u001b[0m\n",
      "\u001b[34m[06:58:31] S3DistributionType set as FullyReplicated\u001b[0m\n",
      "\u001b[34m[06:58:33] 15000x5000 matrix with 75000000 entries loaded from /opt/ml/input/data/train?format=csv&label_column=0&delimiter=,\u001b[0m\n",
      "\u001b[34m[2020-08-03:06:58:33:INFO] Determined delimiter of CSV input is ','\u001b[0m\n",
      "\u001b[34m[06:58:33] S3DistributionType set as FullyReplicated\u001b[0m\n",
      "\u001b[34m[06:58:34] 10000x5000 matrix with 50000000 entries loaded from /opt/ml/input/data/validation?format=csv&label_column=0&delimiter=,\u001b[0m\n",
      "\u001b[34m[06:58:38] src/tree/updater_prune.cc:74: tree pruning end, 1 roots, 44 extra nodes, 4 pruned nodes, max_depth=5\u001b[0m\n",
      "\u001b[34m[0]#011train-error:0.306667#011validation-error:0.3104\u001b[0m\n",
      "\u001b[34mMultiple eval metrics have been passed: 'validation-error' will be used for early stopping.\n",
      "\u001b[0m\n",
      "\u001b[34mWill train until validation-error hasn't improved in 10 rounds.\u001b[0m\n",
      "\n",
      "2020-08-03 06:58:31 Training - Training image download completed. Training in progress.\u001b[34m[06:58:39] src/tree/updater_prune.cc:74: tree pruning end, 1 roots, 34 extra nodes, 12 pruned nodes, max_depth=5\u001b[0m\n",
      "\u001b[34m[1]#011train-error:0.289933#011validation-error:0.297\u001b[0m\n",
      "\u001b[34m[06:58:40] src/tree/updater_prune.cc:74: tree pruning end, 1 roots, 50 extra nodes, 4 pruned nodes, max_depth=5\u001b[0m\n",
      "\u001b[34m[2]#011train-error:0.289533#011validation-error:0.2951\u001b[0m\n",
      "\u001b[34m[06:58:42] src/tree/updater_prune.cc:74: tree pruning end, 1 roots, 30 extra nodes, 6 pruned nodes, max_depth=5\u001b[0m\n",
      "\u001b[34m[3]#011train-error:0.263467#011validation-error:0.2745\u001b[0m\n",
      "\u001b[34m[06:58:43] src/tree/updater_prune.cc:74: tree pruning end, 1 roots, 46 extra nodes, 0 pruned nodes, max_depth=5\u001b[0m\n",
      "\u001b[34m[4]#011train-error:0.2602#011validation-error:0.2736\u001b[0m\n",
      "\u001b[34m[06:58:45] src/tree/updater_prune.cc:74: tree pruning end, 1 roots, 34 extra nodes, 6 pruned nodes, max_depth=5\u001b[0m\n",
      "\u001b[34m[5]#011train-error:0.257867#011validation-error:0.2705\u001b[0m\n",
      "\u001b[34m[06:58:46] src/tree/updater_prune.cc:74: tree pruning end, 1 roots, 36 extra nodes, 8 pruned nodes, max_depth=5\u001b[0m\n",
      "\u001b[34m[6]#011train-error:0.247667#011validation-error:0.2613\u001b[0m\n",
      "\u001b[34m[06:58:47] src/tree/updater_prune.cc:74: tree pruning end, 1 roots, 28 extra nodes, 10 pruned nodes, max_depth=5\u001b[0m\n",
      "\u001b[34m[7]#011train-error:0.244333#011validation-error:0.2603\u001b[0m\n",
      "\u001b[34m[06:58:49] src/tree/updater_prune.cc:74: tree pruning end, 1 roots, 36 extra nodes, 6 pruned nodes, max_depth=5\u001b[0m\n",
      "\u001b[34m[8]#011train-error:0.230267#011validation-error:0.2513\u001b[0m\n",
      "\u001b[34m[06:58:50] src/tree/updater_prune.cc:74: tree pruning end, 1 roots, 34 extra nodes, 6 pruned nodes, max_depth=5\u001b[0m\n",
      "\u001b[34m[9]#011train-error:0.2262#011validation-error:0.2475\u001b[0m\n",
      "\u001b[34m[06:58:51] src/tree/updater_prune.cc:74: tree pruning end, 1 roots, 34 extra nodes, 4 pruned nodes, max_depth=5\u001b[0m\n",
      "\u001b[34m[10]#011train-error:0.217133#011validation-error:0.2406\u001b[0m\n",
      "\u001b[34m[06:58:52] src/tree/updater_prune.cc:74: tree pruning end, 1 roots, 24 extra nodes, 14 pruned nodes, max_depth=5\u001b[0m\n",
      "\u001b[34m[11]#011train-error:0.213067#011validation-error:0.2375\u001b[0m\n",
      "\u001b[34m[06:58:54] src/tree/updater_prune.cc:74: tree pruning end, 1 roots, 30 extra nodes, 6 pruned nodes, max_depth=5\u001b[0m\n",
      "\u001b[34m[12]#011train-error:0.211267#011validation-error:0.2355\u001b[0m\n",
      "\u001b[34m[06:58:55] src/tree/updater_prune.cc:74: tree pruning end, 1 roots, 26 extra nodes, 8 pruned nodes, max_depth=5\u001b[0m\n",
      "\u001b[34m[13]#011train-error:0.207#011validation-error:0.2318\u001b[0m\n",
      "\u001b[34m[06:58:56] src/tree/updater_prune.cc:74: tree pruning end, 1 roots, 34 extra nodes, 4 pruned nodes, max_depth=5\u001b[0m\n",
      "\u001b[34m[14]#011train-error:0.201267#011validation-error:0.2276\u001b[0m\n",
      "\u001b[34m[06:58:58] src/tree/updater_prune.cc:74: tree pruning end, 1 roots, 26 extra nodes, 8 pruned nodes, max_depth=5\u001b[0m\n",
      "\u001b[34m[15]#011train-error:0.201133#011validation-error:0.2253\u001b[0m\n",
      "\u001b[34m[06:58:59] src/tree/updater_prune.cc:74: tree pruning end, 1 roots, 44 extra nodes, 4 pruned nodes, max_depth=5\u001b[0m\n",
      "\u001b[34m[16]#011train-error:0.196333#011validation-error:0.2203\u001b[0m\n",
      "\u001b[34m[06:59:00] src/tree/updater_prune.cc:74: tree pruning end, 1 roots, 44 extra nodes, 4 pruned nodes, max_depth=5\u001b[0m\n",
      "\u001b[34m[17]#011train-error:0.1912#011validation-error:0.2178\u001b[0m\n",
      "\u001b[34m[06:59:01] src/tree/updater_prune.cc:74: tree pruning end, 1 roots, 36 extra nodes, 10 pruned nodes, max_depth=5\u001b[0m\n",
      "\u001b[34m[18]#011train-error:0.185933#011validation-error:0.2147\u001b[0m\n",
      "\u001b[34m[06:59:03] src/tree/updater_prune.cc:74: tree pruning end, 1 roots, 46 extra nodes, 2 pruned nodes, max_depth=5\u001b[0m\n",
      "\u001b[34m[19]#011train-error:0.184267#011validation-error:0.2165\u001b[0m\n",
      "\u001b[34m[06:59:04] src/tree/updater_prune.cc:74: tree pruning end, 1 roots, 32 extra nodes, 6 pruned nodes, max_depth=5\u001b[0m\n",
      "\u001b[34m[20]#011train-error:0.181133#011validation-error:0.2118\u001b[0m\n",
      "\u001b[34m[06:59:05] src/tree/updater_prune.cc:74: tree pruning end, 1 roots, 24 extra nodes, 6 pruned nodes, max_depth=5\u001b[0m\n",
      "\u001b[34m[21]#011train-error:0.178933#011validation-error:0.2094\u001b[0m\n",
      "\u001b[34m[06:59:07] src/tree/updater_prune.cc:74: tree pruning end, 1 roots, 26 extra nodes, 12 pruned nodes, max_depth=5\u001b[0m\n",
      "\u001b[34m[22]#011train-error:0.176533#011validation-error:0.2092\u001b[0m\n",
      "\u001b[34m[06:59:08] src/tree/updater_prune.cc:74: tree pruning end, 1 roots, 24 extra nodes, 8 pruned nodes, max_depth=5\u001b[0m\n",
      "\u001b[34m[23]#011train-error:0.174267#011validation-error:0.2064\u001b[0m\n",
      "\u001b[34m[06:59:09] src/tree/updater_prune.cc:74: tree pruning end, 1 roots, 38 extra nodes, 4 pruned nodes, max_depth=5\u001b[0m\n",
      "\u001b[34m[24]#011train-error:0.1694#011validation-error:0.2048\u001b[0m\n",
      "\u001b[34m[06:59:10] src/tree/updater_prune.cc:74: tree pruning end, 1 roots, 22 extra nodes, 8 pruned nodes, max_depth=5\u001b[0m\n",
      "\u001b[34m[25]#011train-error:0.169467#011validation-error:0.204\u001b[0m\n",
      "\u001b[34m[06:59:12] src/tree/updater_prune.cc:74: tree pruning end, 1 roots, 34 extra nodes, 4 pruned nodes, max_depth=5\u001b[0m\n",
      "\u001b[34m[26]#011train-error:0.167467#011validation-error:0.2034\u001b[0m\n",
      "\u001b[34m[06:59:13] src/tree/updater_prune.cc:74: tree pruning end, 1 roots, 16 extra nodes, 8 pruned nodes, max_depth=5\u001b[0m\n",
      "\u001b[34m[27]#011train-error:0.165733#011validation-error:0.2019\u001b[0m\n",
      "\u001b[34m[06:59:14] src/tree/updater_prune.cc:74: tree pruning end, 1 roots, 14 extra nodes, 8 pruned nodes, max_depth=5\u001b[0m\n",
      "\u001b[34m[28]#011train-error:0.164933#011validation-error:0.2021\u001b[0m\n",
      "\u001b[34m[06:59:16] src/tree/updater_prune.cc:74: tree pruning end, 1 roots, 38 extra nodes, 8 pruned nodes, max_depth=5\u001b[0m\n",
      "\u001b[34m[29]#011train-error:0.162067#011validation-error:0.2036\u001b[0m\n",
      "\u001b[34m[06:59:17] src/tree/updater_prune.cc:74: tree pruning end, 1 roots, 32 extra nodes, 8 pruned nodes, max_depth=5\u001b[0m\n",
      "\u001b[34m[30]#011train-error:0.160133#011validation-error:0.2021\u001b[0m\n",
      "\u001b[34m[06:59:18] src/tree/updater_prune.cc:74: tree pruning end, 1 roots, 16 extra nodes, 14 pruned nodes, max_depth=5\u001b[0m\n",
      "\u001b[34m[31]#011train-error:0.159467#011validation-error:0.1995\u001b[0m\n",
      "\u001b[34m[06:59:19] src/tree/updater_prune.cc:74: tree pruning end, 1 roots, 22 extra nodes, 12 pruned nodes, max_depth=5\u001b[0m\n",
      "\u001b[34m[32]#011train-error:0.1588#011validation-error:0.1986\u001b[0m\n",
      "\u001b[34m[06:59:21] src/tree/updater_prune.cc:74: tree pruning end, 1 roots, 24 extra nodes, 10 pruned nodes, max_depth=5\u001b[0m\n",
      "\u001b[34m[33]#011train-error:0.157267#011validation-error:0.1961\u001b[0m\n",
      "\u001b[34m[06:59:22] src/tree/updater_prune.cc:74: tree pruning end, 1 roots, 22 extra nodes, 4 pruned nodes, max_depth=5\u001b[0m\n",
      "\u001b[34m[34]#011train-error:0.155333#011validation-error:0.1945\u001b[0m\n",
      "\u001b[34m[06:59:23] src/tree/updater_prune.cc:74: tree pruning end, 1 roots, 44 extra nodes, 10 pruned nodes, max_depth=5\u001b[0m\n",
      "\u001b[34m[35]#011train-error:0.152267#011validation-error:0.1936\u001b[0m\n",
      "\u001b[34m[06:59:25] src/tree/updater_prune.cc:74: tree pruning end, 1 roots, 28 extra nodes, 8 pruned nodes, max_depth=5\u001b[0m\n",
      "\u001b[34m[36]#011train-error:0.151#011validation-error:0.1935\u001b[0m\n",
      "\u001b[34m[06:59:26] src/tree/updater_prune.cc:74: tree pruning end, 1 roots, 18 extra nodes, 2 pruned nodes, max_depth=5\u001b[0m\n",
      "\u001b[34m[37]#011train-error:0.15#011validation-error:0.1926\u001b[0m\n",
      "\u001b[34m[06:59:27] src/tree/updater_prune.cc:74: tree pruning end, 1 roots, 36 extra nodes, 2 pruned nodes, max_depth=5\u001b[0m\n",
      "\u001b[34m[38]#011train-error:0.148133#011validation-error:0.1909\u001b[0m\n",
      "\u001b[34m[06:59:28] src/tree/updater_prune.cc:74: tree pruning end, 1 roots, 26 extra nodes, 8 pruned nodes, max_depth=5\u001b[0m\n",
      "\u001b[34m[39]#011train-error:0.146467#011validation-error:0.1905\u001b[0m\n",
      "\u001b[34m[06:59:30] src/tree/updater_prune.cc:74: tree pruning end, 1 roots, 22 extra nodes, 10 pruned nodes, max_depth=5\u001b[0m\n",
      "\u001b[34m[40]#011train-error:0.145933#011validation-error:0.1887\u001b[0m\n"
     ]
    },
    {
     "name": "stdout",
     "output_type": "stream",
     "text": [
      "\u001b[34m[06:59:31] src/tree/updater_prune.cc:74: tree pruning end, 1 roots, 12 extra nodes, 20 pruned nodes, max_depth=5\u001b[0m\n",
      "\u001b[34m[41]#011train-error:0.1452#011validation-error:0.1877\u001b[0m\n",
      "\u001b[34m[06:59:32] src/tree/updater_prune.cc:74: tree pruning end, 1 roots, 34 extra nodes, 6 pruned nodes, max_depth=5\u001b[0m\n",
      "\u001b[34m[42]#011train-error:0.1442#011validation-error:0.1881\u001b[0m\n",
      "\u001b[34m[06:59:33] src/tree/updater_prune.cc:74: tree pruning end, 1 roots, 18 extra nodes, 10 pruned nodes, max_depth=5\u001b[0m\n",
      "\u001b[34m[43]#011train-error:0.142467#011validation-error:0.1861\u001b[0m\n",
      "\u001b[34m[06:59:35] src/tree/updater_prune.cc:74: tree pruning end, 1 roots, 24 extra nodes, 8 pruned nodes, max_depth=5\u001b[0m\n",
      "\u001b[34m[44]#011train-error:0.1404#011validation-error:0.1855\u001b[0m\n",
      "\u001b[34m[06:59:36] src/tree/updater_prune.cc:74: tree pruning end, 1 roots, 32 extra nodes, 16 pruned nodes, max_depth=5\u001b[0m\n",
      "\u001b[34m[45]#011train-error:0.1394#011validation-error:0.184\u001b[0m\n",
      "\u001b[34m[06:59:37] src/tree/updater_prune.cc:74: tree pruning end, 1 roots, 26 extra nodes, 18 pruned nodes, max_depth=5\u001b[0m\n",
      "\u001b[34m[46]#011train-error:0.138333#011validation-error:0.1834\u001b[0m\n",
      "\u001b[34m[06:59:39] src/tree/updater_prune.cc:74: tree pruning end, 1 roots, 30 extra nodes, 4 pruned nodes, max_depth=5\u001b[0m\n",
      "\u001b[34m[47]#011train-error:0.137467#011validation-error:0.1809\u001b[0m\n",
      "\u001b[34m[06:59:40] src/tree/updater_prune.cc:74: tree pruning end, 1 roots, 26 extra nodes, 8 pruned nodes, max_depth=5\u001b[0m\n",
      "\u001b[34m[48]#011train-error:0.1368#011validation-error:0.1805\u001b[0m\n",
      "\u001b[34m[06:59:41] src/tree/updater_prune.cc:74: tree pruning end, 1 roots, 34 extra nodes, 10 pruned nodes, max_depth=5\u001b[0m\n",
      "\u001b[34m[49]#011train-error:0.1344#011validation-error:0.1807\u001b[0m\n",
      "\u001b[34m[06:59:42] src/tree/updater_prune.cc:74: tree pruning end, 1 roots, 26 extra nodes, 10 pruned nodes, max_depth=5\u001b[0m\n",
      "\u001b[34m[50]#011train-error:0.133667#011validation-error:0.1803\u001b[0m\n",
      "\u001b[34m[06:59:44] src/tree/updater_prune.cc:74: tree pruning end, 1 roots, 12 extra nodes, 4 pruned nodes, max_depth=5\u001b[0m\n",
      "\u001b[34m[51]#011train-error:0.132867#011validation-error:0.1797\u001b[0m\n",
      "\u001b[34m[06:59:45] src/tree/updater_prune.cc:74: tree pruning end, 1 roots, 20 extra nodes, 14 pruned nodes, max_depth=5\u001b[0m\n",
      "\u001b[34m[52]#011train-error:0.131867#011validation-error:0.1798\u001b[0m\n",
      "\u001b[34m[06:59:46] src/tree/updater_prune.cc:74: tree pruning end, 1 roots, 16 extra nodes, 12 pruned nodes, max_depth=5\u001b[0m\n",
      "\u001b[34m[53]#011train-error:0.1312#011validation-error:0.1785\u001b[0m\n",
      "\u001b[34m[06:59:47] src/tree/updater_prune.cc:74: tree pruning end, 1 roots, 34 extra nodes, 8 pruned nodes, max_depth=5\u001b[0m\n",
      "\u001b[34m[54]#011train-error:0.128667#011validation-error:0.1778\u001b[0m\n",
      "\u001b[34m[06:59:49] src/tree/updater_prune.cc:74: tree pruning end, 1 roots, 26 extra nodes, 10 pruned nodes, max_depth=5\u001b[0m\n",
      "\u001b[34m[55]#011train-error:0.127933#011validation-error:0.1767\u001b[0m\n",
      "\u001b[34m[06:59:50] src/tree/updater_prune.cc:74: tree pruning end, 1 roots, 26 extra nodes, 8 pruned nodes, max_depth=5\u001b[0m\n",
      "\u001b[34m[56]#011train-error:0.127#011validation-error:0.1756\u001b[0m\n",
      "\u001b[34m[06:59:51] src/tree/updater_prune.cc:74: tree pruning end, 1 roots, 18 extra nodes, 4 pruned nodes, max_depth=5\u001b[0m\n",
      "\u001b[34m[57]#011train-error:0.125733#011validation-error:0.1751\u001b[0m\n",
      "\u001b[34m[06:59:52] src/tree/updater_prune.cc:74: tree pruning end, 1 roots, 28 extra nodes, 8 pruned nodes, max_depth=5\u001b[0m\n",
      "\u001b[34m[58]#011train-error:0.125533#011validation-error:0.1747\u001b[0m\n",
      "\u001b[34m[06:59:54] src/tree/updater_prune.cc:74: tree pruning end, 1 roots, 32 extra nodes, 6 pruned nodes, max_depth=5\u001b[0m\n",
      "\u001b[34m[59]#011train-error:0.124333#011validation-error:0.1746\u001b[0m\n",
      "\u001b[34m[06:59:55] src/tree/updater_prune.cc:74: tree pruning end, 1 roots, 22 extra nodes, 14 pruned nodes, max_depth=5\u001b[0m\n",
      "\u001b[34m[60]#011train-error:0.1238#011validation-error:0.1738\u001b[0m\n",
      "\u001b[34m[06:59:56] src/tree/updater_prune.cc:74: tree pruning end, 1 roots, 28 extra nodes, 4 pruned nodes, max_depth=5\u001b[0m\n",
      "\u001b[34m[61]#011train-error:0.122733#011validation-error:0.1736\u001b[0m\n",
      "\u001b[34m[06:59:58] src/tree/updater_prune.cc:74: tree pruning end, 1 roots, 16 extra nodes, 6 pruned nodes, max_depth=5\u001b[0m\n",
      "\u001b[34m[62]#011train-error:0.1222#011validation-error:0.174\u001b[0m\n",
      "\u001b[34m[06:59:59] src/tree/updater_prune.cc:74: tree pruning end, 1 roots, 14 extra nodes, 8 pruned nodes, max_depth=5\u001b[0m\n",
      "\u001b[34m[63]#011train-error:0.122#011validation-error:0.1728\u001b[0m\n",
      "\u001b[34m[07:00:00] src/tree/updater_prune.cc:74: tree pruning end, 1 roots, 16 extra nodes, 8 pruned nodes, max_depth=5\u001b[0m\n",
      "\u001b[34m[64]#011train-error:0.1216#011validation-error:0.1723\u001b[0m\n",
      "\u001b[34m[07:00:01] src/tree/updater_prune.cc:74: tree pruning end, 1 roots, 24 extra nodes, 4 pruned nodes, max_depth=5\u001b[0m\n",
      "\u001b[34m[65]#011train-error:0.1206#011validation-error:0.1724\u001b[0m\n",
      "\u001b[34m[07:00:03] src/tree/updater_prune.cc:74: tree pruning end, 1 roots, 30 extra nodes, 14 pruned nodes, max_depth=5\u001b[0m\n",
      "\u001b[34m[66]#011train-error:0.118#011validation-error:0.1716\u001b[0m\n",
      "\u001b[34m[07:00:04] src/tree/updater_prune.cc:74: tree pruning end, 1 roots, 24 extra nodes, 4 pruned nodes, max_depth=5\u001b[0m\n",
      "\u001b[34m[67]#011train-error:0.1178#011validation-error:0.1714\u001b[0m\n",
      "\u001b[34m[07:00:05] src/tree/updater_prune.cc:74: tree pruning end, 1 roots, 16 extra nodes, 12 pruned nodes, max_depth=5\u001b[0m\n",
      "\u001b[34m[68]#011train-error:0.117267#011validation-error:0.1713\u001b[0m\n",
      "\u001b[34m[07:00:07] src/tree/updater_prune.cc:74: tree pruning end, 1 roots, 38 extra nodes, 6 pruned nodes, max_depth=5\u001b[0m\n",
      "\u001b[34m[69]#011train-error:0.116#011validation-error:0.169\u001b[0m\n",
      "\u001b[34m[07:00:08] src/tree/updater_prune.cc:74: tree pruning end, 1 roots, 18 extra nodes, 14 pruned nodes, max_depth=5\u001b[0m\n",
      "\u001b[34m[70]#011train-error:0.115667#011validation-error:0.1686\u001b[0m\n",
      "\u001b[34m[07:00:09] src/tree/updater_prune.cc:74: tree pruning end, 1 roots, 16 extra nodes, 8 pruned nodes, max_depth=5\u001b[0m\n",
      "\u001b[34m[71]#011train-error:0.115#011validation-error:0.1681\u001b[0m\n",
      "\u001b[34m[07:00:10] src/tree/updater_prune.cc:74: tree pruning end, 1 roots, 30 extra nodes, 14 pruned nodes, max_depth=5\u001b[0m\n",
      "\u001b[34m[72]#011train-error:0.1146#011validation-error:0.1679\u001b[0m\n",
      "\u001b[34m[07:00:12] src/tree/updater_prune.cc:74: tree pruning end, 1 roots, 24 extra nodes, 4 pruned nodes, max_depth=5\u001b[0m\n",
      "\u001b[34m[73]#011train-error:0.1134#011validation-error:0.1685\u001b[0m\n",
      "\u001b[34m[07:00:13] src/tree/updater_prune.cc:74: tree pruning end, 1 roots, 20 extra nodes, 4 pruned nodes, max_depth=5\u001b[0m\n",
      "\u001b[34m[74]#011train-error:0.1122#011validation-error:0.1681\u001b[0m\n",
      "\u001b[34m[07:00:14] src/tree/updater_prune.cc:74: tree pruning end, 1 roots, 26 extra nodes, 8 pruned nodes, max_depth=5\u001b[0m\n",
      "\u001b[34m[75]#011train-error:0.1116#011validation-error:0.1671\u001b[0m\n",
      "\u001b[34m[07:00:16] src/tree/updater_prune.cc:74: tree pruning end, 1 roots, 18 extra nodes, 6 pruned nodes, max_depth=5\u001b[0m\n",
      "\u001b[34m[76]#011train-error:0.111267#011validation-error:0.1664\u001b[0m\n",
      "\u001b[34m[07:00:17] src/tree/updater_prune.cc:74: tree pruning end, 1 roots, 16 extra nodes, 10 pruned nodes, max_depth=5\u001b[0m\n",
      "\u001b[34m[77]#011train-error:0.110933#011validation-error:0.1658\u001b[0m\n",
      "\u001b[34m[07:00:18] src/tree/updater_prune.cc:74: tree pruning end, 1 roots, 38 extra nodes, 10 pruned nodes, max_depth=5\u001b[0m\n",
      "\u001b[34m[78]#011train-error:0.110467#011validation-error:0.1649\u001b[0m\n",
      "\u001b[34m[07:00:19] src/tree/updater_prune.cc:74: tree pruning end, 1 roots, 12 extra nodes, 8 pruned nodes, max_depth=5\u001b[0m\n",
      "\u001b[34m[79]#011train-error:0.11#011validation-error:0.1645\u001b[0m\n",
      "\u001b[34m[07:00:21] src/tree/updater_prune.cc:74: tree pruning end, 1 roots, 14 extra nodes, 10 pruned nodes, max_depth=5\u001b[0m\n",
      "\u001b[34m[80]#011train-error:0.109467#011validation-error:0.1643\u001b[0m\n",
      "\u001b[34m[07:00:22] src/tree/updater_prune.cc:74: tree pruning end, 1 roots, 10 extra nodes, 10 pruned nodes, max_depth=5\u001b[0m\n",
      "\u001b[34m[81]#011train-error:0.1096#011validation-error:0.1639\u001b[0m\n",
      "\u001b[34m[07:00:23] src/tree/updater_prune.cc:74: tree pruning end, 1 roots, 14 extra nodes, 14 pruned nodes, max_depth=5\u001b[0m\n",
      "\u001b[34m[82]#011train-error:0.1092#011validation-error:0.1639\u001b[0m\n",
      "\u001b[34m[07:00:24] src/tree/updater_prune.cc:74: tree pruning end, 1 roots, 12 extra nodes, 6 pruned nodes, max_depth=5\u001b[0m\n",
      "\u001b[34m[83]#011train-error:0.1082#011validation-error:0.1632\u001b[0m\n",
      "\u001b[34m[07:00:26] src/tree/updater_prune.cc:74: tree pruning end, 1 roots, 18 extra nodes, 8 pruned nodes, max_depth=5\u001b[0m\n",
      "\u001b[34m[84]#011train-error:0.108267#011validation-error:0.1631\u001b[0m\n",
      "\u001b[34m[07:00:27] src/tree/updater_prune.cc:74: tree pruning end, 1 roots, 10 extra nodes, 4 pruned nodes, max_depth=5\u001b[0m\n",
      "\u001b[34m[85]#011train-error:0.107667#011validation-error:0.163\u001b[0m\n",
      "\u001b[34m[07:00:28] src/tree/updater_prune.cc:74: tree pruning end, 1 roots, 26 extra nodes, 16 pruned nodes, max_depth=5\u001b[0m\n",
      "\u001b[34m[86]#011train-error:0.1076#011validation-error:0.1622\u001b[0m\n",
      "\u001b[34m[07:00:30] src/tree/updater_prune.cc:74: tree pruning end, 1 roots, 14 extra nodes, 10 pruned nodes, max_depth=5\u001b[0m\n",
      "\u001b[34m[87]#011train-error:0.107067#011validation-error:0.1618\u001b[0m\n",
      "\u001b[34m[07:00:31] src/tree/updater_prune.cc:74: tree pruning end, 1 roots, 14 extra nodes, 8 pruned nodes, max_depth=5\u001b[0m\n",
      "\u001b[34m[88]#011train-error:0.106#011validation-error:0.1621\u001b[0m\n"
     ]
    },
    {
     "name": "stdout",
     "output_type": "stream",
     "text": [
      "\u001b[34m[07:00:32] src/tree/updater_prune.cc:74: tree pruning end, 1 roots, 24 extra nodes, 18 pruned nodes, max_depth=5\u001b[0m\n",
      "\u001b[34m[89]#011train-error:0.105733#011validation-error:0.1623\u001b[0m\n",
      "\u001b[34m[07:00:33] src/tree/updater_prune.cc:74: tree pruning end, 1 roots, 24 extra nodes, 8 pruned nodes, max_depth=5\u001b[0m\n",
      "\u001b[34m[90]#011train-error:0.104933#011validation-error:0.161\u001b[0m\n",
      "\u001b[34m[07:00:35] src/tree/updater_prune.cc:74: tree pruning end, 1 roots, 10 extra nodes, 6 pruned nodes, max_depth=5\u001b[0m\n",
      "\u001b[34m[91]#011train-error:0.1044#011validation-error:0.1607\u001b[0m\n",
      "\u001b[34m[07:00:36] src/tree/updater_prune.cc:74: tree pruning end, 1 roots, 16 extra nodes, 16 pruned nodes, max_depth=5\u001b[0m\n",
      "\u001b[34m[92]#011train-error:0.103267#011validation-error:0.1606\u001b[0m\n",
      "\u001b[34m[07:00:37] src/tree/updater_prune.cc:74: tree pruning end, 1 roots, 20 extra nodes, 12 pruned nodes, max_depth=5\u001b[0m\n",
      "\u001b[34m[93]#011train-error:0.103067#011validation-error:0.16\u001b[0m\n",
      "\u001b[34m[07:00:39] src/tree/updater_prune.cc:74: tree pruning end, 1 roots, 36 extra nodes, 8 pruned nodes, max_depth=5\u001b[0m\n",
      "\u001b[34m[94]#011train-error:0.101667#011validation-error:0.1587\u001b[0m\n",
      "\u001b[34m[07:00:40] src/tree/updater_prune.cc:74: tree pruning end, 1 roots, 20 extra nodes, 10 pruned nodes, max_depth=5\u001b[0m\n",
      "\u001b[34m[95]#011train-error:0.1012#011validation-error:0.1596\u001b[0m\n",
      "\u001b[34m[07:00:41] src/tree/updater_prune.cc:74: tree pruning end, 1 roots, 10 extra nodes, 6 pruned nodes, max_depth=5\u001b[0m\n",
      "\u001b[34m[96]#011train-error:0.100533#011validation-error:0.1595\u001b[0m\n",
      "\u001b[34m[07:00:42] src/tree/updater_prune.cc:74: tree pruning end, 1 roots, 18 extra nodes, 10 pruned nodes, max_depth=5\u001b[0m\n",
      "\u001b[34m[97]#011train-error:0.100733#011validation-error:0.1588\u001b[0m\n",
      "\u001b[34m[07:00:44] src/tree/updater_prune.cc:74: tree pruning end, 1 roots, 20 extra nodes, 8 pruned nodes, max_depth=5\u001b[0m\n",
      "\u001b[34m[98]#011train-error:0.0996#011validation-error:0.1577\u001b[0m\n",
      "\u001b[34m[07:00:45] src/tree/updater_prune.cc:74: tree pruning end, 1 roots, 24 extra nodes, 8 pruned nodes, max_depth=5\u001b[0m\n",
      "\u001b[34m[99]#011train-error:0.0986#011validation-error:0.1583\u001b[0m\n",
      "\u001b[34m[07:00:46] src/tree/updater_prune.cc:74: tree pruning end, 1 roots, 18 extra nodes, 10 pruned nodes, max_depth=5\u001b[0m\n",
      "\u001b[34m[100]#011train-error:0.097933#011validation-error:0.158\u001b[0m\n",
      "\u001b[34m[07:00:47] src/tree/updater_prune.cc:74: tree pruning end, 1 roots, 18 extra nodes, 12 pruned nodes, max_depth=5\u001b[0m\n",
      "\u001b[34m[101]#011train-error:0.0972#011validation-error:0.1569\u001b[0m\n",
      "\u001b[34m[07:00:49] src/tree/updater_prune.cc:74: tree pruning end, 1 roots, 22 extra nodes, 10 pruned nodes, max_depth=5\u001b[0m\n",
      "\u001b[34m[102]#011train-error:0.097533#011validation-error:0.1572\u001b[0m\n",
      "\u001b[34m[07:00:50] src/tree/updater_prune.cc:74: tree pruning end, 1 roots, 12 extra nodes, 16 pruned nodes, max_depth=5\u001b[0m\n",
      "\u001b[34m[103]#011train-error:0.097333#011validation-error:0.1573\u001b[0m\n",
      "\u001b[34m[07:00:51] src/tree/updater_prune.cc:74: tree pruning end, 1 roots, 18 extra nodes, 8 pruned nodes, max_depth=5\u001b[0m\n",
      "\u001b[34m[104]#011train-error:0.0964#011validation-error:0.1567\u001b[0m\n",
      "\u001b[34m[07:00:52] src/tree/updater_prune.cc:74: tree pruning end, 1 roots, 20 extra nodes, 12 pruned nodes, max_depth=5\u001b[0m\n",
      "\u001b[34m[105]#011train-error:0.096467#011validation-error:0.1567\u001b[0m\n",
      "\u001b[34m[07:00:54] src/tree/updater_prune.cc:74: tree pruning end, 1 roots, 16 extra nodes, 10 pruned nodes, max_depth=5\u001b[0m\n",
      "\u001b[34m[106]#011train-error:0.095333#011validation-error:0.1568\u001b[0m\n",
      "\u001b[34m[07:00:55] src/tree/updater_prune.cc:74: tree pruning end, 1 roots, 22 extra nodes, 6 pruned nodes, max_depth=5\u001b[0m\n",
      "\u001b[34m[107]#011train-error:0.095#011validation-error:0.1577\u001b[0m\n",
      "\u001b[34m[07:00:56] src/tree/updater_prune.cc:74: tree pruning end, 1 roots, 16 extra nodes, 14 pruned nodes, max_depth=5\u001b[0m\n",
      "\u001b[34m[108]#011train-error:0.095067#011validation-error:0.1564\u001b[0m\n",
      "\u001b[34m[07:00:58] src/tree/updater_prune.cc:74: tree pruning end, 1 roots, 12 extra nodes, 6 pruned nodes, max_depth=5\u001b[0m\n",
      "\u001b[34m[109]#011train-error:0.094133#011validation-error:0.1554\u001b[0m\n",
      "\u001b[34m[07:00:59] src/tree/updater_prune.cc:74: tree pruning end, 1 roots, 20 extra nodes, 10 pruned nodes, max_depth=5\u001b[0m\n",
      "\u001b[34m[110]#011train-error:0.094#011validation-error:0.1553\u001b[0m\n",
      "\u001b[34m[07:01:00] src/tree/updater_prune.cc:74: tree pruning end, 1 roots, 20 extra nodes, 10 pruned nodes, max_depth=5\u001b[0m\n",
      "\u001b[34m[111]#011train-error:0.093933#011validation-error:0.1534\u001b[0m\n",
      "\u001b[34m[07:01:01] src/tree/updater_prune.cc:74: tree pruning end, 1 roots, 36 extra nodes, 10 pruned nodes, max_depth=5\u001b[0m\n",
      "\u001b[34m[112]#011train-error:0.092267#011validation-error:0.1531\u001b[0m\n",
      "\u001b[34m[07:01:03] src/tree/updater_prune.cc:74: tree pruning end, 1 roots, 10 extra nodes, 4 pruned nodes, max_depth=5\u001b[0m\n",
      "\u001b[34m[113]#011train-error:0.092133#011validation-error:0.1532\u001b[0m\n",
      "\u001b[34m[07:01:04] src/tree/updater_prune.cc:74: tree pruning end, 1 roots, 16 extra nodes, 8 pruned nodes, max_depth=5\u001b[0m\n",
      "\u001b[34m[114]#011train-error:0.091533#011validation-error:0.1531\u001b[0m\n",
      "\u001b[34m[07:01:05] src/tree/updater_prune.cc:74: tree pruning end, 1 roots, 28 extra nodes, 16 pruned nodes, max_depth=5\u001b[0m\n",
      "\u001b[34m[115]#011train-error:0.091267#011validation-error:0.1531\u001b[0m\n",
      "\u001b[34m[07:01:07] src/tree/updater_prune.cc:74: tree pruning end, 1 roots, 14 extra nodes, 12 pruned nodes, max_depth=5\u001b[0m\n",
      "\u001b[34m[116]#011train-error:0.0916#011validation-error:0.1531\u001b[0m\n",
      "\u001b[34m[07:01:08] src/tree/updater_prune.cc:74: tree pruning end, 1 roots, 14 extra nodes, 8 pruned nodes, max_depth=5\u001b[0m\n",
      "\u001b[34m[117]#011train-error:0.091067#011validation-error:0.1529\u001b[0m\n",
      "\u001b[34m[07:01:09] src/tree/updater_prune.cc:74: tree pruning end, 1 roots, 16 extra nodes, 6 pruned nodes, max_depth=5\u001b[0m\n",
      "\u001b[34m[118]#011train-error:0.0908#011validation-error:0.1538\u001b[0m\n",
      "\u001b[34m[07:01:10] src/tree/updater_prune.cc:74: tree pruning end, 1 roots, 28 extra nodes, 8 pruned nodes, max_depth=5\u001b[0m\n",
      "\u001b[34m[119]#011train-error:0.0902#011validation-error:0.1528\u001b[0m\n",
      "\u001b[34m[07:01:12] src/tree/updater_prune.cc:74: tree pruning end, 1 roots, 12 extra nodes, 22 pruned nodes, max_depth=5\u001b[0m\n",
      "\u001b[34m[120]#011train-error:0.089333#011validation-error:0.1528\u001b[0m\n",
      "\u001b[34m[07:01:13] src/tree/updater_prune.cc:74: tree pruning end, 1 roots, 12 extra nodes, 12 pruned nodes, max_depth=5\u001b[0m\n",
      "\u001b[34m[121]#011train-error:0.089067#011validation-error:0.1527\u001b[0m\n",
      "\u001b[34m[07:01:14] src/tree/updater_prune.cc:74: tree pruning end, 1 roots, 10 extra nodes, 6 pruned nodes, max_depth=5\u001b[0m\n",
      "\u001b[34m[122]#011train-error:0.0892#011validation-error:0.1521\u001b[0m\n",
      "\u001b[34m[07:01:16] src/tree/updater_prune.cc:74: tree pruning end, 1 roots, 16 extra nodes, 8 pruned nodes, max_depth=5\u001b[0m\n",
      "\u001b[34m[123]#011train-error:0.088#011validation-error:0.1524\u001b[0m\n",
      "\u001b[34m[07:01:17] src/tree/updater_prune.cc:74: tree pruning end, 1 roots, 12 extra nodes, 14 pruned nodes, max_depth=5\u001b[0m\n",
      "\u001b[34m[124]#011train-error:0.0884#011validation-error:0.1522\u001b[0m\n",
      "\u001b[34m[07:01:18] src/tree/updater_prune.cc:74: tree pruning end, 1 roots, 10 extra nodes, 10 pruned nodes, max_depth=5\u001b[0m\n",
      "\u001b[34m[125]#011train-error:0.088267#011validation-error:0.1521\u001b[0m\n",
      "\u001b[34m[07:01:19] src/tree/updater_prune.cc:74: tree pruning end, 1 roots, 32 extra nodes, 10 pruned nodes, max_depth=5\u001b[0m\n",
      "\u001b[34m[126]#011train-error:0.088267#011validation-error:0.1513\u001b[0m\n",
      "\u001b[34m[07:01:21] src/tree/updater_prune.cc:74: tree pruning end, 1 roots, 10 extra nodes, 8 pruned nodes, max_depth=5\u001b[0m\n",
      "\u001b[34m[127]#011train-error:0.0878#011validation-error:0.1513\u001b[0m\n",
      "\u001b[34m[07:01:22] src/tree/updater_prune.cc:74: tree pruning end, 1 roots, 12 extra nodes, 8 pruned nodes, max_depth=5\u001b[0m\n",
      "\u001b[34m[128]#011train-error:0.087133#011validation-error:0.1513\u001b[0m\n",
      "\u001b[34m[07:01:23] src/tree/updater_prune.cc:74: tree pruning end, 1 roots, 12 extra nodes, 12 pruned nodes, max_depth=5\u001b[0m\n",
      "\u001b[34m[129]#011train-error:0.087#011validation-error:0.1507\u001b[0m\n",
      "\u001b[34m[07:01:25] src/tree/updater_prune.cc:74: tree pruning end, 1 roots, 12 extra nodes, 4 pruned nodes, max_depth=5\u001b[0m\n",
      "\u001b[34m[130]#011train-error:0.0868#011validation-error:0.1505\u001b[0m\n",
      "\u001b[34m[07:01:26] src/tree/updater_prune.cc:74: tree pruning end, 1 roots, 16 extra nodes, 6 pruned nodes, max_depth=5\u001b[0m\n",
      "\u001b[34m[131]#011train-error:0.086733#011validation-error:0.1501\u001b[0m\n",
      "\u001b[34m[07:01:27] src/tree/updater_prune.cc:74: tree pruning end, 1 roots, 12 extra nodes, 2 pruned nodes, max_depth=5\u001b[0m\n",
      "\u001b[34m[132]#011train-error:0.086667#011validation-error:0.1491\u001b[0m\n",
      "\u001b[34m[07:01:28] src/tree/updater_prune.cc:74: tree pruning end, 1 roots, 22 extra nodes, 2 pruned nodes, max_depth=5\u001b[0m\n",
      "\u001b[34m[133]#011train-error:0.086867#011validation-error:0.1491\u001b[0m\n",
      "\u001b[34m[07:01:30] src/tree/updater_prune.cc:74: tree pruning end, 1 roots, 10 extra nodes, 2 pruned nodes, max_depth=5\u001b[0m\n",
      "\u001b[34m[134]#011train-error:0.086667#011validation-error:0.1495\u001b[0m\n",
      "\u001b[34m[07:01:31] src/tree/updater_prune.cc:74: tree pruning end, 1 roots, 20 extra nodes, 6 pruned nodes, max_depth=5\u001b[0m\n",
      "\u001b[34m[135]#011train-error:0.086267#011validation-error:0.1491\u001b[0m\n",
      "\u001b[34m[07:01:32] src/tree/updater_prune.cc:74: tree pruning end, 1 roots, 16 extra nodes, 20 pruned nodes, max_depth=5\u001b[0m\n",
      "\u001b[34m[136]#011train-error:0.085733#011validation-error:0.1492\u001b[0m\n"
     ]
    },
    {
     "name": "stdout",
     "output_type": "stream",
     "text": [
      "\u001b[34m[07:01:34] src/tree/updater_prune.cc:74: tree pruning end, 1 roots, 18 extra nodes, 8 pruned nodes, max_depth=5\u001b[0m\n",
      "\u001b[34m[137]#011train-error:0.085533#011validation-error:0.1492\u001b[0m\n",
      "\u001b[34m[07:01:35] src/tree/updater_prune.cc:74: tree pruning end, 1 roots, 10 extra nodes, 10 pruned nodes, max_depth=5\u001b[0m\n",
      "\u001b[34m[138]#011train-error:0.0852#011validation-error:0.149\u001b[0m\n",
      "\u001b[34m[07:01:36] src/tree/updater_prune.cc:74: tree pruning end, 1 roots, 14 extra nodes, 10 pruned nodes, max_depth=5\u001b[0m\n",
      "\u001b[34m[139]#011train-error:0.084867#011validation-error:0.1486\u001b[0m\n",
      "\u001b[34m[07:01:37] src/tree/updater_prune.cc:74: tree pruning end, 1 roots, 12 extra nodes, 4 pruned nodes, max_depth=5\u001b[0m\n",
      "\u001b[34m[140]#011train-error:0.084733#011validation-error:0.1486\u001b[0m\n",
      "\u001b[34m[07:01:39] src/tree/updater_prune.cc:74: tree pruning end, 1 roots, 12 extra nodes, 18 pruned nodes, max_depth=5\u001b[0m\n",
      "\u001b[34m[141]#011train-error:0.0846#011validation-error:0.1481\u001b[0m\n",
      "\u001b[34m[07:01:40] src/tree/updater_prune.cc:74: tree pruning end, 1 roots, 14 extra nodes, 8 pruned nodes, max_depth=5\u001b[0m\n",
      "\u001b[34m[142]#011train-error:0.083867#011validation-error:0.1475\u001b[0m\n",
      "\u001b[34m[07:01:41] src/tree/updater_prune.cc:74: tree pruning end, 1 roots, 20 extra nodes, 12 pruned nodes, max_depth=5\u001b[0m\n",
      "\u001b[34m[143]#011train-error:0.083933#011validation-error:0.1471\u001b[0m\n",
      "\u001b[34m[07:01:43] src/tree/updater_prune.cc:74: tree pruning end, 1 roots, 22 extra nodes, 6 pruned nodes, max_depth=5\u001b[0m\n",
      "\u001b[34m[144]#011train-error:0.0832#011validation-error:0.1471\u001b[0m\n",
      "\u001b[34m[07:01:44] src/tree/updater_prune.cc:74: tree pruning end, 1 roots, 12 extra nodes, 2 pruned nodes, max_depth=5\u001b[0m\n",
      "\u001b[34m[145]#011train-error:0.083#011validation-error:0.1465\u001b[0m\n",
      "\u001b[34m[07:01:45] src/tree/updater_prune.cc:74: tree pruning end, 1 roots, 14 extra nodes, 4 pruned nodes, max_depth=5\u001b[0m\n",
      "\u001b[34m[146]#011train-error:0.082533#011validation-error:0.1466\u001b[0m\n",
      "\u001b[34m[07:01:46] src/tree/updater_prune.cc:74: tree pruning end, 1 roots, 12 extra nodes, 4 pruned nodes, max_depth=5\u001b[0m\n",
      "\u001b[34m[147]#011train-error:0.082467#011validation-error:0.1468\u001b[0m\n",
      "\u001b[34m[07:01:48] src/tree/updater_prune.cc:74: tree pruning end, 1 roots, 26 extra nodes, 10 pruned nodes, max_depth=5\u001b[0m\n",
      "\u001b[34m[148]#011train-error:0.081533#011validation-error:0.1463\u001b[0m\n",
      "\u001b[34m[07:01:49] src/tree/updater_prune.cc:74: tree pruning end, 1 roots, 22 extra nodes, 12 pruned nodes, max_depth=5\u001b[0m\n",
      "\u001b[34m[149]#011train-error:0.0818#011validation-error:0.1463\u001b[0m\n",
      "\u001b[34m[07:01:50] src/tree/updater_prune.cc:74: tree pruning end, 1 roots, 16 extra nodes, 12 pruned nodes, max_depth=5\u001b[0m\n",
      "\u001b[34m[150]#011train-error:0.0816#011validation-error:0.1467\u001b[0m\n",
      "\u001b[34m[07:01:51] src/tree/updater_prune.cc:74: tree pruning end, 1 roots, 12 extra nodes, 6 pruned nodes, max_depth=5\u001b[0m\n",
      "\u001b[34m[151]#011train-error:0.081933#011validation-error:0.1459\u001b[0m\n",
      "\u001b[34m[07:01:53] src/tree/updater_prune.cc:74: tree pruning end, 1 roots, 10 extra nodes, 12 pruned nodes, max_depth=5\u001b[0m\n",
      "\u001b[34m[152]#011train-error:0.0816#011validation-error:0.1453\u001b[0m\n",
      "\u001b[34m[07:01:54] src/tree/updater_prune.cc:74: tree pruning end, 1 roots, 16 extra nodes, 26 pruned nodes, max_depth=5\u001b[0m\n",
      "\u001b[34m[153]#011train-error:0.082133#011validation-error:0.1455\u001b[0m\n",
      "\u001b[34m[07:01:55] src/tree/updater_prune.cc:74: tree pruning end, 1 roots, 12 extra nodes, 6 pruned nodes, max_depth=5\u001b[0m\n",
      "\u001b[34m[154]#011train-error:0.0818#011validation-error:0.1447\u001b[0m\n",
      "\u001b[34m[07:01:57] src/tree/updater_prune.cc:74: tree pruning end, 1 roots, 18 extra nodes, 10 pruned nodes, max_depth=5\u001b[0m\n",
      "\u001b[34m[155]#011train-error:0.080867#011validation-error:0.1448\u001b[0m\n",
      "\u001b[34m[07:01:58] src/tree/updater_prune.cc:74: tree pruning end, 1 roots, 16 extra nodes, 8 pruned nodes, max_depth=5\u001b[0m\n",
      "\u001b[34m[156]#011train-error:0.080267#011validation-error:0.1452\u001b[0m\n",
      "\u001b[34m[07:01:59] src/tree/updater_prune.cc:74: tree pruning end, 1 roots, 14 extra nodes, 10 pruned nodes, max_depth=5\u001b[0m\n",
      "\u001b[34m[157]#011train-error:0.0802#011validation-error:0.145\u001b[0m\n",
      "\u001b[34m[07:02:00] src/tree/updater_prune.cc:74: tree pruning end, 1 roots, 12 extra nodes, 10 pruned nodes, max_depth=5\u001b[0m\n",
      "\u001b[34m[158]#011train-error:0.0804#011validation-error:0.1452\u001b[0m\n",
      "\u001b[34m[07:02:02] src/tree/updater_prune.cc:74: tree pruning end, 1 roots, 16 extra nodes, 6 pruned nodes, max_depth=5\u001b[0m\n",
      "\u001b[34m[159]#011train-error:0.080467#011validation-error:0.1453\u001b[0m\n",
      "\u001b[34m[07:02:03] src/tree/updater_prune.cc:74: tree pruning end, 1 roots, 12 extra nodes, 6 pruned nodes, max_depth=5\u001b[0m\n",
      "\u001b[34m[160]#011train-error:0.080133#011validation-error:0.145\u001b[0m\n",
      "\u001b[34m[07:02:04] src/tree/updater_prune.cc:74: tree pruning end, 1 roots, 24 extra nodes, 12 pruned nodes, max_depth=5\u001b[0m\n",
      "\u001b[34m[161]#011train-error:0.079467#011validation-error:0.1447\u001b[0m\n",
      "\u001b[34m[07:02:06] src/tree/updater_prune.cc:74: tree pruning end, 1 roots, 12 extra nodes, 8 pruned nodes, max_depth=5\u001b[0m\n",
      "\u001b[34m[162]#011train-error:0.0792#011validation-error:0.1451\u001b[0m\n",
      "\u001b[34m[07:02:07] src/tree/updater_prune.cc:74: tree pruning end, 1 roots, 24 extra nodes, 16 pruned nodes, max_depth=5\u001b[0m\n",
      "\u001b[34m[163]#011train-error:0.078467#011validation-error:0.1441\u001b[0m\n",
      "\u001b[34m[07:02:08] src/tree/updater_prune.cc:74: tree pruning end, 1 roots, 18 extra nodes, 6 pruned nodes, max_depth=5\u001b[0m\n",
      "\u001b[34m[164]#011train-error:0.078333#011validation-error:0.1457\u001b[0m\n",
      "\n",
      "2020-08-03 07:02:24 Uploading - Uploading generated training model\u001b[34m[07:02:10] src/tree/updater_prune.cc:74: tree pruning end, 1 roots, 10 extra nodes, 4 pruned nodes, max_depth=5\u001b[0m\n",
      "\u001b[34m[165]#011train-error:0.078333#011validation-error:0.1455\u001b[0m\n",
      "\u001b[34m[07:02:11] src/tree/updater_prune.cc:74: tree pruning end, 1 roots, 10 extra nodes, 8 pruned nodes, max_depth=5\u001b[0m\n",
      "\u001b[34m[166]#011train-error:0.078#011validation-error:0.1451\u001b[0m\n",
      "\u001b[34m[07:02:12] src/tree/updater_prune.cc:74: tree pruning end, 1 roots, 10 extra nodes, 16 pruned nodes, max_depth=5\u001b[0m\n",
      "\u001b[34m[167]#011train-error:0.0778#011validation-error:0.1458\u001b[0m\n",
      "\u001b[34m[07:02:13] src/tree/updater_prune.cc:74: tree pruning end, 1 roots, 10 extra nodes, 4 pruned nodes, max_depth=5\u001b[0m\n",
      "\u001b[34m[168]#011train-error:0.077867#011validation-error:0.1452\u001b[0m\n",
      "\u001b[34m[07:02:15] src/tree/updater_prune.cc:74: tree pruning end, 1 roots, 12 extra nodes, 6 pruned nodes, max_depth=5\u001b[0m\n",
      "\u001b[34m[169]#011train-error:0.077733#011validation-error:0.1453\u001b[0m\n",
      "\u001b[34m[07:02:16] src/tree/updater_prune.cc:74: tree pruning end, 1 roots, 18 extra nodes, 4 pruned nodes, max_depth=5\u001b[0m\n",
      "\u001b[34m[170]#011train-error:0.077333#011validation-error:0.1446\u001b[0m\n",
      "\u001b[34m[07:02:17] src/tree/updater_prune.cc:74: tree pruning end, 1 roots, 10 extra nodes, 6 pruned nodes, max_depth=5\u001b[0m\n",
      "\u001b[34m[171]#011train-error:0.077267#011validation-error:0.1442\u001b[0m\n",
      "\u001b[34m[07:02:18] src/tree/updater_prune.cc:74: tree pruning end, 1 roots, 26 extra nodes, 10 pruned nodes, max_depth=5\u001b[0m\n",
      "\u001b[34m[172]#011train-error:0.0766#011validation-error:0.1443\u001b[0m\n",
      "\u001b[34m[07:02:20] src/tree/updater_prune.cc:74: tree pruning end, 1 roots, 20 extra nodes, 8 pruned nodes, max_depth=5\u001b[0m\n",
      "\u001b[34m[173]#011train-error:0.0762#011validation-error:0.1444\u001b[0m\n",
      "\u001b[34mStopping. Best iteration:\u001b[0m\n",
      "\u001b[34m[163]#011train-error:0.078467#011validation-error:0.1441\n",
      "\u001b[0m\n",
      "\n",
      "2020-08-03 07:02:31 Completed - Training job completed\n",
      "Training seconds: 293\n",
      "Billable seconds: 293\n"
     ]
    }
   ],
   "source": [
    "xgb.fit({'train': s3_input_train, 'validation': s3_input_validation})"
   ]
  },
  {
   "cell_type": "markdown",
   "metadata": {},
   "source": [
    "## Step 5: Testing the model\n",
    "\n",
    "Now that we've fit our XGBoost model, it's time to see how well it performs. To do this we will use SageMakers Batch Transform functionality. Batch Transform is a convenient way to perform inference on a large dataset in a way that is not realtime. That is, we don't necessarily need to use our model's results immediately and instead we can perform inference on a large number of samples. An example of this in industry might be performing an end of month report. This method of inference can also be useful to us as it means that we can perform inference on our entire test set. \n",
    "\n",
    "To perform a Batch Transformation we need to first create a transformer objects from our trained estimator object."
   ]
  },
  {
   "cell_type": "code",
   "execution_count": 24,
   "metadata": {},
   "outputs": [
    {
     "name": "stderr",
     "output_type": "stream",
     "text": [
      "Parameter image will be renamed to image_uri in SageMaker Python SDK v2.\n"
     ]
    }
   ],
   "source": [
    "xgb_transformer = xgb.transformer(instance_count = 1, instance_type = 'ml.m4.xlarge')"
   ]
  },
  {
   "cell_type": "markdown",
   "metadata": {},
   "source": [
    "Next we actually perform the transform job. When doing so we need to make sure to specify the type of data we are sending so that it is serialized correctly in the background. In our case we are providing our model with csv data so we specify `text/csv`. Also, if the test data that we have provided is too large to process all at once then we need to specify how the data file should be split up. Since each line is a single entry in our data set we tell SageMaker that it can split the input on each line."
   ]
  },
  {
   "cell_type": "code",
   "execution_count": 25,
   "metadata": {},
   "outputs": [],
   "source": [
    "xgb_transformer.transform(test_location, content_type='text/csv', split_type='Line')"
   ]
  },
  {
   "cell_type": "markdown",
   "metadata": {},
   "source": [
    "Currently the transform job is running but it is doing so in the background. Since we wish to wait until the transform job is done and we would like a bit of feedback we can run the `wait()` method."
   ]
  },
  {
   "cell_type": "code",
   "execution_count": 26,
   "metadata": {},
   "outputs": [
    {
     "name": "stdout",
     "output_type": "stream",
     "text": [
      ".....................\u001b[34mArguments: serve\u001b[0m\n",
      "\u001b[34m[2020-08-03 07:06:23 +0000] [1] [INFO] Starting gunicorn 19.7.1\u001b[0m\n",
      "\u001b[34m[2020-08-03 07:06:23 +0000] [1] [INFO] Listening at: http://0.0.0.0:8080 (1)\u001b[0m\n",
      "\u001b[34m[2020-08-03 07:06:23 +0000] [1] [INFO] Using worker: gevent\u001b[0m\n",
      "\u001b[34m[2020-08-03 07:06:23 +0000] [38] [INFO] Booting worker with pid: 38\u001b[0m\n",
      "\u001b[34m[2020-08-03 07:06:24 +0000] [39] [INFO] Booting worker with pid: 39\u001b[0m\n",
      "\u001b[34m[2020-08-03 07:06:24 +0000] [40] [INFO] Booting worker with pid: 40\u001b[0m\n",
      "\u001b[34m[2020-08-03 07:06:24 +0000] [41] [INFO] Booting worker with pid: 41\u001b[0m\n",
      "\u001b[34m[2020-08-03:07:06:24:INFO] Model loaded successfully for worker : 39\u001b[0m\n",
      "\u001b[34m[2020-08-03:07:06:24:INFO] Model loaded successfully for worker : 38\u001b[0m\n",
      "\u001b[34m[2020-08-03:07:06:24:INFO] Model loaded successfully for worker : 40\u001b[0m\n",
      "\u001b[34m[2020-08-03:07:06:24:INFO] Model loaded successfully for worker : 41\u001b[0m\n",
      "\u001b[32m2020-08-03T07:06:47.321:[sagemaker logs]: MaxConcurrentTransforms=4, MaxPayloadInMB=6, BatchStrategy=MULTI_RECORD\u001b[0m\n",
      "\u001b[34m[2020-08-03:07:06:49:INFO] Sniff delimiter as ','\u001b[0m\n",
      "\u001b[34m[2020-08-03:07:06:49:INFO] Determined delimiter of CSV input is ','\u001b[0m\n",
      "\u001b[34m[2020-08-03:07:06:50:INFO] Sniff delimiter as ','\u001b[0m\n",
      "\u001b[34m[2020-08-03:07:06:50:INFO] Determined delimiter of CSV input is ','\u001b[0m\n",
      "\u001b[35m[2020-08-03:07:06:49:INFO] Sniff delimiter as ','\u001b[0m\n",
      "\u001b[35m[2020-08-03:07:06:49:INFO] Determined delimiter of CSV input is ','\u001b[0m\n",
      "\u001b[35m[2020-08-03:07:06:50:INFO] Sniff delimiter as ','\u001b[0m\n",
      "\u001b[35m[2020-08-03:07:06:50:INFO] Determined delimiter of CSV input is ','\u001b[0m\n",
      "\u001b[34m[2020-08-03:07:06:50:INFO] Sniff delimiter as ','\u001b[0m\n",
      "\u001b[34m[2020-08-03:07:06:50:INFO] Determined delimiter of CSV input is ','\u001b[0m\n",
      "\u001b[34m[2020-08-03:07:06:50:INFO] Sniff delimiter as ','\u001b[0m\n",
      "\u001b[34m[2020-08-03:07:06:50:INFO] Determined delimiter of CSV input is ','\u001b[0m\n",
      "\u001b[35m[2020-08-03:07:06:50:INFO] Sniff delimiter as ','\u001b[0m\n",
      "\u001b[35m[2020-08-03:07:06:50:INFO] Determined delimiter of CSV input is ','\u001b[0m\n",
      "\u001b[35m[2020-08-03:07:06:50:INFO] Sniff delimiter as ','\u001b[0m\n",
      "\u001b[35m[2020-08-03:07:06:50:INFO] Determined delimiter of CSV input is ','\u001b[0m\n",
      "\u001b[34m[2020-08-03:07:06:52:INFO] Sniff delimiter as ','\u001b[0m\n",
      "\u001b[34m[2020-08-03:07:06:52:INFO] Determined delimiter of CSV input is ','\u001b[0m\n",
      "\u001b[34m[2020-08-03:07:06:52:INFO] Sniff delimiter as ','\u001b[0m\n",
      "\u001b[35m[2020-08-03:07:06:52:INFO] Sniff delimiter as ','\u001b[0m\n",
      "\u001b[35m[2020-08-03:07:06:52:INFO] Determined delimiter of CSV input is ','\u001b[0m\n",
      "\u001b[35m[2020-08-03:07:06:52:INFO] Sniff delimiter as ','\u001b[0m\n",
      "\u001b[34m[2020-08-03:07:06:52:INFO] Determined delimiter of CSV input is ','\u001b[0m\n",
      "\u001b[34m[2020-08-03:07:06:52:INFO] Sniff delimiter as ','\u001b[0m\n",
      "\u001b[34m[2020-08-03:07:06:52:INFO] Determined delimiter of CSV input is ','\u001b[0m\n",
      "\u001b[35m[2020-08-03:07:06:52:INFO] Determined delimiter of CSV input is ','\u001b[0m\n",
      "\u001b[35m[2020-08-03:07:06:52:INFO] Sniff delimiter as ','\u001b[0m\n",
      "\u001b[35m[2020-08-03:07:06:52:INFO] Determined delimiter of CSV input is ','\u001b[0m\n",
      "\u001b[34m[2020-08-03:07:06:52:INFO] Sniff delimiter as ','\u001b[0m\n",
      "\u001b[35m[2020-08-03:07:06:52:INFO] Sniff delimiter as ','\u001b[0m\n",
      "\u001b[34m[2020-08-03:07:06:52:INFO] Determined delimiter of CSV input is ','\u001b[0m\n",
      "\u001b[35m[2020-08-03:07:06:52:INFO] Determined delimiter of CSV input is ','\u001b[0m\n",
      "\u001b[34m[2020-08-03:07:06:55:INFO] Sniff delimiter as ','\u001b[0m\n",
      "\u001b[34m[2020-08-03:07:06:55:INFO] Determined delimiter of CSV input is ','\u001b[0m\n",
      "\u001b[34m[2020-08-03:07:06:55:INFO] Determined delimiter of CSV input is ','\u001b[0m\n",
      "\u001b[34m[2020-08-03:07:06:55:INFO] Sniff delimiter as ','\u001b[0m\n",
      "\u001b[35m[2020-08-03:07:06:55:INFO] Sniff delimiter as ','\u001b[0m\n",
      "\u001b[35m[2020-08-03:07:06:55:INFO] Determined delimiter of CSV input is ','\u001b[0m\n",
      "\u001b[35m[2020-08-03:07:06:55:INFO] Determined delimiter of CSV input is ','\u001b[0m\n",
      "\u001b[35m[2020-08-03:07:06:55:INFO] Sniff delimiter as ','\u001b[0m\n",
      "\u001b[34m[2020-08-03:07:06:55:INFO] Determined delimiter of CSV input is ','\u001b[0m\n",
      "\u001b[34m[2020-08-03:07:06:55:INFO] Sniff delimiter as ','\u001b[0m\n",
      "\u001b[34m[2020-08-03:07:06:55:INFO] Determined delimiter of CSV input is ','\u001b[0m\n",
      "\u001b[35m[2020-08-03:07:06:55:INFO] Determined delimiter of CSV input is ','\u001b[0m\n",
      "\u001b[35m[2020-08-03:07:06:55:INFO] Sniff delimiter as ','\u001b[0m\n",
      "\u001b[35m[2020-08-03:07:06:55:INFO] Determined delimiter of CSV input is ','\u001b[0m\n",
      "\u001b[34m[2020-08-03:07:06:57:INFO] Sniff delimiter as ','\u001b[0m\n",
      "\u001b[34m[2020-08-03:07:06:57:INFO] Determined delimiter of CSV input is ','\u001b[0m\n",
      "\u001b[34m[2020-08-03:07:06:57:INFO] Sniff delimiter as ','\u001b[0m\n",
      "\u001b[34m[2020-08-03:07:06:57:INFO] Determined delimiter of CSV input is ','\u001b[0m\n",
      "\u001b[35m[2020-08-03:07:06:57:INFO] Sniff delimiter as ','\u001b[0m\n",
      "\u001b[35m[2020-08-03:07:06:57:INFO] Determined delimiter of CSV input is ','\u001b[0m\n",
      "\u001b[35m[2020-08-03:07:06:57:INFO] Sniff delimiter as ','\u001b[0m\n",
      "\u001b[35m[2020-08-03:07:06:57:INFO] Determined delimiter of CSV input is ','\u001b[0m\n",
      "\u001b[34m[2020-08-03:07:06:57:INFO] Sniff delimiter as ','\u001b[0m\n",
      "\u001b[34m[2020-08-03:07:06:57:INFO] Determined delimiter of CSV input is ','\u001b[0m\n",
      "\u001b[34m[2020-08-03:07:06:57:INFO] Sniff delimiter as ','\u001b[0m\n",
      "\u001b[34m[2020-08-03:07:06:57:INFO] Determined delimiter of CSV input is ','\u001b[0m\n",
      "\u001b[35m[2020-08-03:07:06:57:INFO] Sniff delimiter as ','\u001b[0m\n",
      "\u001b[35m[2020-08-03:07:06:57:INFO] Determined delimiter of CSV input is ','\u001b[0m\n",
      "\u001b[35m[2020-08-03:07:06:57:INFO] Sniff delimiter as ','\u001b[0m\n",
      "\u001b[35m[2020-08-03:07:06:57:INFO] Determined delimiter of CSV input is ','\u001b[0m\n",
      "\u001b[34m[2020-08-03:07:06:59:INFO] Sniff delimiter as ','\u001b[0m\n",
      "\u001b[34m[2020-08-03:07:06:59:INFO] Determined delimiter of CSV input is ','\u001b[0m\n",
      "\u001b[34m[2020-08-03:07:07:00:INFO] Sniff delimiter as ','\u001b[0m\n",
      "\u001b[34m[2020-08-03:07:07:00:INFO] Determined delimiter of CSV input is ','\u001b[0m\n",
      "\u001b[34m[2020-08-03:07:07:00:INFO] Sniff delimiter as ','\u001b[0m\n",
      "\u001b[34m[2020-08-03:07:07:00:INFO] Determined delimiter of CSV input is ','\u001b[0m\n",
      "\u001b[34m[2020-08-03:07:07:00:INFO] Sniff delimiter as ','\u001b[0m\n",
      "\u001b[34m[2020-08-03:07:07:00:INFO] Determined delimiter of CSV input is ','\u001b[0m\n",
      "\u001b[35m[2020-08-03:07:06:59:INFO] Sniff delimiter as ','\u001b[0m\n",
      "\u001b[35m[2020-08-03:07:06:59:INFO] Determined delimiter of CSV input is ','\u001b[0m\n",
      "\u001b[35m[2020-08-03:07:07:00:INFO] Sniff delimiter as ','\u001b[0m\n",
      "\u001b[35m[2020-08-03:07:07:00:INFO] Determined delimiter of CSV input is ','\u001b[0m\n",
      "\u001b[35m[2020-08-03:07:07:00:INFO] Sniff delimiter as ','\u001b[0m\n",
      "\u001b[35m[2020-08-03:07:07:00:INFO] Determined delimiter of CSV input is ','\u001b[0m\n",
      "\u001b[35m[2020-08-03:07:07:00:INFO] Sniff delimiter as ','\u001b[0m\n",
      "\u001b[35m[2020-08-03:07:07:00:INFO] Determined delimiter of CSV input is ','\u001b[0m\n",
      "\u001b[34m[2020-08-03:07:07:02:INFO] Sniff delimiter as ','\u001b[0m\n",
      "\u001b[34m[2020-08-03:07:07:02:INFO] Determined delimiter of CSV input is ','\u001b[0m\n",
      "\u001b[34m[2020-08-03:07:07:02:INFO] Sniff delimiter as ','\u001b[0m\n",
      "\u001b[34m[2020-08-03:07:07:02:INFO] Determined delimiter of CSV input is ','\u001b[0m\n",
      "\u001b[34m[2020-08-03:07:07:02:INFO] Sniff delimiter as ','\u001b[0m\n",
      "\u001b[34m[2020-08-03:07:07:02:INFO] Determined delimiter of CSV input is ','\u001b[0m\n",
      "\u001b[35m[2020-08-03:07:07:02:INFO] Sniff delimiter as ','\u001b[0m\n",
      "\u001b[35m[2020-08-03:07:07:02:INFO] Determined delimiter of CSV input is ','\u001b[0m\n",
      "\u001b[35m[2020-08-03:07:07:02:INFO] Sniff delimiter as ','\u001b[0m\n",
      "\u001b[35m[2020-08-03:07:07:02:INFO] Determined delimiter of CSV input is ','\u001b[0m\n",
      "\u001b[35m[2020-08-03:07:07:02:INFO] Sniff delimiter as ','\u001b[0m\n",
      "\u001b[35m[2020-08-03:07:07:02:INFO] Determined delimiter of CSV input is ','\u001b[0m\n",
      "\u001b[34m[2020-08-03:07:07:02:INFO] Sniff delimiter as ','\u001b[0m\n",
      "\u001b[34m[2020-08-03:07:07:02:INFO] Determined delimiter of CSV input is ','\u001b[0m\n",
      "\u001b[35m[2020-08-03:07:07:02:INFO] Sniff delimiter as ','\u001b[0m\n",
      "\u001b[35m[2020-08-03:07:07:02:INFO] Determined delimiter of CSV input is ','\u001b[0m\n",
      "\u001b[34m[2020-08-03:07:07:04:INFO] Sniff delimiter as ','\u001b[0m\n",
      "\u001b[34m[2020-08-03:07:07:04:INFO] Determined delimiter of CSV input is ','\u001b[0m\n",
      "\u001b[35m[2020-08-03:07:07:04:INFO] Sniff delimiter as ','\u001b[0m\n",
      "\u001b[35m[2020-08-03:07:07:04:INFO] Determined delimiter of CSV input is ','\u001b[0m\n",
      "\u001b[34m[2020-08-03:07:07:04:INFO] Sniff delimiter as ','\u001b[0m\n",
      "\u001b[34m[2020-08-03:07:07:04:INFO] Determined delimiter of CSV input is ','\u001b[0m\n",
      "\u001b[35m[2020-08-03:07:07:04:INFO] Sniff delimiter as ','\u001b[0m\n",
      "\u001b[35m[2020-08-03:07:07:04:INFO] Determined delimiter of CSV input is ','\u001b[0m\n",
      "\u001b[34m[2020-08-03:07:07:05:INFO] Sniff delimiter as ','\u001b[0m\n",
      "\u001b[34m[2020-08-03:07:07:05:INFO] Determined delimiter of CSV input is ','\u001b[0m\n",
      "\u001b[35m[2020-08-03:07:07:05:INFO] Sniff delimiter as ','\u001b[0m\n",
      "\u001b[35m[2020-08-03:07:07:05:INFO] Determined delimiter of CSV input is ','\u001b[0m\n",
      "\u001b[34m[2020-08-03:07:07:07:INFO] Sniff delimiter as ','\u001b[0m\n",
      "\u001b[34m[2020-08-03:07:07:07:INFO] Determined delimiter of CSV input is ','\u001b[0m\n",
      "\u001b[34m[2020-08-03:07:07:07:INFO] Sniff delimiter as ','\u001b[0m\n",
      "\u001b[34m[2020-08-03:07:07:07:INFO] Determined delimiter of CSV input is ','\u001b[0m\n",
      "\u001b[34m[2020-08-03:07:07:07:INFO] Sniff delimiter as ','\u001b[0m\n",
      "\u001b[34m[2020-08-03:07:07:07:INFO] Determined delimiter of CSV input is ','\u001b[0m\n",
      "\u001b[34m[2020-08-03:07:07:07:INFO] Sniff delimiter as ','\u001b[0m\n",
      "\u001b[35m[2020-08-03:07:07:07:INFO] Sniff delimiter as ','\u001b[0m\n",
      "\u001b[35m[2020-08-03:07:07:07:INFO] Determined delimiter of CSV input is ','\u001b[0m\n",
      "\u001b[35m[2020-08-03:07:07:07:INFO] Sniff delimiter as ','\u001b[0m\n",
      "\u001b[35m[2020-08-03:07:07:07:INFO] Determined delimiter of CSV input is ','\u001b[0m\n",
      "\u001b[35m[2020-08-03:07:07:07:INFO] Sniff delimiter as ','\u001b[0m\n",
      "\u001b[35m[2020-08-03:07:07:07:INFO] Determined delimiter of CSV input is ','\u001b[0m\n",
      "\u001b[35m[2020-08-03:07:07:07:INFO] Sniff delimiter as ','\u001b[0m\n",
      "\u001b[34m[2020-08-03:07:07:07:INFO] Determined delimiter of CSV input is ','\u001b[0m\n",
      "\u001b[35m[2020-08-03:07:07:07:INFO] Determined delimiter of CSV input is ','\u001b[0m\n",
      "\u001b[34m[2020-08-03:07:07:09:INFO] Sniff delimiter as ','\u001b[0m\n",
      "\u001b[34m[2020-08-03:07:07:09:INFO] Determined delimiter of CSV input is ','\u001b[0m\n",
      "\u001b[34m[2020-08-03:07:07:09:INFO] Sniff delimiter as ','\u001b[0m\n",
      "\u001b[34m[2020-08-03:07:07:09:INFO] Determined delimiter of CSV input is ','\u001b[0m\n",
      "\u001b[35m[2020-08-03:07:07:09:INFO] Sniff delimiter as ','\u001b[0m\n",
      "\u001b[35m[2020-08-03:07:07:09:INFO] Determined delimiter of CSV input is ','\u001b[0m\n",
      "\u001b[35m[2020-08-03:07:07:09:INFO] Sniff delimiter as ','\u001b[0m\n",
      "\u001b[35m[2020-08-03:07:07:09:INFO] Determined delimiter of CSV input is ','\u001b[0m\n",
      "\u001b[34m[2020-08-03:07:07:09:INFO] Sniff delimiter as ','\u001b[0m\n",
      "\u001b[34m[2020-08-03:07:07:09:INFO] Determined delimiter of CSV input is ','\u001b[0m\n",
      "\u001b[35m[2020-08-03:07:07:09:INFO] Sniff delimiter as ','\u001b[0m\n",
      "\u001b[35m[2020-08-03:07:07:09:INFO] Determined delimiter of CSV input is ','\u001b[0m\n",
      "\u001b[34m[2020-08-03:07:07:10:INFO] Sniff delimiter as ','\u001b[0m\n",
      "\u001b[34m[2020-08-03:07:07:10:INFO] Determined delimiter of CSV input is ','\u001b[0m\n",
      "\u001b[35m[2020-08-03:07:07:10:INFO] Sniff delimiter as ','\u001b[0m\n",
      "\u001b[35m[2020-08-03:07:07:10:INFO] Determined delimiter of CSV input is ','\u001b[0m\n",
      "\u001b[34m[2020-08-03:07:07:12:INFO] Sniff delimiter as ','\u001b[0m\n",
      "\u001b[34m[2020-08-03:07:07:12:INFO] Determined delimiter of CSV input is ','\u001b[0m\n",
      "\u001b[34m[2020-08-03:07:07:12:INFO] Sniff delimiter as ','\u001b[0m\n",
      "\u001b[34m[2020-08-03:07:07:12:INFO] Determined delimiter of CSV input is ','\u001b[0m\n",
      "\u001b[34m[2020-08-03:07:07:12:INFO] Sniff delimiter as ','\u001b[0m\n",
      "\u001b[34m[2020-08-03:07:07:12:INFO] Determined delimiter of CSV input is ','\u001b[0m\n",
      "\u001b[34m[2020-08-03:07:07:12:INFO] Sniff delimiter as ','\u001b[0m\n",
      "\u001b[34m[2020-08-03:07:07:12:INFO] Determined delimiter of CSV input is ','\u001b[0m\n",
      "\u001b[35m[2020-08-03:07:07:12:INFO] Sniff delimiter as ','\u001b[0m\n",
      "\u001b[35m[2020-08-03:07:07:12:INFO] Determined delimiter of CSV input is ','\u001b[0m\n",
      "\u001b[35m[2020-08-03:07:07:12:INFO] Sniff delimiter as ','\u001b[0m\n",
      "\u001b[35m[2020-08-03:07:07:12:INFO] Determined delimiter of CSV input is ','\u001b[0m\n",
      "\u001b[35m[2020-08-03:07:07:12:INFO] Sniff delimiter as ','\u001b[0m\n",
      "\u001b[35m[2020-08-03:07:07:12:INFO] Determined delimiter of CSV input is ','\u001b[0m\n",
      "\u001b[35m[2020-08-03:07:07:12:INFO] Sniff delimiter as ','\u001b[0m\n",
      "\u001b[35m[2020-08-03:07:07:12:INFO] Determined delimiter of CSV input is ','\u001b[0m\n"
     ]
    },
    {
     "name": "stdout",
     "output_type": "stream",
     "text": [
      "\n"
     ]
    }
   ],
   "source": [
    "xgb_transformer.wait()"
   ]
  },
  {
   "cell_type": "markdown",
   "metadata": {},
   "source": [
    "Now the transform job has executed and the result, the estimated sentiment of each review, has been saved on S3. Since we would rather work on this file locally we can perform a bit of notebook magic to copy the file to the `data_dir`."
   ]
  },
  {
   "cell_type": "code",
   "execution_count": 27,
   "metadata": {},
   "outputs": [
    {
     "name": "stdout",
     "output_type": "stream",
     "text": [
      "Completed 256.0 KiB/370.1 KiB (3.9 MiB/s) with 1 file(s) remaining\r",
      "Completed 370.1 KiB/370.1 KiB (5.5 MiB/s) with 1 file(s) remaining\r",
      "download: s3://sagemaker-eu-central-1-962030231565/xgboost-2020-08-03-07-03-06-586/test.csv.out to ../data/sentiment_web_app/test.csv.out\r\n"
     ]
    }
   ],
   "source": [
    "!aws s3 cp --recursive $xgb_transformer.output_path $data_dir"
   ]
  },
  {
   "cell_type": "markdown",
   "metadata": {},
   "source": [
    "The last step is now to read in the output from our model, convert the output to something a little more usable, in this case we want the sentiment to be either `1` (positive) or `0` (negative), and then compare to the ground truth labels."
   ]
  },
  {
   "cell_type": "code",
   "execution_count": 28,
   "metadata": {},
   "outputs": [],
   "source": [
    "predictions = pd.read_csv(os.path.join(data_dir, 'test.csv.out'), header=None)\n",
    "predictions = [round(num) for num in predictions.squeeze().values]"
   ]
  },
  {
   "cell_type": "code",
   "execution_count": 29,
   "metadata": {},
   "outputs": [
    {
     "data": {
      "text/plain": [
       "0.85892"
      ]
     },
     "execution_count": 29,
     "metadata": {},
     "output_type": "execute_result"
    }
   ],
   "source": [
    "from sklearn.metrics import accuracy_score\n",
    "accuracy_score(test_y, predictions)"
   ]
  },
  {
   "cell_type": "markdown",
   "metadata": {},
   "source": [
    "## Step 6: Deploying the model\n",
    "\n",
    "Once we construct and fit our model, SageMaker stores the resulting model artifacts and we can use those to deploy an endpoint (inference code). To see this, look in the SageMaker console and you should see that a model has been created along with a link to the S3 location where the model artifacts have been stored.\n",
    "\n",
    "Deploying an endpoint is a lot like training the model with a few important differences. The first is that a deployed model doesn't change the model artifacts, so as you send it various testing instances the model won't change. Another difference is that since we aren't performing a fixed computation, as we were in the training step or while performing a batch transform, the compute instance that gets started stays running until we tell it to stop. This is important to note as if we forget and leave it running we will be charged the entire time.\n",
    "\n",
    "In other words **If you are no longer using a deployed endpoint, shut it down!**"
   ]
  },
  {
   "cell_type": "code",
   "execution_count": 30,
   "metadata": {},
   "outputs": [
    {
     "name": "stderr",
     "output_type": "stream",
     "text": [
      "Parameter image will be renamed to image_uri in SageMaker Python SDK v2.\n",
      "Using already existing model: xgboost-2020-08-03-06-55-21-301\n"
     ]
    },
    {
     "name": "stdout",
     "output_type": "stream",
     "text": [
      "-------------!"
     ]
    }
   ],
   "source": [
    "xgb_predictor = xgb.deploy(initial_instance_count = 1, instance_type = 'ml.m4.xlarge')"
   ]
  },
  {
   "cell_type": "markdown",
   "metadata": {},
   "source": [
    "### Testing the model (again)\n",
    "\n",
    "Now that we have deployed our endpoint, we can send the testing data to it and get back the inference results. We already did this earlier using the batch transform functionality of SageMaker, however, we will test our model again using the newly deployed endpoint so that we can make sure that it works properly and to get a bit of a feel for how the endpoint works.\n",
    "\n",
    "When using the created endpoint it is important to know that we are limited in the amount of information we can send in each call so we need to break the testing data up into chunks and then send each chunk. Also, we need to serialize our data before we send it to the endpoint to ensure that our data is transmitted properly. Fortunately, SageMaker can do the serialization part for us provided we tell it the format of our data."
   ]
  },
  {
   "cell_type": "code",
   "execution_count": 31,
   "metadata": {},
   "outputs": [],
   "source": [
    "from sagemaker.predictor import csv_serializer\n",
    "\n",
    "# We need to tell the endpoint what format the data we are sending is in so that SageMaker can perform the serialization.\n",
    "xgb_predictor.content_type = 'text/csv'\n",
    "xgb_predictor.serializer = csv_serializer"
   ]
  },
  {
   "cell_type": "code",
   "execution_count": 32,
   "metadata": {},
   "outputs": [],
   "source": [
    "# We split the data into chunks and send each chunk seperately, accumulating the results.\n",
    "\n",
    "def predict(data, rows=512):\n",
    "    split_array = np.array_split(data, int(data.shape[0] / float(rows) + 1))\n",
    "    predictions = ''\n",
    "    for array in split_array:\n",
    "        predictions = ','.join([predictions, xgb_predictor.predict(array).decode('utf-8')])\n",
    "    \n",
    "    return np.fromstring(predictions[1:], sep=',')"
   ]
  },
  {
   "cell_type": "code",
   "execution_count": 33,
   "metadata": {},
   "outputs": [],
   "source": [
    "test_X = pd.read_csv(os.path.join(data_dir, 'test.csv'), header=None).values\n",
    "\n",
    "predictions = predict(test_X)\n",
    "predictions = [round(num) for num in predictions]"
   ]
  },
  {
   "cell_type": "markdown",
   "metadata": {},
   "source": [
    "Lastly, we check to see what the accuracy of our model is."
   ]
  },
  {
   "cell_type": "code",
   "execution_count": 34,
   "metadata": {},
   "outputs": [
    {
     "data": {
      "text/plain": [
       "0.85892"
      ]
     },
     "execution_count": 34,
     "metadata": {},
     "output_type": "execute_result"
    }
   ],
   "source": [
    "from sklearn.metrics import accuracy_score\n",
    "accuracy_score(test_y, predictions)"
   ]
  },
  {
   "cell_type": "markdown",
   "metadata": {},
   "source": [
    "And the results here should agree with the model testing that we did earlier using the batch transform job.\n",
    "\n",
    "### Cleaning up\n",
    "\n",
    "Now that we've determined that deploying our model works as expected, we are going to shut it down. Remember that the longer the endpoint is left running, the greater the cost and since we have a bit more work to do before we are able to use our endpoint with our simple web app, we should shut everything down."
   ]
  },
  {
   "cell_type": "code",
   "execution_count": 35,
   "metadata": {},
   "outputs": [],
   "source": [
    "xgb_predictor.delete_endpoint()"
   ]
  },
  {
   "cell_type": "markdown",
   "metadata": {},
   "source": [
    "## Step 7: Putting our model to work\n",
    "\n",
    "As we've mentioned a few times now, our goal is to have our model deployed and then access it using a very simple web app. The intent is for this web app to take some user submitted data (a review), send it off to our endpoint (the model) and then display the result.\n",
    "\n",
    "However, there is a small catch. Currently the only way we can access the endpoint to send it data is using the SageMaker API. We can, if we wish, expose the actual URL that our model's endpoint is receiving data from, however, if we just send it data ourselves we will not get anything in return. This is because the endpoint created by SageMaker requires the entity accessing it have the correct permissions. So, we would need to somehow authenticate our web app with AWS.\n",
    "\n",
    "Having a website that authenticates to AWS seems a bit beyond the scope of this lesson so we will opt for an alternative approach. Namely, we will create a new endpoint which does not require authentication and which acts as a proxy for the SageMaker endpoint.\n",
    "\n",
    "As an additional constraint, we will try to avoid doing any data processing in the web app itself. Remember that when we constructed and tested our model we started with a movie review, then we simplified it by removing any html formatting and punctuation, then we constructed a bag of words embedding and the resulting vector is what we sent to our model. All of this needs to be done to our user input as well.\n",
    "\n",
    "Fortunately we can do all of this data processing in the backend, using Amazon's Lambda service.\n",
    "\n",
    "<img src=\"Web App Diagram.svg\">\n",
    "\n",
    "The diagram above gives an overview of how the various services will work together. On the far right is the model which we trained above and which will be deployed using SageMaker. On the far left is our web app that collects a user's movie review, sends it off and expects a positive or negative sentiment in return.\n",
    "\n",
    "In the middle is where some of the magic happens. We will construct a Lambda function, which you can think of as a straightforward Python function that can be executed whenever a specified event occurs. This Python function will do the data processing we need to perform on a user submitted review. In addition, we will give this function permission to send and recieve data from a SageMaker endpoint.\n",
    "\n",
    "Lastly, the method we will use to execute the Lambda function is a new endpoint that we will create using API Gateway. This endpoint will be a url that listens for data to be sent to it. Once it gets some data it will pass that data on to the Lambda function and then return whatever the Lambda function returns. Essentially it will act as an interface that lets our web app communicate with the Lambda function.\n",
    "\n",
    "### Processing a single review\n",
    "\n",
    "For now, suppose we are given a movie review by our user in the form of a string, like so:"
   ]
  },
  {
   "cell_type": "code",
   "execution_count": 36,
   "metadata": {},
   "outputs": [],
   "source": [
    "test_review = \"Nothing but a disgusting materialistic pageant of glistening abed remote control greed zombies, totally devoid of any heart or heat. A romantic comedy that has zero romantic chemestry and zero laughs!\""
   ]
  },
  {
   "cell_type": "markdown",
   "metadata": {},
   "source": [
    "How do we go from this string to the bag of words feature vector that is expected by our model?\n",
    "\n",
    "If we recall at the beginning of this notebook, the first step is to remove any unnecessary characters using the `review_to_words` method. Remember that we intentionally did this in a very simplistic way. This is because we are going to have to copy this method to our (eventual) Lambda function (we will go into more detail later) and this means it needs to be rather simplistic."
   ]
  },
  {
   "cell_type": "code",
   "execution_count": 37,
   "metadata": {},
   "outputs": [
    {
     "name": "stdout",
     "output_type": "stream",
     "text": [
      "nothing but a disgusting materialistic pageant of glistening abed remote control greed zombies totally devoid of any heart or heat a romantic comedy that has zero romantic chemestry and zero laughs\n"
     ]
    }
   ],
   "source": [
    "test_words = review_to_words(test_review)\n",
    "print(test_words)"
   ]
  },
  {
   "cell_type": "markdown",
   "metadata": {},
   "source": [
    "Next, we need to construct a bag of words embedding of the `test_words` string. To do this, remember that a bag of words embedding uses a `vocabulary` consisting of the most frequently appearing words in a set of documents. Then, for each word in the vocabulary we record the number of times that word appears in `test_words`. We constructed the `vocabulary` earlier using the training set for our problem so encoding `test_words` is relatively straightforward."
   ]
  },
  {
   "cell_type": "code",
   "execution_count": 38,
   "metadata": {},
   "outputs": [],
   "source": [
    "def bow_encoding(words, vocabulary):\n",
    "    bow = [0] * len(vocabulary) # Start by setting the count for each word in the vocabulary to zero.\n",
    "    for word in words.split():  # For each word in the string\n",
    "        if word in vocabulary:  # If the word is one that occurs in the vocabulary, increase its count.\n",
    "            bow[vocabulary[word]] += 1\n",
    "    return bow"
   ]
  },
  {
   "cell_type": "code",
   "execution_count": 39,
   "metadata": {},
   "outputs": [
    {
     "name": "stdout",
     "output_type": "stream",
     "text": [
      "[0, 0, 0, 0, 0, 0, 0, 0, 0, 0, 0, 0, 0, 0, 0, 0, 0, 0, 0, 0, 0, 0, 0, 0, 0, 0, 0, 0, 0, 0, 0, 0, 0, 0, 0, 0, 0, 0, 0, 0, 0, 0, 0, 0, 0, 0, 0, 0, 0, 0, 0, 0, 0, 0, 0, 0, 0, 0, 0, 0, 0, 0, 0, 0, 0, 0, 0, 0, 0, 0, 0, 0, 0, 0, 0, 0, 0, 0, 0, 0, 0, 0, 0, 0, 0, 0, 0, 0, 0, 0, 0, 0, 0, 0, 0, 0, 0, 0, 0, 0, 0, 0, 0, 0, 0, 0, 0, 0, 0, 0, 0, 0, 0, 0, 0, 0, 0, 0, 0, 0, 0, 0, 0, 0, 0, 0, 0, 0, 0, 0, 0, 0, 0, 0, 0, 0, 0, 0, 0, 0, 0, 0, 0, 0, 0, 0, 0, 0, 0, 0, 0, 0, 0, 0, 0, 0, 0, 0, 0, 0, 0, 0, 0, 0, 0, 0, 0, 0, 0, 0, 0, 0, 0, 0, 0, 0, 0, 0, 0, 0, 0, 0, 0, 0, 0, 0, 0, 0, 0, 0, 0, 0, 0, 0, 0, 0, 0, 0, 0, 0, 0, 0, 0, 0, 0, 0, 0, 0, 0, 0, 0, 0, 0, 0, 0, 0, 0, 0, 0, 0, 0, 0, 0, 0, 0, 0, 1, 0, 0, 0, 0, 0, 0, 0, 0, 0, 0, 0, 0, 0, 0, 0, 0, 0, 0, 0, 0, 0, 0, 0, 0, 0, 0, 0, 0, 0, 1, 0, 0, 0, 0, 0, 0, 0, 0, 0, 0, 0, 0, 0, 0, 0, 0, 0, 0, 0, 0, 0, 0, 0, 0, 0, 0, 0, 0, 0, 0, 0, 0, 0, 0, 0, 0, 0, 0, 0, 0, 0, 0, 0, 0, 0, 0, 0, 0, 0, 0, 0, 0, 0, 0, 0, 0, 0, 0, 0, 0, 0, 0, 0, 0, 0, 0, 0, 0, 0, 0, 0, 0, 0, 0, 0, 0, 0, 0, 0, 0, 0, 0, 0, 0, 0, 0, 0, 0, 0, 0, 0, 0, 0, 0, 0, 0, 0, 0, 0, 0, 0, 0, 0, 0, 0, 0, 0, 0, 0, 0, 0, 0, 0, 0, 0, 0, 0, 0, 0, 0, 0, 0, 0, 0, 0, 0, 0, 0, 0, 0, 0, 0, 0, 0, 0, 0, 0, 0, 0, 0, 0, 0, 0, 0, 0, 0, 0, 0, 0, 0, 0, 0, 0, 0, 0, 0, 0, 0, 0, 0, 0, 0, 0, 0, 0, 0, 0, 0, 0, 0, 0, 0, 0, 0, 0, 0, 0, 0, 0, 0, 0, 0, 0, 0, 0, 0, 0, 0, 0, 0, 0, 0, 0, 0, 0, 0, 0, 0, 0, 0, 0, 0, 0, 0, 0, 0, 0, 0, 0, 0, 0, 0, 0, 0, 0, 0, 0, 0, 0, 0, 0, 0, 0, 0, 0, 0, 0, 0, 0, 0, 0, 0, 0, 0, 0, 0, 0, 0, 0, 0, 0, 0, 0, 0, 0, 0, 0, 0, 0, 0, 0, 0, 0, 0, 0, 0, 0, 0, 0, 0, 0, 0, 0, 0, 0, 0, 0, 0, 0, 0, 0, 0, 0, 0, 0, 0, 0, 0, 0, 0, 0, 0, 0, 0, 0, 0, 0, 0, 0, 0, 0, 0, 0, 0, 0, 0, 0, 0, 0, 0, 0, 0, 0, 0, 0, 0, 0, 0, 0, 0, 0, 0, 0, 0, 0, 0, 0, 0, 0, 0, 0, 0, 0, 0, 0, 0, 0, 0, 0, 0, 0, 0, 0, 0, 0, 0, 0, 0, 0, 0, 0, 0, 0, 0, 0, 0, 0, 0, 0, 0, 0, 0, 0, 0, 0, 0, 0, 0, 0, 0, 0, 0, 0, 0, 0, 0, 0, 0, 0, 0, 0, 0, 0, 0, 0, 0, 0, 0, 0, 1, 0, 0, 0, 0, 0, 0, 0, 0, 0, 0, 0, 0, 0, 0, 0, 0, 0, 0, 0, 0, 0, 0, 0, 0, 0, 0, 0, 0, 0, 0, 0, 0, 0, 0, 0, 0, 0, 0, 0, 0, 0, 0, 0, 0, 0, 0, 0, 0, 0, 0, 0, 0, 0, 0, 0, 0, 0, 0, 0, 0, 0, 0, 0, 0, 0, 0, 0, 0, 0, 0, 0, 0, 0, 0, 0, 0, 0, 0, 0, 0, 0, 0, 0, 0, 0, 0, 0, 0, 0, 0, 0, 0, 0, 0, 0, 0, 0, 0, 0, 0, 0, 0, 0, 0, 0, 0, 0, 0, 0, 0, 0, 0, 0, 0, 0, 0, 0, 0, 0, 0, 0, 0, 0, 0, 0, 0, 0, 0, 0, 0, 0, 0, 0, 0, 0, 0, 0, 0, 0, 0, 0, 0, 0, 0, 0, 0, 0, 0, 0, 0, 0, 0, 0, 0, 0, 0, 0, 0, 0, 0, 0, 0, 0, 0, 0, 0, 0, 0, 0, 0, 0, 0, 0, 0, 0, 0, 0, 0, 0, 0, 0, 0, 0, 0, 0, 0, 0, 0, 0, 0, 0, 0, 0, 0, 0, 0, 0, 0, 0, 0, 0, 0, 0, 0, 0, 0, 0, 0, 0, 0, 0, 0, 0, 0, 0, 0, 0, 0, 0, 0, 0, 0, 0, 0, 0, 0, 0, 0, 0, 0, 0, 0, 0, 0, 0, 0, 0, 0, 0, 0, 0, 0, 0, 0, 0, 0, 0, 0, 0, 0, 0, 0, 0, 1, 0, 0, 0, 0, 0, 0, 0, 0, 0, 0, 0, 0, 0, 0, 0, 0, 0, 0, 0, 0, 0, 0, 0, 0, 0, 0, 0, 0, 0, 0, 0, 0, 0, 0, 0, 0, 0, 0, 0, 0, 0, 0, 0, 0, 0, 0, 0, 0, 0, 0, 0, 0, 0, 0, 0, 0, 0, 0, 0, 0, 0, 0, 0, 0, 0, 0, 0, 0, 0, 0, 0, 0, 0, 0, 0, 0, 0, 0, 0, 0, 0, 0, 0, 0, 0, 0, 1, 0, 0, 0, 0, 0, 0, 0, 0, 0, 0, 0, 0, 0, 0, 0, 0, 0, 0, 0, 0, 0, 0, 0, 0, 0, 0, 0, 0, 0, 0, 0, 0, 0, 0, 0, 0, 0, 0, 0, 0, 0, 0, 0, 0, 0, 0, 0, 0, 0, 0, 0, 0, 0, 0, 0, 0, 0, 0, 0, 0, 0, 0, 0, 0, 0, 0, 0, 0, 0, 0, 0, 0, 0, 0, 0, 0, 0, 0, 0, 0, 0, 0, 0, 0, 0, 0, 0, 0, 0, 0, 0, 0, 0, 0, 0, 0, 0, 0, 0, 0, 0, 0, 0, 0, 0, 0, 0, 0, 0, 0, 0, 0, 0, 0, 0, 0, 0, 0, 0, 0, 0, 0, 0, 0, 0, 0, 0, 0, 0, 0, 0, 0, 0, 0, 0, 0, 0, 0, 0, 0, 0, 0, 0, 0, 0, 0, 0, 0, 0, 0, 0, 0, 0, 0, 0, 0, 0, 0, 0, 0, 0, 0, 0, 0, 0, 0, 0, 0, 0, 0, 0, 0, 0, 0, 0, 0, 0, 0, 0, 0, 0, 0, 0, 0, 0, 0, 0, 0, 0, 0, 0, 0, 0, 0, 0, 0, 0, 0, 0, 0, 0, 0, 0, 0, 0, 0, 0, 0, 0, 0, 0, 0, 0, 0, 0, 0, 0, 0, 0, 0, 0, 0, 0, 0, 0, 0, 0, 0, 0, 0, 0, 0, 0, 0, 0, 0, 0, 0, 0, 0, 0, 0, 0, 0, 0, 0, 0, 0, 0, 0, 0, 0, 1, 0, 0, 0, 0, 0, 0, 0, 0, 0, 0, 0, 0, 0, 0, 0, 0, 0, 0, 0, 0, 0, 0, 0, 0, 0, 0, 0, 0, 0, 0, 0, 0, 0, 0, 0, 0, 0, 0, 0, 0, 0, 0, 0, 0, 0, 0, 0, 0, 0, 0, 0, 0, 0, 0, 0, 1, 0, 0, 0, 0, 0, 0, 0, 0, 0, 0, 0, 0, 0, 0, 0, 0, 0, 0, 0, 0, 0, 0, 0, 0, 0, 0, 0, 0, 0, 0, 0, 0, 0, 0, 0, 0, 0, 0, 0, 0, 0, 0, 0, 0, 0, 0, 0, 0, 0, 0, 0, 0, 0, 0, 0, 0, 0, 0, 0, 0, 0, 0, 0, 0, 0, 0, 0, 0, 0, 0, 0, 0, 0, 0, 0, 0, 0, 0, 0, 0, 0, 0, 0, 0, 0, 0, 0, 0, 0, 0, 0, 0, 0, 0, 0, 0, 0, 0, 0, 0, 0, 0, 0, 0, 0, 0, 0, 0, 0, 0, 0, 0, 0, 0, 0, 0, 0, 0, 0, 0, 0, 0, 0, 0, 0, 0, 0, 0, 0, 0, 0, 0, 0, 0, 0, 0, 0, 0, 0, 0, 0, 0, 0, 0, 0, 0, 0, 0, 0, 0, 0, 0, 0, 0, 0, 0, 0, 0, 0, 0, 0, 0, 0, 0, 0, 0, 0, 0, 0, 0, 0, 0, 0, 0, 0, 0, 0, 0, 0, 0, 0, 0, 0, 0, 0, 0, 0, 0, 0, 0, 0, 0, 0, 0, 0, 0, 0, 0, 0, 0, 0, 0, 0, 0, 0, 0, 0, 0, 0, 0, 0, 0, 0, 0, 0, 0, 0, 0, 0, 0, 0, 0, 0, 0, 0, 0, 0, 0, 0, 0, 0, 0, 0, 0, 0, 0, 0, 0, 0, 0, 0, 0, 0, 0, 0, 0, 0, 0, 0, 0, 0, 0, 0, 0, 0, 0, 0, 0, 0, 0, 0, 0, 0, 0, 0, 0, 0, 0, 0, 0, 0, 0, 0, 0, 0, 0, 0, 0, 0, 0, 0, 0, 0, 0, 0, 0, 0, 0, 0, 0, 0, 0, 0, 0, 0, 0, 0, 0, 0, 0, 0, 0, 0, 0, 0, 0, 0, 0, 0, 0, 0, 0, 0, 0, 0, 0, 0, 0, 0, 0, 0, 0, 0, 0, 0, 0, 0, 0, 0, 0, 0, 0, 0, 0, 0, 0, 0, 0, 0, 0, 0, 0, 0, 0, 0, 0, 0, 0, 0, 0, 0, 0, 0, 0, 0, 0, 0, 0, 0, 0, 0, 0, 0, 0, 0, 0, 0, 0, 0, 0, 0, 0, 0, 0, 0, 0, 0, 0, 0, 0, 0, 0, 0, 0, 0, 0, 0, 0, 0, 0, 0, 0, 0, 0, 0, 0, 0, 0, 0, 0, 0, 0, 0, 0, 0, 0, 0, 0, 0, 0, 0, 0, 0, 0, 0, 0, 0, 0, 0, 0, 0, 0, 0, 0, 0, 0, 0, 0, 0, 0, 0, 0, 0, 0, 0, 0, 0, 0, 0, 0, 0, 0, 0, 0, 0, 0, 0, 0, 0, 0, 0, 0, 0, 0, 0, 0, 0, 0, 0, 0, 0, 0, 0, 0, 0, 0, 0, 0, 0, 0, 0, 0, 0, 0, 0, 0, 0, 0, 0, 0, 0, 0, 0, 0, 0, 0, 0, 0, 0, 0, 0, 0, 0, 0, 0, 0, 0, 0, 0, 0, 0, 0, 0, 0, 0, 0, 0, 0, 0, 0, 0, 0, 0, 0, 0, 0, 0, 0, 0, 0, 0, 0, 0, 0, 0, 0, 0, 0, 0, 0, 0, 0, 0, 0, 0, 0, 0, 0, 0, 0, 0, 0, 0, 0, 0, 0, 0, 0, 0, 0, 0, 0, 0, 0, 0, 0, 0, 0, 0, 0, 0, 0, 0, 0, 0, 0, 0, 0, 0, 0, 0, 0, 0, 0, 0, 0, 0, 0, 0, 0, 0, 0, 0, 0, 0, 0, 0, 0, 0, 0, 0, 0, 0, 0, 0, 0, 0, 0, 0, 0, 0, 0, 0, 0, 0, 0, 0, 0, 0, 0, 0, 0, 0, 0, 0, 0, 0, 0, 0, 0, 0, 0, 0, 0, 0, 0, 0, 0, 0, 0, 0, 0, 0, 0, 0, 0, 0, 0, 0, 0, 0, 0, 0, 0, 0, 0, 0, 0, 0, 0, 0, 0, 0, 0, 0, 0, 0, 0, 0, 0, 0, 0, 0, 0, 0, 0, 0, 0, 0, 0, 0, 0, 0, 0, 0, 0, 0, 0, 0, 0, 0, 1, 0, 0, 0, 0, 0, 0, 0, 0, 0, 0, 0, 0, 0, 0, 0, 0, 0, 0, 0, 0, 0, 0, 0, 0, 0, 0, 0, 0, 0, 0, 0, 0, 0, 0, 0, 0, 0, 0, 0, 0, 0, 0, 0, 0, 0, 0, 0, 0, 0, 0, 0, 0, 0, 0, 0, 0, 0, 0, 0, 0, 0, 0, 0, 0, 0, 0, 0, 0, 0, 0, 0, 0, 0, 0, 1, 0, 0, 0, 0, 0, 0, 0, 0, 0, 0, 0, 0, 0, 0, 0, 0, 0, 0, 0, 0, 1, 0, 0, 1, 0, 0, 0, 0, 0, 0, 0, 0, 0, 0, 0, 0, 0, 0, 0, 0, 0, 0, 0, 0, 0, 0, 0, 0, 0, 0, 0, 0, 0, 0, 0, 0, 0, 0, 0, 0, 0, 0, 0, 0, 0, 0, 0, 0, 0, 0, 0, 0, 0, 0, 0, 0, 0, 0, 0, 0, 0, 0, 0, 0, 0, 0, 0, 0, 0, 0, 0, 0, 0, 0, 0, 0, 0, 0, 0, 0, 0, 0, 0, 0, 0, 0, 0, 0, 0, 0, 0, 0, 0, 0, 0, 0, 0, 0, 0, 0, 0, 0, 0, 0, 0, 0, 0, 0, 0, 0, 0, 0, 0, 0, 0, 0, 0, 0, 0, 0, 0, 0, 0, 0, 0, 0, 0, 0, 0, 0, 0, 0, 0, 0, 0, 0, 0, 0, 0, 0, 0, 0, 0, 0, 0, 0, 0, 0, 0, 0, 0, 0, 0, 0, 0, 0, 0, 0, 0, 0, 0, 0, 0, 0, 0, 0, 0, 0, 0, 0, 0, 0, 0, 0, 0, 0, 0, 0, 0, 0, 0, 0, 0, 0, 0, 0, 0, 0, 0, 0, 0, 0, 0, 0, 0, 0, 0, 0, 0, 0, 0, 0, 0, 0, 0, 0, 0, 0, 0, 0, 0, 0, 0, 0, 0, 0, 0, 0, 0, 0, 0, 0, 0, 0, 0, 0, 0, 0, 0, 0, 0, 0, 0, 0, 0, 0, 0, 0, 0, 0, 0, 0, 0, 0, 0, 0, 0, 0, 0, 0, 0, 0, 0, 0, 0, 0, 0, 0, 0, 0, 0, 0, 0, 0, 0, 0, 0, 0, 0, 0, 0, 0, 0, 0, 0, 0, 0, 0, 0, 0, 0, 0, 0, 0, 0, 0, 0, 0, 0, 0, 0, 0, 0, 0, 0, 0, 0, 0, 0, 0, 0, 0, 0, 0, 0, 0, 0, 0, 0, 0, 0, 0, 0, 0, 0, 0, 0, 0, 0, 0, 0, 0, 0, 0, 0, 0, 0, 0, 0, 0, 0, 0, 0, 0, 0, 0, 0, 0, 0, 0, 0, 0, 0, 0, 0, 0, 0, 0, 0, 0, 0, 0, 0, 0, 0, 0, 0, 0, 0, 0, 0, 0, 0, 0, 0, 0, 0, 0, 0, 0, 0, 0, 0, 0, 0, 0, 0, 0, 0, 0, 0, 0, 0, 0, 0, 0, 0, 0, 0, 0, 0, 0, 0, 0, 0, 0, 0, 0, 0, 0, 0, 0, 0, 0, 0, 0, 0, 0, 0, 0, 0, 0, 0, 0, 0, 0, 0, 0, 0, 0, 0, 0, 0, 0, 0, 0, 0, 0, 0, 0, 0, 0, 0, 0, 0, 0, 0, 0, 0, 0, 0, 0, 0, 0, 0, 0, 0, 0, 0, 0, 0, 0, 0, 0, 0, 0, 0, 0, 0, 0, 0, 0, 0, 0, 0, 0, 0, 0, 0, 0, 1, 0, 0, 0, 0, 0, 0, 0, 0, 0, 0, 0, 0, 0, 0, 0, 0, 0, 0, 0, 0, 0, 0, 0, 0, 0, 0, 0, 0, 0, 0, 0, 0, 0, 0, 0, 0, 0, 0, 0, 0, 0, 0, 0, 0, 0, 0, 0, 0, 0, 0, 0, 0, 0, 0, 0, 0, 0, 0, 0, 0, 0, 0, 0, 0, 0, 0, 0, 0, 0, 0, 0, 0, 0, 0, 0, 0, 0, 0, 0, 0, 0, 0, 0, 0, 0, 0, 0, 0, 0, 0, 0, 0, 0, 0, 0, 0, 0, 0, 0, 0, 0, 0, 0, 0, 0, 0, 0, 0, 0, 0, 0, 0, 0, 0, 0, 0, 0, 0, 0, 0, 0, 0, 0, 0, 0, 0, 0, 0, 0, 0, 0, 0, 0, 0, 0, 0, 0, 0, 0, 0, 0, 0, 0, 0, 0, 0, 0, 0, 0, 0, 0, 0, 0, 0, 0, 0, 0, 0, 0, 0, 0, 0, 0, 0, 0, 0, 0, 0, 0, 0, 0, 0, 0, 0, 0, 0, 0, 0, 0, 0, 0, 0, 0, 0, 0, 0, 0, 0, 0, 0, 0, 0, 0, 0, 0, 0, 0, 0, 0, 0, 0, 0, 0, 0, 0, 0, 0, 0, 0, 0, 0, 0, 0, 0, 0, 0, 0, 0, 0, 0, 0, 0, 0, 0, 0, 0, 0, 0, 0, 0, 0, 0, 0, 0, 0, 0, 0, 0, 0, 0, 0, 0, 0, 0, 0, 0, 0, 0, 0, 0, 0, 0, 0, 0, 0, 0, 0, 0, 0, 0, 0, 0, 0, 0, 0, 0, 0, 0, 0, 0, 0, 0, 0, 0, 0, 0, 0, 0, 0, 0, 0, 0, 0, 0, 0, 0, 0, 0, 0, 0, 0, 0, 0, 0, 0, 0, 0, 0, 0, 0, 0, 0, 0, 0, 0, 0, 0, 0, 0, 0, 0, 0, 0, 0, 0, 0, 0, 0, 0, 0, 0, 0, 0, 0, 0, 0, 0, 0, 0, 0, 0, 0, 0, 0, 0, 0, 0, 0, 0, 0, 0, 0, 0, 0, 0, 0, 0, 0, 0, 0, 0, 0, 0, 0, 0, 0, 0, 0, 0, 0, 0, 0, 0, 0, 0, 0, 0, 0, 0, 0, 0, 0, 0, 0, 0, 0, 0, 0, 0, 0, 0, 0, 0, 0, 0, 0, 0, 0, 0, 0, 0, 0, 0, 0, 0, 0, 0, 0, 0, 0, 0, 0, 0, 0, 0, 0, 0, 0, 0, 0, 0, 0, 0, 0, 0, 0, 0, 0, 0, 0, 0, 0, 0, 0, 0, 0, 0, 0, 0, 0, 0, 0, 0, 0, 0, 0, 0, 0, 0, 0, 0, 0, 0, 0, 0, 0, 0, 0, 0, 0, 0, 0, 0, 0, 0, 0, 0, 0, 0, 0, 0, 0, 0, 0, 0, 0, 0, 0, 0, 0, 0, 0, 0, 0, 0, 0, 0, 0, 0, 0, 0, 0, 0, 0, 0, 0, 0, 0, 0, 0, 0, 0, 0, 0, 0, 0, 0, 0, 0, 0, 0, 0, 0, 0, 0, 0, 0, 0, 0, 0, 0, 0, 1, 0, 0, 0, 0, 0, 0, 0, 0, 0, 0, 0, 0, 0, 0, 0, 0, 0, 0, 0, 0, 0, 0, 0, 0, 0, 0, 0, 0, 0, 0, 0, 0, 0, 0, 0, 2, 0, 0, 0, 0, 0, 0, 0, 0, 0, 0, 0, 0, 0, 0, 0, 0, 0, 0, 0, 0, 0, 0, 0, 0, 0, 0, 0, 0, 0, 0, 0, 0, 0, 0, 0, 0, 0, 0, 0, 0, 1, 0, 0, 0, 0, 0, 0, 0, 0, 0, 0, 0, 0, 0, 0, 0, 0, 0, 0, 0, 0, 0, 0, 0, 0, 0, 0, 0, 0, 0, 0, 0, 0, 0, 0, 0, 0, 0, 0, 0, 0, 0, 0, 0, 0, 0, 0, 0, 0, 0, 0, 0, 0, 0, 0, 0, 0, 0, 0, 0, 0, 0, 0, 0, 0, 0, 0, 0, 0, 0, 0, 0, 0, 0, 0, 0, 0, 0, 0, 0, 0, 0, 0, 0, 0, 0, 0, 0, 0, 0, 0, 0, 0, 0, 0, 0, 0, 0, 0, 0, 0, 0, 0, 0, 0, 0, 0, 0, 0, 0, 0, 0, 0, 0, 0, 0, 0, 0, 0, 0, 0, 0, 0, 0, 0, 0, 0, 0, 0, 0, 0, 0, 0, 0, 0, 0, 0, 0, 0, 0, 0, 0, 0, 0, 0, 0, 0, 0, 0, 0, 0, 0, 0, 0, 0, 0, 0, 0, 0, 0, 0, 0, 0, 0, 0, 0, 0, 0, 0, 0, 0, 0, 0, 0, 0, 0, 0, 0, 0, 0, 0, 0, 0, 0, 0, 0, 0, 0, 0, 0, 0, 0, 0, 0, 0, 0, 0, 0, 0, 0, 0, 0, 0, 0, 0, 0, 0, 0, 0, 0, 0, 0, 0, 0, 0, 0, 0, 0, 0, 0, 0, 0, 0, 0, 0, 0, 0, 0, 0, 0, 0, 0, 0, 0, 0, 0, 0, 0, 0, 0, 0, 0, 0, 0, 0, 0, 0, 0, 0, 0, 0, 0, 0, 0, 0, 0, 0, 0, 0, 0, 0, 0, 0, 0, 0, 0, 0, 0, 0, 0, 0, 0, 0, 0, 0, 0, 0, 0, 0, 0, 0, 0, 0, 0, 0, 0, 0, 0, 0, 0, 0, 0, 0, 0, 0, 0, 0, 0, 0, 0, 0, 0, 0, 0, 0, 0, 0, 0, 0, 0, 0, 0, 0, 0, 0, 0, 0, 0, 0, 0, 0, 0, 0, 0, 0, 0, 0, 0, 0, 0, 0, 0, 0, 0, 0, 0, 0, 0, 0, 0, 0, 0, 0, 0, 0, 0, 0, 0, 0, 0, 0, 0, 0, 0, 0, 0, 0, 0, 0, 0, 0, 0, 0, 0, 0, 0, 0, 0, 0, 0, 0, 0, 0, 0, 0, 0, 0, 0, 0, 0, 0, 0, 0, 0, 0, 0, 0, 0, 0, 0, 0, 0, 0, 0, 0, 0, 0, 0, 0, 0, 0, 0, 0, 0, 0, 0, 0, 0, 0, 0, 0, 0, 0, 0, 0, 0, 0, 0, 0, 0, 0, 0, 0, 0, 0, 0, 0, 0, 0, 0, 0, 0, 0, 0, 0, 0, 0, 0, 0, 0, 0, 0, 0, 0, 0, 0, 0, 0, 0, 0, 0, 0, 0, 0, 0, 0, 0, 0, 0, 0, 0, 0, 0, 0, 0, 0, 0, 0, 0, 0, 0, 0, 0, 0, 0, 0, 0, 0, 0, 0, 0, 0, 0, 0, 0, 0, 0, 0, 0, 0, 0, 0, 0, 0, 0, 0, 0, 0, 1, 0, 0, 0, 0, 0, 0, 0, 0, 0, 0, 0, 0, 0, 0, 0, 0, 0, 0, 0, 0, 0, 0, 0, 0, 0, 0, 0, 0, 0, 0, 0, 0, 0, 0, 0, 0, 0, 0, 0, 0, 0, 0, 0, 0, 0, 0, 0, 0, 0, 0, 0, 0, 0, 0, 0, 0, 0, 0, 0, 0, 0, 0, 0, 0, 0, 0, 0, 0, 0, 0, 0, 0, 0, 0, 0, 0, 0, 0, 0, 0, 0, 0, 0, 0, 0, 0, 0, 0, 0, 0, 0, 0, 0, 0, 0, 0, 0, 0, 0, 0, 0, 0, 0, 0, 0, 0, 0, 0, 0, 0, 2, 0, 0, 0, 0, 0, 0, 0, 0, 0, 0, 0, 0, 0, 0, 0, 0, 0, 0, 0, 0, 0, 0, 0, 0, 0, 0, 0, 0, 0, 0, 0, 0, 0, 0, 0, 0, 0, 0, 0, 0, 0, 0, 0, 0, 0, 0, 0, 0, 0, 0, 0, 0, 0, 0, 0, 0, 0, 0, 0, 0, 0, 0, 0, 0, 0, 0, 0, 0, 0, 0, 0, 0, 0, 0, 0, 0, 0, 0, 0, 0, 0, 0, 0, 0, 0, 0, 0, 0, 0, 0, 0, 0, 0, 0, 0, 0, 0, 0, 0, 0, 0, 0, 0, 0, 0, 0, 0, 0, 0, 0, 0, 0, 0, 0, 0, 0, 0, 0, 0, 0, 0, 0, 0, 0, 0, 0, 0, 0, 0, 0, 0, 0, 0, 0, 0, 0, 0, 0, 0, 0, 0, 0, 0, 0, 0, 0, 0, 0, 0, 0, 0, 0, 0, 0, 0, 0, 0, 0, 0, 0, 0, 0, 0, 0, 0, 0, 0, 0, 0, 0, 0, 0, 0, 0, 0, 0, 0, 0, 0, 0, 0, 0, 0, 0, 0, 0, 0, 0, 0, 0, 0, 0, 0, 0, 0, 0, 0, 0, 0, 0, 0, 0, 0, 0, 0, 0, 0, 0, 0, 0, 0, 0, 0, 0, 0, 0, 0, 0, 0, 0, 0, 0, 0, 0, 0, 0, 0, 0, 0, 0, 0, 0, 0, 0, 0, 0, 0, 0, 0, 0, 0, 0, 0, 0, 0, 0, 0, 0, 0, 0, 0, 0, 0, 0, 0, 0, 0, 0, 0, 0, 0, 0, 0, 0, 0, 0, 0, 0, 0, 0, 0, 0, 0, 0, 0, 0, 0, 0, 0, 0, 0, 0, 0, 0, 0, 0, 0, 0, 0, 0, 0, 0, 0, 0, 0, 0, 0, 0, 0, 0, 0, 0, 0, 0, 0, 0, 0, 0, 0, 0, 0, 0, 0, 0, 0, 0, 0, 0, 0, 0, 0, 0, 0, 0, 0, 0, 0, 0, 0, 0, 0, 0, 0, 0, 0, 0, 0, 0, 0, 0, 0, 0, 0, 0, 0, 0, 0, 0, 0, 0, 0, 0, 0, 0, 0, 0, 0, 0, 0, 0, 0, 0, 0, 0, 0, 0, 0, 0, 0, 0, 0, 0, 0, 0, 0, 0, 0, 0, 0, 0, 0, 0, 0, 0, 0, 0, 0, 0, 0, 0, 0, 0, 0, 0, 0, 0, 0, 0, 0, 0, 0, 0, 0, 0, 0, 0, 0, 0, 0, 0, 0, 0, 0, 0, 0, 0, 0, 0, 0, 0, 0, 0, 0, 0, 0, 0, 0, 0, 0, 0, 0, 0, 0, 0, 0, 0, 0, 0, 0, 0, 0, 0, 0, 0, 0, 0, 0, 0, 0, 0, 0, 0, 0, 0, 0, 0, 0, 0, 0, 0, 0, 0, 0, 0, 0, 0, 0, 0, 0, 0, 0, 0, 0, 0, 0, 0, 0, 0, 0, 0, 0, 0, 0, 0, 0, 0, 0, 0, 0, 0, 0, 0, 0, 0, 0, 0, 0, 0, 0, 0, 0, 0, 0, 0, 0, 0, 0, 0, 0, 0, 0, 0, 0, 0, 0, 0, 0, 0, 0, 0, 0, 0, 0, 0, 0, 0, 0, 0, 0, 0, 0, 0, 0, 0, 0, 0, 0, 0, 0, 0, 0, 0, 0, 0, 0, 0, 0, 0, 0, 0, 0, 0, 0, 0, 0, 0, 0, 0, 0, 0, 0, 0, 0, 0, 0, 0, 0, 0, 0, 0, 0, 0, 0, 0, 0, 0, 0, 0, 0, 0, 0, 0, 0, 0, 0, 0, 0, 0, 0, 0, 0, 0, 0, 0, 0, 0, 0, 0, 0, 0, 0, 0, 0, 0, 0, 0, 0, 0, 0, 0, 0, 0, 0, 0, 0, 0, 0, 0, 0, 0, 0, 0, 0, 0, 0, 0, 0, 0, 0, 0, 0, 0, 0, 0, 0, 0, 0, 0, 0, 0, 0, 0, 0, 0, 0, 0, 0, 0, 0, 0, 0, 0, 0, 0, 0, 0, 0, 0, 0, 0, 0, 0, 0, 0, 0, 0, 0, 0, 0, 0, 0, 0, 0, 0, 0, 0, 0, 0, 0, 0, 0, 0, 0, 0, 0, 0, 0, 0, 0, 0, 1, 0, 0, 0, 0, 0, 0, 0, 0, 0, 0, 0, 0, 0, 0, 0, 0, 0, 0, 0, 0, 0, 0, 0, 0, 0, 0, 0, 0, 0, 0, 0, 0, 0, 0, 0, 0, 0, 0, 0, 0, 0, 0, 0, 0, 0, 0, 0, 0, 0, 0, 0, 0, 0, 0, 0, 0, 0, 0, 0, 0, 0, 0, 0, 0, 0, 0, 0, 0, 0, 0, 0, 0, 0, 0, 0, 0, 0, 0, 0, 0, 0, 0, 0, 0, 0, 0, 0, 0, 0, 0, 0, 0, 0, 0, 0, 0, 0, 0, 0, 0, 0, 0, 0, 0, 0, 0, 0, 1, 0, 0, 0, 0, 0, 0, 0, 0, 0, 0, 0, 0, 0, 0, 0, 0, 0, 0, 0, 0, 0, 0, 0, 0, 0, 0, 0, 0, 0, 0, 0, 0, 0, 0, 0, 0, 0, 0, 0, 0, 0, 0, 0, 0, 0, 0, 0, 0, 0, 0, 0, 0, 0, 0, 0, 0, 0, 0, 0, 0, 0, 0, 0, 0, 0, 0, 0, 0, 0, 0, 0, 0, 0, 0, 0, 0, 0, 0, 0, 0, 0, 0, 0, 0, 0, 0, 0, 0, 0, 0, 0, 0, 0, 0, 0, 0, 0, 0, 0, 0, 0, 0, 0, 0, 0, 0, 0, 0, 0, 0, 0, 0, 0, 0, 0, 0, 0, 0, 0, 0, 0, 0, 0, 0, 0, 0, 0, 0, 0, 0, 0, 0, 0, 0, 0, 0, 0, 0, 0, 0, 0, 0, 0, 0, 0, 0, 0, 0, 0, 0, 0, 0, 0, 0, 0, 0, 0, 0, 0, 0, 0, 0, 0, 0, 0, 0, 0, 0, 0, 0, 0, 0, 0, 0, 0, 0, 0, 0, 0, 0, 0, 0, 0, 0, 0, 0, 0, 0, 0, 0, 0, 0, 0, 0, 0, 0, 0, 0, 0, 0, 0, 0, 0, 0, 0, 0, 0, 0, 0, 0, 0, 0, 0, 0, 0, 0, 0, 0, 0, 0, 0, 0, 0, 0, 0, 0, 0, 0, 0, 0, 0, 0, 0, 0, 0, 0, 0, 0, 0, 0, 0, 0, 0, 0, 0, 0, 0, 0, 0, 0, 0, 0, 0, 0, 0, 0, 0, 0, 0, 0, 0, 0, 0, 0, 0, 0, 0, 0, 0, 0, 0, 0, 0, 0, 0, 0, 0, 0, 0, 0, 0, 0, 0, 0, 0, 0, 0, 0, 0, 0, 0, 0, 0, 0, 0, 0, 0, 0, 0, 0, 0, 0, 0, 0, 0, 0, 0, 0, 0, 0, 0, 0, 0, 0, 0, 0, 0, 0, 0, 0, 0, 0, 0, 0, 0, 0, 0, 0, 0, 0, 0, 0, 0, 0, 0, 0, 0, 0, 0, 0, 0, 0, 0, 0, 0, 0, 0, 0, 0, 0, 0, 0, 0, 0, 0, 0, 0, 0, 0, 0, 0, 0, 0, 0, 0, 0, 0, 0, 0, 0, 0, 0, 0, 0, 0, 0, 0, 0, 0, 0, 0, 0, 0, 0, 0, 0, 0, 0, 0, 0, 0, 0, 0, 0, 0, 0, 0, 0, 0, 0, 0, 0, 0, 0, 0, 0, 0, 0, 0, 0, 0, 0, 0, 0, 0, 0, 0, 0, 0, 0, 0, 0, 0, 0, 0, 0, 0, 0, 0, 0, 0, 0, 0, 0, 0, 0, 0, 0, 0, 0, 0, 0, 0, 0, 0, 0, 0, 0, 0, 0, 0, 0, 0, 0, 0, 0, 0, 0, 0, 0, 0, 0, 0, 2, 0, 1, 0]\n"
     ]
    }
   ],
   "source": [
    "test_bow = bow_encoding(test_words, vocabulary)\n",
    "print(test_bow)"
   ]
  },
  {
   "cell_type": "code",
   "execution_count": 40,
   "metadata": {},
   "outputs": [
    {
     "data": {
      "text/plain": [
       "5000"
      ]
     },
     "execution_count": 40,
     "metadata": {},
     "output_type": "execute_result"
    }
   ],
   "source": [
    "len(test_bow)"
   ]
  },
  {
   "cell_type": "markdown",
   "metadata": {},
   "source": [
    "So now we know how to construct a bag of words encoding of a user provided review, how to we send it to our endpoint? First, we need to start the endpoint back up."
   ]
  },
  {
   "cell_type": "code",
   "execution_count": 41,
   "metadata": {},
   "outputs": [
    {
     "name": "stderr",
     "output_type": "stream",
     "text": [
      "Parameter image will be renamed to image_uri in SageMaker Python SDK v2.\n",
      "Using already existing model: xgboost-2020-08-03-06-55-21-301\n"
     ]
    },
    {
     "name": "stdout",
     "output_type": "stream",
     "text": [
      "-------------!"
     ]
    }
   ],
   "source": [
    "xgb_predictor = xgb.deploy(initial_instance_count = 1, instance_type = 'ml.m4.xlarge')"
   ]
  },
  {
   "cell_type": "markdown",
   "metadata": {},
   "source": [
    "At this point we could just do the same thing that we did earlier when we tested our deployed model and send `test_bow` to our endpoint using the `xgb_predictor` object. However, when we eventually construct our Lambda function we won't have access to this object, so how do we call a SageMaker endpoint?\n",
    "\n",
    "It turns out that Python functions that are used in Lambda have access to another Amazon library called `boto3`. This library provides an API for working with Amazon services, including SageMaker. To start with, we need to get a handle to the SageMaker runtime."
   ]
  },
  {
   "cell_type": "code",
   "execution_count": 42,
   "metadata": {},
   "outputs": [],
   "source": [
    "import boto3\n",
    "\n",
    "runtime = boto3.Session().client('sagemaker-runtime')"
   ]
  },
  {
   "cell_type": "markdown",
   "metadata": {},
   "source": [
    "And now that we have access to the SageMaker runtime, we can ask it to make use of (invoke) an endpoint that has already been created. However, we need to provide SageMaker with the name of the deployed endpoint. To find this out we can print it out using the `xgb_predictor` object."
   ]
  },
  {
   "cell_type": "code",
   "execution_count": 43,
   "metadata": {},
   "outputs": [
    {
     "data": {
      "text/plain": [
       "'xgboost-2020-08-03-06-55-21-301'"
      ]
     },
     "execution_count": 43,
     "metadata": {},
     "output_type": "execute_result"
    }
   ],
   "source": [
    "xgb_predictor.endpoint"
   ]
  },
  {
   "cell_type": "markdown",
   "metadata": {},
   "source": [
    "Using the SageMaker runtime and the name of our endpoint, we can invoke the endpoint and send it the `test_bow` data."
   ]
  },
  {
   "cell_type": "code",
   "execution_count": 44,
   "metadata": {},
   "outputs": [
    {
     "ename": "ParamValidationError",
     "evalue": "Parameter validation failed:\nInvalid type for parameter Body, value: [0, 0, 0, 0, 0, 0, 0, 0, 0, 0, 0, 0, 0, 0, 0, 0, 0, 0, 0, 0, 0, 0, 0, 0, 0, 0, 0, 0, 0, 0, 0, 0, 0, 0, 0, 0, 0, 0, 0, 0, 0, 0, 0, 0, 0, 0, 0, 0, 0, 0, 0, 0, 0, 0, 0, 0, 0, 0, 0, 0, 0, 0, 0, 0, 0, 0, 0, 0, 0, 0, 0, 0, 0, 0, 0, 0, 0, 0, 0, 0, 0, 0, 0, 0, 0, 0, 0, 0, 0, 0, 0, 0, 0, 0, 0, 0, 0, 0, 0, 0, 0, 0, 0, 0, 0, 0, 0, 0, 0, 0, 0, 0, 0, 0, 0, 0, 0, 0, 0, 0, 0, 0, 0, 0, 0, 0, 0, 0, 0, 0, 0, 0, 0, 0, 0, 0, 0, 0, 0, 0, 0, 0, 0, 0, 0, 0, 0, 0, 0, 0, 0, 0, 0, 0, 0, 0, 0, 0, 0, 0, 0, 0, 0, 0, 0, 0, 0, 0, 0, 0, 0, 0, 0, 0, 0, 0, 0, 0, 0, 0, 0, 0, 0, 0, 0, 0, 0, 0, 0, 0, 0, 0, 0, 0, 0, 0, 0, 0, 0, 0, 0, 0, 0, 0, 0, 0, 0, 0, 0, 0, 0, 0, 0, 0, 0, 0, 0, 0, 0, 0, 0, 0, 0, 0, 0, 0, 1, 0, 0, 0, 0, 0, 0, 0, 0, 0, 0, 0, 0, 0, 0, 0, 0, 0, 0, 0, 0, 0, 0, 0, 0, 0, 0, 0, 0, 0, 1, 0, 0, 0, 0, 0, 0, 0, 0, 0, 0, 0, 0, 0, 0, 0, 0, 0, 0, 0, 0, 0, 0, 0, 0, 0, 0, 0, 0, 0, 0, 0, 0, 0, 0, 0, 0, 0, 0, 0, 0, 0, 0, 0, 0, 0, 0, 0, 0, 0, 0, 0, 0, 0, 0, 0, 0, 0, 0, 0, 0, 0, 0, 0, 0, 0, 0, 0, 0, 0, 0, 0, 0, 0, 0, 0, 0, 0, 0, 0, 0, 0, 0, 0, 0, 0, 0, 0, 0, 0, 0, 0, 0, 0, 0, 0, 0, 0, 0, 0, 0, 0, 0, 0, 0, 0, 0, 0, 0, 0, 0, 0, 0, 0, 0, 0, 0, 0, 0, 0, 0, 0, 0, 0, 0, 0, 0, 0, 0, 0, 0, 0, 0, 0, 0, 0, 0, 0, 0, 0, 0, 0, 0, 0, 0, 0, 0, 0, 0, 0, 0, 0, 0, 0, 0, 0, 0, 0, 0, 0, 0, 0, 0, 0, 0, 0, 0, 0, 0, 0, 0, 0, 0, 0, 0, 0, 0, 0, 0, 0, 0, 0, 0, 0, 0, 0, 0, 0, 0, 0, 0, 0, 0, 0, 0, 0, 0, 0, 0, 0, 0, 0, 0, 0, 0, 0, 0, 0, 0, 0, 0, 0, 0, 0, 0, 0, 0, 0, 0, 0, 0, 0, 0, 0, 0, 0, 0, 0, 0, 0, 0, 0, 0, 0, 0, 0, 0, 0, 0, 0, 0, 0, 0, 0, 0, 0, 0, 0, 0, 0, 0, 0, 0, 0, 0, 0, 0, 0, 0, 0, 0, 0, 0, 0, 0, 0, 0, 0, 0, 0, 0, 0, 0, 0, 0, 0, 0, 0, 0, 0, 0, 0, 0, 0, 0, 0, 0, 0, 0, 0, 0, 0, 0, 0, 0, 0, 0, 0, 0, 0, 0, 0, 0, 0, 0, 0, 0, 0, 0, 0, 0, 0, 0, 0, 0, 0, 0, 0, 0, 0, 0, 0, 0, 0, 0, 0, 0, 0, 0, 0, 0, 0, 0, 0, 0, 0, 0, 0, 0, 0, 0, 0, 0, 0, 0, 0, 0, 0, 0, 0, 0, 0, 0, 0, 0, 0, 0, 0, 0, 0, 0, 0, 0, 0, 0, 0, 0, 0, 0, 0, 0, 0, 0, 0, 0, 0, 0, 0, 0, 0, 1, 0, 0, 0, 0, 0, 0, 0, 0, 0, 0, 0, 0, 0, 0, 0, 0, 0, 0, 0, 0, 0, 0, 0, 0, 0, 0, 0, 0, 0, 0, 0, 0, 0, 0, 0, 0, 0, 0, 0, 0, 0, 0, 0, 0, 0, 0, 0, 0, 0, 0, 0, 0, 0, 0, 0, 0, 0, 0, 0, 0, 0, 0, 0, 0, 0, 0, 0, 0, 0, 0, 0, 0, 0, 0, 0, 0, 0, 0, 0, 0, 0, 0, 0, 0, 0, 0, 0, 0, 0, 0, 0, 0, 0, 0, 0, 0, 0, 0, 0, 0, 0, 0, 0, 0, 0, 0, 0, 0, 0, 0, 0, 0, 0, 0, 0, 0, 0, 0, 0, 0, 0, 0, 0, 0, 0, 0, 0, 0, 0, 0, 0, 0, 0, 0, 0, 0, 0, 0, 0, 0, 0, 0, 0, 0, 0, 0, 0, 0, 0, 0, 0, 0, 0, 0, 0, 0, 0, 0, 0, 0, 0, 0, 0, 0, 0, 0, 0, 0, 0, 0, 0, 0, 0, 0, 0, 0, 0, 0, 0, 0, 0, 0, 0, 0, 0, 0, 0, 0, 0, 0, 0, 0, 0, 0, 0, 0, 0, 0, 0, 0, 0, 0, 0, 0, 0, 0, 0, 0, 0, 0, 0, 0, 0, 0, 0, 0, 0, 0, 0, 0, 0, 0, 0, 0, 0, 0, 0, 0, 0, 0, 0, 0, 0, 0, 0, 0, 0, 0, 0, 0, 0, 0, 0, 0, 0, 0, 0, 0, 0, 0, 0, 0, 0, 1, 0, 0, 0, 0, 0, 0, 0, 0, 0, 0, 0, 0, 0, 0, 0, 0, 0, 0, 0, 0, 0, 0, 0, 0, 0, 0, 0, 0, 0, 0, 0, 0, 0, 0, 0, 0, 0, 0, 0, 0, 0, 0, 0, 0, 0, 0, 0, 0, 0, 0, 0, 0, 0, 0, 0, 0, 0, 0, 0, 0, 0, 0, 0, 0, 0, 0, 0, 0, 0, 0, 0, 0, 0, 0, 0, 0, 0, 0, 0, 0, 0, 0, 0, 0, 0, 0, 1, 0, 0, 0, 0, 0, 0, 0, 0, 0, 0, 0, 0, 0, 0, 0, 0, 0, 0, 0, 0, 0, 0, 0, 0, 0, 0, 0, 0, 0, 0, 0, 0, 0, 0, 0, 0, 0, 0, 0, 0, 0, 0, 0, 0, 0, 0, 0, 0, 0, 0, 0, 0, 0, 0, 0, 0, 0, 0, 0, 0, 0, 0, 0, 0, 0, 0, 0, 0, 0, 0, 0, 0, 0, 0, 0, 0, 0, 0, 0, 0, 0, 0, 0, 0, 0, 0, 0, 0, 0, 0, 0, 0, 0, 0, 0, 0, 0, 0, 0, 0, 0, 0, 0, 0, 0, 0, 0, 0, 0, 0, 0, 0, 0, 0, 0, 0, 0, 0, 0, 0, 0, 0, 0, 0, 0, 0, 0, 0, 0, 0, 0, 0, 0, 0, 0, 0, 0, 0, 0, 0, 0, 0, 0, 0, 0, 0, 0, 0, 0, 0, 0, 0, 0, 0, 0, 0, 0, 0, 0, 0, 0, 0, 0, 0, 0, 0, 0, 0, 0, 0, 0, 0, 0, 0, 0, 0, 0, 0, 0, 0, 0, 0, 0, 0, 0, 0, 0, 0, 0, 0, 0, 0, 0, 0, 0, 0, 0, 0, 0, 0, 0, 0, 0, 0, 0, 0, 0, 0, 0, 0, 0, 0, 0, 0, 0, 0, 0, 0, 0, 0, 0, 0, 0, 0, 0, 0, 0, 0, 0, 0, 0, 0, 0, 0, 0, 0, 0, 0, 0, 0, 0, 0, 0, 0, 0, 0, 0, 0, 0, 0, 0, 0, 1, 0, 0, 0, 0, 0, 0, 0, 0, 0, 0, 0, 0, 0, 0, 0, 0, 0, 0, 0, 0, 0, 0, 0, 0, 0, 0, 0, 0, 0, 0, 0, 0, 0, 0, 0, 0, 0, 0, 0, 0, 0, 0, 0, 0, 0, 0, 0, 0, 0, 0, 0, 0, 0, 0, 0, 1, 0, 0, 0, 0, 0, 0, 0, 0, 0, 0, 0, 0, 0, 0, 0, 0, 0, 0, 0, 0, 0, 0, 0, 0, 0, 0, 0, 0, 0, 0, 0, 0, 0, 0, 0, 0, 0, 0, 0, 0, 0, 0, 0, 0, 0, 0, 0, 0, 0, 0, 0, 0, 0, 0, 0, 0, 0, 0, 0, 0, 0, 0, 0, 0, 0, 0, 0, 0, 0, 0, 0, 0, 0, 0, 0, 0, 0, 0, 0, 0, 0, 0, 0, 0, 0, 0, 0, 0, 0, 0, 0, 0, 0, 0, 0, 0, 0, 0, 0, 0, 0, 0, 0, 0, 0, 0, 0, 0, 0, 0, 0, 0, 0, 0, 0, 0, 0, 0, 0, 0, 0, 0, 0, 0, 0, 0, 0, 0, 0, 0, 0, 0, 0, 0, 0, 0, 0, 0, 0, 0, 0, 0, 0, 0, 0, 0, 0, 0, 0, 0, 0, 0, 0, 0, 0, 0, 0, 0, 0, 0, 0, 0, 0, 0, 0, 0, 0, 0, 0, 0, 0, 0, 0, 0, 0, 0, 0, 0, 0, 0, 0, 0, 0, 0, 0, 0, 0, 0, 0, 0, 0, 0, 0, 0, 0, 0, 0, 0, 0, 0, 0, 0, 0, 0, 0, 0, 0, 0, 0, 0, 0, 0, 0, 0, 0, 0, 0, 0, 0, 0, 0, 0, 0, 0, 0, 0, 0, 0, 0, 0, 0, 0, 0, 0, 0, 0, 0, 0, 0, 0, 0, 0, 0, 0, 0, 0, 0, 0, 0, 0, 0, 0, 0, 0, 0, 0, 0, 0, 0, 0, 0, 0, 0, 0, 0, 0, 0, 0, 0, 0, 0, 0, 0, 0, 0, 0, 0, 0, 0, 0, 0, 0, 0, 0, 0, 0, 0, 0, 0, 0, 0, 0, 0, 0, 0, 0, 0, 0, 0, 0, 0, 0, 0, 0, 0, 0, 0, 0, 0, 0, 0, 0, 0, 0, 0, 0, 0, 0, 0, 0, 0, 0, 0, 0, 0, 0, 0, 0, 0, 0, 0, 0, 0, 0, 0, 0, 0, 0, 0, 0, 0, 0, 0, 0, 0, 0, 0, 0, 0, 0, 0, 0, 0, 0, 0, 0, 0, 0, 0, 0, 0, 0, 0, 0, 0, 0, 0, 0, 0, 0, 0, 0, 0, 0, 0, 0, 0, 0, 0, 0, 0, 0, 0, 0, 0, 0, 0, 0, 0, 0, 0, 0, 0, 0, 0, 0, 0, 0, 0, 0, 0, 0, 0, 0, 0, 0, 0, 0, 0, 0, 0, 0, 0, 0, 0, 0, 0, 0, 0, 0, 0, 0, 0, 0, 0, 0, 0, 0, 0, 0, 0, 0, 0, 0, 0, 0, 0, 0, 0, 0, 0, 0, 0, 0, 0, 0, 0, 0, 0, 0, 0, 0, 0, 0, 0, 0, 0, 0, 0, 0, 0, 0, 0, 0, 0, 0, 0, 0, 0, 0, 0, 0, 0, 0, 0, 0, 0, 0, 0, 0, 0, 0, 0, 0, 0, 0, 0, 0, 0, 0, 0, 0, 0, 0, 0, 0, 0, 0, 0, 0, 0, 0, 0, 0, 0, 0, 0, 0, 0, 0, 0, 0, 0, 0, 0, 0, 0, 0, 0, 0, 0, 0, 0, 0, 0, 0, 0, 0, 0, 0, 0, 0, 0, 0, 0, 0, 0, 0, 0, 0, 0, 0, 0, 0, 0, 0, 0, 0, 0, 0, 0, 0, 0, 0, 0, 0, 0, 0, 0, 0, 0, 0, 0, 0, 0, 0, 0, 0, 0, 0, 0, 0, 0, 0, 0, 0, 0, 0, 0, 0, 0, 0, 0, 0, 0, 0, 0, 0, 0, 0, 0, 0, 0, 0, 0, 0, 0, 0, 0, 0, 0, 0, 0, 0, 0, 0, 0, 0, 0, 0, 0, 0, 0, 0, 0, 0, 0, 0, 0, 0, 0, 0, 0, 0, 0, 0, 0, 0, 0, 0, 0, 0, 0, 0, 0, 0, 0, 0, 0, 0, 0, 0, 0, 0, 0, 0, 0, 0, 0, 0, 0, 0, 0, 0, 0, 0, 0, 0, 0, 0, 0, 0, 0, 0, 0, 0, 0, 0, 0, 0, 0, 0, 0, 0, 0, 0, 0, 0, 0, 0, 0, 1, 0, 0, 0, 0, 0, 0, 0, 0, 0, 0, 0, 0, 0, 0, 0, 0, 0, 0, 0, 0, 0, 0, 0, 0, 0, 0, 0, 0, 0, 0, 0, 0, 0, 0, 0, 0, 0, 0, 0, 0, 0, 0, 0, 0, 0, 0, 0, 0, 0, 0, 0, 0, 0, 0, 0, 0, 0, 0, 0, 0, 0, 0, 0, 0, 0, 0, 0, 0, 0, 0, 0, 0, 0, 0, 1, 0, 0, 0, 0, 0, 0, 0, 0, 0, 0, 0, 0, 0, 0, 0, 0, 0, 0, 0, 0, 1, 0, 0, 1, 0, 0, 0, 0, 0, 0, 0, 0, 0, 0, 0, 0, 0, 0, 0, 0, 0, 0, 0, 0, 0, 0, 0, 0, 0, 0, 0, 0, 0, 0, 0, 0, 0, 0, 0, 0, 0, 0, 0, 0, 0, 0, 0, 0, 0, 0, 0, 0, 0, 0, 0, 0, 0, 0, 0, 0, 0, 0, 0, 0, 0, 0, 0, 0, 0, 0, 0, 0, 0, 0, 0, 0, 0, 0, 0, 0, 0, 0, 0, 0, 0, 0, 0, 0, 0, 0, 0, 0, 0, 0, 0, 0, 0, 0, 0, 0, 0, 0, 0, 0, 0, 0, 0, 0, 0, 0, 0, 0, 0, 0, 0, 0, 0, 0, 0, 0, 0, 0, 0, 0, 0, 0, 0, 0, 0, 0, 0, 0, 0, 0, 0, 0, 0, 0, 0, 0, 0, 0, 0, 0, 0, 0, 0, 0, 0, 0, 0, 0, 0, 0, 0, 0, 0, 0, 0, 0, 0, 0, 0, 0, 0, 0, 0, 0, 0, 0, 0, 0, 0, 0, 0, 0, 0, 0, 0, 0, 0, 0, 0, 0, 0, 0, 0, 0, 0, 0, 0, 0, 0, 0, 0, 0, 0, 0, 0, 0, 0, 0, 0, 0, 0, 0, 0, 0, 0, 0, 0, 0, 0, 0, 0, 0, 0, 0, 0, 0, 0, 0, 0, 0, 0, 0, 0, 0, 0, 0, 0, 0, 0, 0, 0, 0, 0, 0, 0, 0, 0, 0, 0, 0, 0, 0, 0, 0, 0, 0, 0, 0, 0, 0, 0, 0, 0, 0, 0, 0, 0, 0, 0, 0, 0, 0, 0, 0, 0, 0, 0, 0, 0, 0, 0, 0, 0, 0, 0, 0, 0, 0, 0, 0, 0, 0, 0, 0, 0, 0, 0, 0, 0, 0, 0, 0, 0, 0, 0, 0, 0, 0, 0, 0, 0, 0, 0, 0, 0, 0, 0, 0, 0, 0, 0, 0, 0, 0, 0, 0, 0, 0, 0, 0, 0, 0, 0, 0, 0, 0, 0, 0, 0, 0, 0, 0, 0, 0, 0, 0, 0, 0, 0, 0, 0, 0, 0, 0, 0, 0, 0, 0, 0, 0, 0, 0, 0, 0, 0, 0, 0, 0, 0, 0, 0, 0, 0, 0, 0, 0, 0, 0, 0, 0, 0, 0, 0, 0, 0, 0, 0, 0, 0, 0, 0, 0, 0, 0, 0, 0, 0, 0, 0, 0, 0, 0, 0, 0, 0, 0, 0, 0, 0, 0, 0, 0, 0, 0, 0, 0, 0, 0, 0, 0, 0, 0, 0, 0, 0, 0, 0, 0, 0, 0, 0, 0, 0, 0, 0, 0, 0, 0, 0, 0, 0, 0, 0, 0, 0, 0, 0, 0, 0, 0, 0, 0, 0, 0, 0, 0, 0, 0, 0, 0, 0, 0, 0, 0, 0, 0, 0, 0, 0, 0, 0, 0, 0, 0, 0, 0, 1, 0, 0, 0, 0, 0, 0, 0, 0, 0, 0, 0, 0, 0, 0, 0, 0, 0, 0, 0, 0, 0, 0, 0, 0, 0, 0, 0, 0, 0, 0, 0, 0, 0, 0, 0, 0, 0, 0, 0, 0, 0, 0, 0, 0, 0, 0, 0, 0, 0, 0, 0, 0, 0, 0, 0, 0, 0, 0, 0, 0, 0, 0, 0, 0, 0, 0, 0, 0, 0, 0, 0, 0, 0, 0, 0, 0, 0, 0, 0, 0, 0, 0, 0, 0, 0, 0, 0, 0, 0, 0, 0, 0, 0, 0, 0, 0, 0, 0, 0, 0, 0, 0, 0, 0, 0, 0, 0, 0, 0, 0, 0, 0, 0, 0, 0, 0, 0, 0, 0, 0, 0, 0, 0, 0, 0, 0, 0, 0, 0, 0, 0, 0, 0, 0, 0, 0, 0, 0, 0, 0, 0, 0, 0, 0, 0, 0, 0, 0, 0, 0, 0, 0, 0, 0, 0, 0, 0, 0, 0, 0, 0, 0, 0, 0, 0, 0, 0, 0, 0, 0, 0, 0, 0, 0, 0, 0, 0, 0, 0, 0, 0, 0, 0, 0, 0, 0, 0, 0, 0, 0, 0, 0, 0, 0, 0, 0, 0, 0, 0, 0, 0, 0, 0, 0, 0, 0, 0, 0, 0, 0, 0, 0, 0, 0, 0, 0, 0, 0, 0, 0, 0, 0, 0, 0, 0, 0, 0, 0, 0, 0, 0, 0, 0, 0, 0, 0, 0, 0, 0, 0, 0, 0, 0, 0, 0, 0, 0, 0, 0, 0, 0, 0, 0, 0, 0, 0, 0, 0, 0, 0, 0, 0, 0, 0, 0, 0, 0, 0, 0, 0, 0, 0, 0, 0, 0, 0, 0, 0, 0, 0, 0, 0, 0, 0, 0, 0, 0, 0, 0, 0, 0, 0, 0, 0, 0, 0, 0, 0, 0, 0, 0, 0, 0, 0, 0, 0, 0, 0, 0, 0, 0, 0, 0, 0, 0, 0, 0, 0, 0, 0, 0, 0, 0, 0, 0, 0, 0, 0, 0, 0, 0, 0, 0, 0, 0, 0, 0, 0, 0, 0, 0, 0, 0, 0, 0, 0, 0, 0, 0, 0, 0, 0, 0, 0, 0, 0, 0, 0, 0, 0, 0, 0, 0, 0, 0, 0, 0, 0, 0, 0, 0, 0, 0, 0, 0, 0, 0, 0, 0, 0, 0, 0, 0, 0, 0, 0, 0, 0, 0, 0, 0, 0, 0, 0, 0, 0, 0, 0, 0, 0, 0, 0, 0, 0, 0, 0, 0, 0, 0, 0, 0, 0, 0, 0, 0, 0, 0, 0, 0, 0, 0, 0, 0, 0, 0, 0, 0, 0, 0, 0, 0, 0, 0, 0, 0, 0, 0, 0, 0, 0, 0, 0, 0, 0, 0, 0, 0, 0, 0, 0, 0, 0, 0, 0, 0, 0, 0, 0, 0, 0, 0, 0, 0, 0, 0, 0, 0, 0, 0, 0, 0, 0, 0, 0, 0, 0, 0, 0, 0, 0, 0, 0, 0, 0, 0, 0, 0, 0, 0, 0, 0, 0, 0, 0, 0, 0, 0, 0, 0, 0, 0, 0, 0, 0, 0, 0, 0, 0, 0, 0, 0, 0, 1, 0, 0, 0, 0, 0, 0, 0, 0, 0, 0, 0, 0, 0, 0, 0, 0, 0, 0, 0, 0, 0, 0, 0, 0, 0, 0, 0, 0, 0, 0, 0, 0, 0, 0, 0, 2, 0, 0, 0, 0, 0, 0, 0, 0, 0, 0, 0, 0, 0, 0, 0, 0, 0, 0, 0, 0, 0, 0, 0, 0, 0, 0, 0, 0, 0, 0, 0, 0, 0, 0, 0, 0, 0, 0, 0, 0, 1, 0, 0, 0, 0, 0, 0, 0, 0, 0, 0, 0, 0, 0, 0, 0, 0, 0, 0, 0, 0, 0, 0, 0, 0, 0, 0, 0, 0, 0, 0, 0, 0, 0, 0, 0, 0, 0, 0, 0, 0, 0, 0, 0, 0, 0, 0, 0, 0, 0, 0, 0, 0, 0, 0, 0, 0, 0, 0, 0, 0, 0, 0, 0, 0, 0, 0, 0, 0, 0, 0, 0, 0, 0, 0, 0, 0, 0, 0, 0, 0, 0, 0, 0, 0, 0, 0, 0, 0, 0, 0, 0, 0, 0, 0, 0, 0, 0, 0, 0, 0, 0, 0, 0, 0, 0, 0, 0, 0, 0, 0, 0, 0, 0, 0, 0, 0, 0, 0, 0, 0, 0, 0, 0, 0, 0, 0, 0, 0, 0, 0, 0, 0, 0, 0, 0, 0, 0, 0, 0, 0, 0, 0, 0, 0, 0, 0, 0, 0, 0, 0, 0, 0, 0, 0, 0, 0, 0, 0, 0, 0, 0, 0, 0, 0, 0, 0, 0, 0, 0, 0, 0, 0, 0, 0, 0, 0, 0, 0, 0, 0, 0, 0, 0, 0, 0, 0, 0, 0, 0, 0, 0, 0, 0, 0, 0, 0, 0, 0, 0, 0, 0, 0, 0, 0, 0, 0, 0, 0, 0, 0, 0, 0, 0, 0, 0, 0, 0, 0, 0, 0, 0, 0, 0, 0, 0, 0, 0, 0, 0, 0, 0, 0, 0, 0, 0, 0, 0, 0, 0, 0, 0, 0, 0, 0, 0, 0, 0, 0, 0, 0, 0, 0, 0, 0, 0, 0, 0, 0, 0, 0, 0, 0, 0, 0, 0, 0, 0, 0, 0, 0, 0, 0, 0, 0, 0, 0, 0, 0, 0, 0, 0, 0, 0, 0, 0, 0, 0, 0, 0, 0, 0, 0, 0, 0, 0, 0, 0, 0, 0, 0, 0, 0, 0, 0, 0, 0, 0, 0, 0, 0, 0, 0, 0, 0, 0, 0, 0, 0, 0, 0, 0, 0, 0, 0, 0, 0, 0, 0, 0, 0, 0, 0, 0, 0, 0, 0, 0, 0, 0, 0, 0, 0, 0, 0, 0, 0, 0, 0, 0, 0, 0, 0, 0, 0, 0, 0, 0, 0, 0, 0, 0, 0, 0, 0, 0, 0, 0, 0, 0, 0, 0, 0, 0, 0, 0, 0, 0, 0, 0, 0, 0, 0, 0, 0, 0, 0, 0, 0, 0, 0, 0, 0, 0, 0, 0, 0, 0, 0, 0, 0, 0, 0, 0, 0, 0, 0, 0, 0, 0, 0, 0, 0, 0, 0, 0, 0, 0, 0, 0, 0, 0, 0, 0, 0, 0, 0, 0, 0, 0, 0, 0, 0, 0, 0, 0, 0, 0, 0, 0, 0, 0, 0, 0, 0, 0, 0, 0, 0, 0, 0, 0, 0, 0, 0, 0, 0, 0, 0, 0, 0, 0, 0, 0, 0, 0, 0, 0, 0, 0, 0, 0, 0, 0, 0, 0, 0, 0, 0, 0, 0, 0, 0, 0, 0, 0, 0, 0, 0, 0, 0, 0, 0, 0, 0, 0, 0, 0, 1, 0, 0, 0, 0, 0, 0, 0, 0, 0, 0, 0, 0, 0, 0, 0, 0, 0, 0, 0, 0, 0, 0, 0, 0, 0, 0, 0, 0, 0, 0, 0, 0, 0, 0, 0, 0, 0, 0, 0, 0, 0, 0, 0, 0, 0, 0, 0, 0, 0, 0, 0, 0, 0, 0, 0, 0, 0, 0, 0, 0, 0, 0, 0, 0, 0, 0, 0, 0, 0, 0, 0, 0, 0, 0, 0, 0, 0, 0, 0, 0, 0, 0, 0, 0, 0, 0, 0, 0, 0, 0, 0, 0, 0, 0, 0, 0, 0, 0, 0, 0, 0, 0, 0, 0, 0, 0, 0, 0, 0, 0, 2, 0, 0, 0, 0, 0, 0, 0, 0, 0, 0, 0, 0, 0, 0, 0, 0, 0, 0, 0, 0, 0, 0, 0, 0, 0, 0, 0, 0, 0, 0, 0, 0, 0, 0, 0, 0, 0, 0, 0, 0, 0, 0, 0, 0, 0, 0, 0, 0, 0, 0, 0, 0, 0, 0, 0, 0, 0, 0, 0, 0, 0, 0, 0, 0, 0, 0, 0, 0, 0, 0, 0, 0, 0, 0, 0, 0, 0, 0, 0, 0, 0, 0, 0, 0, 0, 0, 0, 0, 0, 0, 0, 0, 0, 0, 0, 0, 0, 0, 0, 0, 0, 0, 0, 0, 0, 0, 0, 0, 0, 0, 0, 0, 0, 0, 0, 0, 0, 0, 0, 0, 0, 0, 0, 0, 0, 0, 0, 0, 0, 0, 0, 0, 0, 0, 0, 0, 0, 0, 0, 0, 0, 0, 0, 0, 0, 0, 0, 0, 0, 0, 0, 0, 0, 0, 0, 0, 0, 0, 0, 0, 0, 0, 0, 0, 0, 0, 0, 0, 0, 0, 0, 0, 0, 0, 0, 0, 0, 0, 0, 0, 0, 0, 0, 0, 0, 0, 0, 0, 0, 0, 0, 0, 0, 0, 0, 0, 0, 0, 0, 0, 0, 0, 0, 0, 0, 0, 0, 0, 0, 0, 0, 0, 0, 0, 0, 0, 0, 0, 0, 0, 0, 0, 0, 0, 0, 0, 0, 0, 0, 0, 0, 0, 0, 0, 0, 0, 0, 0, 0, 0, 0, 0, 0, 0, 0, 0, 0, 0, 0, 0, 0, 0, 0, 0, 0, 0, 0, 0, 0, 0, 0, 0, 0, 0, 0, 0, 0, 0, 0, 0, 0, 0, 0, 0, 0, 0, 0, 0, 0, 0, 0, 0, 0, 0, 0, 0, 0, 0, 0, 0, 0, 0, 0, 0, 0, 0, 0, 0, 0, 0, 0, 0, 0, 0, 0, 0, 0, 0, 0, 0, 0, 0, 0, 0, 0, 0, 0, 0, 0, 0, 0, 0, 0, 0, 0, 0, 0, 0, 0, 0, 0, 0, 0, 0, 0, 0, 0, 0, 0, 0, 0, 0, 0, 0, 0, 0, 0, 0, 0, 0, 0, 0, 0, 0, 0, 0, 0, 0, 0, 0, 0, 0, 0, 0, 0, 0, 0, 0, 0, 0, 0, 0, 0, 0, 0, 0, 0, 0, 0, 0, 0, 0, 0, 0, 0, 0, 0, 0, 0, 0, 0, 0, 0, 0, 0, 0, 0, 0, 0, 0, 0, 0, 0, 0, 0, 0, 0, 0, 0, 0, 0, 0, 0, 0, 0, 0, 0, 0, 0, 0, 0, 0, 0, 0, 0, 0, 0, 0, 0, 0, 0, 0, 0, 0, 0, 0, 0, 0, 0, 0, 0, 0, 0, 0, 0, 0, 0, 0, 0, 0, 0, 0, 0, 0, 0, 0, 0, 0, 0, 0, 0, 0, 0, 0, 0, 0, 0, 0, 0, 0, 0, 0, 0, 0, 0, 0, 0, 0, 0, 0, 0, 0, 0, 0, 0, 0, 0, 0, 0, 0, 0, 0, 0, 0, 0, 0, 0, 0, 0, 0, 0, 0, 0, 0, 0, 0, 0, 0, 0, 0, 0, 0, 0, 0, 0, 0, 0, 0, 0, 0, 0, 0, 0, 0, 0, 0, 0, 0, 0, 0, 0, 0, 0, 0, 0, 0, 0, 0, 0, 0, 0, 0, 0, 0, 0, 0, 0, 0, 0, 0, 0, 0, 0, 0, 0, 0, 0, 0, 0, 0, 0, 0, 0, 0, 0, 0, 0, 0, 0, 0, 0, 0, 0, 0, 0, 0, 0, 0, 0, 0, 0, 0, 0, 0, 0, 0, 0, 0, 0, 0, 0, 0, 0, 0, 0, 0, 0, 0, 0, 0, 0, 0, 0, 0, 0, 0, 0, 0, 0, 0, 0, 0, 0, 0, 0, 0, 0, 0, 0, 0, 0, 0, 0, 0, 0, 0, 0, 0, 0, 0, 0, 0, 0, 0, 0, 0, 0, 0, 0, 0, 0, 0, 0, 0, 0, 0, 0, 0, 0, 0, 0, 0, 0, 0, 0, 0, 0, 0, 0, 0, 0, 0, 0, 0, 0, 0, 0, 0, 0, 0, 0, 0, 0, 0, 0, 0, 0, 0, 0, 0, 0, 0, 0, 0, 0, 0, 0, 0, 0, 0, 1, 0, 0, 0, 0, 0, 0, 0, 0, 0, 0, 0, 0, 0, 0, 0, 0, 0, 0, 0, 0, 0, 0, 0, 0, 0, 0, 0, 0, 0, 0, 0, 0, 0, 0, 0, 0, 0, 0, 0, 0, 0, 0, 0, 0, 0, 0, 0, 0, 0, 0, 0, 0, 0, 0, 0, 0, 0, 0, 0, 0, 0, 0, 0, 0, 0, 0, 0, 0, 0, 0, 0, 0, 0, 0, 0, 0, 0, 0, 0, 0, 0, 0, 0, 0, 0, 0, 0, 0, 0, 0, 0, 0, 0, 0, 0, 0, 0, 0, 0, 0, 0, 0, 0, 0, 0, 0, 0, 1, 0, 0, 0, 0, 0, 0, 0, 0, 0, 0, 0, 0, 0, 0, 0, 0, 0, 0, 0, 0, 0, 0, 0, 0, 0, 0, 0, 0, 0, 0, 0, 0, 0, 0, 0, 0, 0, 0, 0, 0, 0, 0, 0, 0, 0, 0, 0, 0, 0, 0, 0, 0, 0, 0, 0, 0, 0, 0, 0, 0, 0, 0, 0, 0, 0, 0, 0, 0, 0, 0, 0, 0, 0, 0, 0, 0, 0, 0, 0, 0, 0, 0, 0, 0, 0, 0, 0, 0, 0, 0, 0, 0, 0, 0, 0, 0, 0, 0, 0, 0, 0, 0, 0, 0, 0, 0, 0, 0, 0, 0, 0, 0, 0, 0, 0, 0, 0, 0, 0, 0, 0, 0, 0, 0, 0, 0, 0, 0, 0, 0, 0, 0, 0, 0, 0, 0, 0, 0, 0, 0, 0, 0, 0, 0, 0, 0, 0, 0, 0, 0, 0, 0, 0, 0, 0, 0, 0, 0, 0, 0, 0, 0, 0, 0, 0, 0, 0, 0, 0, 0, 0, 0, 0, 0, 0, 0, 0, 0, 0, 0, 0, 0, 0, 0, 0, 0, 0, 0, 0, 0, 0, 0, 0, 0, 0, 0, 0, 0, 0, 0, 0, 0, 0, 0, 0, 0, 0, 0, 0, 0, 0, 0, 0, 0, 0, 0, 0, 0, 0, 0, 0, 0, 0, 0, 0, 0, 0, 0, 0, 0, 0, 0, 0, 0, 0, 0, 0, 0, 0, 0, 0, 0, 0, 0, 0, 0, 0, 0, 0, 0, 0, 0, 0, 0, 0, 0, 0, 0, 0, 0, 0, 0, 0, 0, 0, 0, 0, 0, 0, 0, 0, 0, 0, 0, 0, 0, 0, 0, 0, 0, 0, 0, 0, 0, 0, 0, 0, 0, 0, 0, 0, 0, 0, 0, 0, 0, 0, 0, 0, 0, 0, 0, 0, 0, 0, 0, 0, 0, 0, 0, 0, 0, 0, 0, 0, 0, 0, 0, 0, 0, 0, 0, 0, 0, 0, 0, 0, 0, 0, 0, 0, 0, 0, 0, 0, 0, 0, 0, 0, 0, 0, 0, 0, 0, 0, 0, 0, 0, 0, 0, 0, 0, 0, 0, 0, 0, 0, 0, 0, 0, 0, 0, 0, 0, 0, 0, 0, 0, 0, 0, 0, 0, 0, 0, 0, 0, 0, 0, 0, 0, 0, 0, 0, 0, 0, 0, 0, 0, 0, 0, 0, 0, 0, 0, 0, 0, 0, 0, 0, 0, 0, 0, 0, 0, 0, 0, 0, 0, 0, 0, 0, 0, 0, 0, 0, 0, 0, 0, 0, 0, 0, 0, 0, 0, 0, 0, 0, 0, 0, 0, 0, 0, 0, 0, 0, 0, 0, 0, 0, 0, 0, 0, 0, 0, 0, 0, 0, 0, 0, 0, 0, 0, 0, 0, 0, 0, 0, 0, 0, 0, 0, 0, 0, 2, 0, 1, 0], type: <class 'list'>, valid types: <class 'bytes'>, <class 'bytearray'>, file-like object",
     "output_type": "error",
     "traceback": [
      "\u001b[0;31m---------------------------------------------------------------------------\u001b[0m",
      "\u001b[0;31mParamValidationError\u001b[0m                      Traceback (most recent call last)",
      "\u001b[0;32m<ipython-input-44-c9ab54ae3a48>\u001b[0m in \u001b[0;36m<module>\u001b[0;34m\u001b[0m\n\u001b[1;32m      1\u001b[0m response = runtime.invoke_endpoint(EndpointName = xgb_predictor.endpoint, # The name of the endpoint we created\n\u001b[1;32m      2\u001b[0m                                        \u001b[0mContentType\u001b[0m \u001b[0;34m=\u001b[0m \u001b[0;34m'text/csv'\u001b[0m\u001b[0;34m,\u001b[0m                     \u001b[0;31m# The data format that is expected\u001b[0m\u001b[0;34m\u001b[0m\u001b[0;34m\u001b[0m\u001b[0m\n\u001b[0;32m----> 3\u001b[0;31m                                        Body = test_bow)\n\u001b[0m",
      "\u001b[0;32m~/anaconda3/envs/python3/lib/python3.6/site-packages/botocore/client.py\u001b[0m in \u001b[0;36m_api_call\u001b[0;34m(self, *args, **kwargs)\u001b[0m\n\u001b[1;32m    314\u001b[0m                     \"%s() only accepts keyword arguments.\" % py_operation_name)\n\u001b[1;32m    315\u001b[0m             \u001b[0;31m# The \"self\" in this scope is referring to the BaseClient.\u001b[0m\u001b[0;34m\u001b[0m\u001b[0;34m\u001b[0m\u001b[0;34m\u001b[0m\u001b[0m\n\u001b[0;32m--> 316\u001b[0;31m             \u001b[0;32mreturn\u001b[0m \u001b[0mself\u001b[0m\u001b[0;34m.\u001b[0m\u001b[0m_make_api_call\u001b[0m\u001b[0;34m(\u001b[0m\u001b[0moperation_name\u001b[0m\u001b[0;34m,\u001b[0m \u001b[0mkwargs\u001b[0m\u001b[0;34m)\u001b[0m\u001b[0;34m\u001b[0m\u001b[0;34m\u001b[0m\u001b[0m\n\u001b[0m\u001b[1;32m    317\u001b[0m \u001b[0;34m\u001b[0m\u001b[0m\n\u001b[1;32m    318\u001b[0m         \u001b[0m_api_call\u001b[0m\u001b[0;34m.\u001b[0m\u001b[0m__name__\u001b[0m \u001b[0;34m=\u001b[0m \u001b[0mstr\u001b[0m\u001b[0;34m(\u001b[0m\u001b[0mpy_operation_name\u001b[0m\u001b[0;34m)\u001b[0m\u001b[0;34m\u001b[0m\u001b[0;34m\u001b[0m\u001b[0m\n",
      "\u001b[0;32m~/anaconda3/envs/python3/lib/python3.6/site-packages/botocore/client.py\u001b[0m in \u001b[0;36m_make_api_call\u001b[0;34m(self, operation_name, api_params)\u001b[0m\n\u001b[1;32m    606\u001b[0m         }\n\u001b[1;32m    607\u001b[0m         request_dict = self._convert_to_request_dict(\n\u001b[0;32m--> 608\u001b[0;31m             api_params, operation_model, context=request_context)\n\u001b[0m\u001b[1;32m    609\u001b[0m \u001b[0;34m\u001b[0m\u001b[0m\n\u001b[1;32m    610\u001b[0m         \u001b[0mservice_id\u001b[0m \u001b[0;34m=\u001b[0m \u001b[0mself\u001b[0m\u001b[0;34m.\u001b[0m\u001b[0m_service_model\u001b[0m\u001b[0;34m.\u001b[0m\u001b[0mservice_id\u001b[0m\u001b[0;34m.\u001b[0m\u001b[0mhyphenize\u001b[0m\u001b[0;34m(\u001b[0m\u001b[0;34m)\u001b[0m\u001b[0;34m\u001b[0m\u001b[0;34m\u001b[0m\u001b[0m\n",
      "\u001b[0;32m~/anaconda3/envs/python3/lib/python3.6/site-packages/botocore/client.py\u001b[0m in \u001b[0;36m_convert_to_request_dict\u001b[0;34m(self, api_params, operation_model, context)\u001b[0m\n\u001b[1;32m    654\u001b[0m             api_params, operation_model, context)\n\u001b[1;32m    655\u001b[0m         request_dict = self._serializer.serialize_to_request(\n\u001b[0;32m--> 656\u001b[0;31m             api_params, operation_model)\n\u001b[0m\u001b[1;32m    657\u001b[0m         \u001b[0;32mif\u001b[0m \u001b[0;32mnot\u001b[0m \u001b[0mself\u001b[0m\u001b[0;34m.\u001b[0m\u001b[0m_client_config\u001b[0m\u001b[0;34m.\u001b[0m\u001b[0minject_host_prefix\u001b[0m\u001b[0;34m:\u001b[0m\u001b[0;34m\u001b[0m\u001b[0;34m\u001b[0m\u001b[0m\n\u001b[1;32m    658\u001b[0m             \u001b[0mrequest_dict\u001b[0m\u001b[0;34m.\u001b[0m\u001b[0mpop\u001b[0m\u001b[0;34m(\u001b[0m\u001b[0;34m'host_prefix'\u001b[0m\u001b[0;34m,\u001b[0m \u001b[0;32mNone\u001b[0m\u001b[0;34m)\u001b[0m\u001b[0;34m\u001b[0m\u001b[0;34m\u001b[0m\u001b[0m\n",
      "\u001b[0;32m~/anaconda3/envs/python3/lib/python3.6/site-packages/botocore/validate.py\u001b[0m in \u001b[0;36mserialize_to_request\u001b[0;34m(self, parameters, operation_model)\u001b[0m\n\u001b[1;32m    295\u001b[0m                                                     operation_model.input_shape)\n\u001b[1;32m    296\u001b[0m             \u001b[0;32mif\u001b[0m \u001b[0mreport\u001b[0m\u001b[0;34m.\u001b[0m\u001b[0mhas_errors\u001b[0m\u001b[0;34m(\u001b[0m\u001b[0;34m)\u001b[0m\u001b[0;34m:\u001b[0m\u001b[0;34m\u001b[0m\u001b[0;34m\u001b[0m\u001b[0m\n\u001b[0;32m--> 297\u001b[0;31m                 \u001b[0;32mraise\u001b[0m \u001b[0mParamValidationError\u001b[0m\u001b[0;34m(\u001b[0m\u001b[0mreport\u001b[0m\u001b[0;34m=\u001b[0m\u001b[0mreport\u001b[0m\u001b[0;34m.\u001b[0m\u001b[0mgenerate_report\u001b[0m\u001b[0;34m(\u001b[0m\u001b[0;34m)\u001b[0m\u001b[0;34m)\u001b[0m\u001b[0;34m\u001b[0m\u001b[0;34m\u001b[0m\u001b[0m\n\u001b[0m\u001b[1;32m    298\u001b[0m         return self._serializer.serialize_to_request(parameters,\n\u001b[1;32m    299\u001b[0m                                                      operation_model)\n",
      "\u001b[0;31mParamValidationError\u001b[0m: Parameter validation failed:\nInvalid type for parameter Body, value: [0, 0, 0, 0, 0, 0, 0, 0, 0, 0, 0, 0, 0, 0, 0, 0, 0, 0, 0, 0, 0, 0, 0, 0, 0, 0, 0, 0, 0, 0, 0, 0, 0, 0, 0, 0, 0, 0, 0, 0, 0, 0, 0, 0, 0, 0, 0, 0, 0, 0, 0, 0, 0, 0, 0, 0, 0, 0, 0, 0, 0, 0, 0, 0, 0, 0, 0, 0, 0, 0, 0, 0, 0, 0, 0, 0, 0, 0, 0, 0, 0, 0, 0, 0, 0, 0, 0, 0, 0, 0, 0, 0, 0, 0, 0, 0, 0, 0, 0, 0, 0, 0, 0, 0, 0, 0, 0, 0, 0, 0, 0, 0, 0, 0, 0, 0, 0, 0, 0, 0, 0, 0, 0, 0, 0, 0, 0, 0, 0, 0, 0, 0, 0, 0, 0, 0, 0, 0, 0, 0, 0, 0, 0, 0, 0, 0, 0, 0, 0, 0, 0, 0, 0, 0, 0, 0, 0, 0, 0, 0, 0, 0, 0, 0, 0, 0, 0, 0, 0, 0, 0, 0, 0, 0, 0, 0, 0, 0, 0, 0, 0, 0, 0, 0, 0, 0, 0, 0, 0, 0, 0, 0, 0, 0, 0, 0, 0, 0, 0, 0, 0, 0, 0, 0, 0, 0, 0, 0, 0, 0, 0, 0, 0, 0, 0, 0, 0, 0, 0, 0, 0, 0, 0, 0, 0, 0, 1, 0, 0, 0, 0, 0, 0, 0, 0, 0, 0, 0, 0, 0, 0, 0, 0, 0, 0, 0, 0, 0, 0, 0, 0, 0, 0, 0, 0, 0, 1, 0, 0, 0, 0, 0, 0, 0, 0, 0, 0, 0, 0, 0, 0, 0, 0, 0, 0, 0, 0, 0, 0, 0, 0, 0, 0, 0, 0, 0, 0, 0, 0, 0, 0, 0, 0, 0, 0, 0, 0, 0, 0, 0, 0, 0, 0, 0, 0, 0, 0, 0, 0, 0, 0, 0, 0, 0, 0, 0, 0, 0, 0, 0, 0, 0, 0, 0, 0, 0, 0, 0, 0, 0, 0, 0, 0, 0, 0, 0, 0, 0, 0, 0, 0, 0, 0, 0, 0, 0, 0, 0, 0, 0, 0, 0, 0, 0, 0, 0, 0, 0, 0, 0, 0, 0, 0, 0, 0, 0, 0, 0, 0, 0, 0, 0, 0, 0, 0, 0, 0, 0, 0, 0, 0, 0, 0, 0, 0, 0, 0, 0, 0, 0, 0, 0, 0, 0, 0, 0, 0, 0, 0, 0, 0, 0, 0, 0, 0, 0, 0, 0, 0, 0, 0, 0, 0, 0, 0, 0, 0, 0, 0, 0, 0, 0, 0, 0, 0, 0, 0, 0, 0, 0, 0, 0, 0, 0, 0, 0, 0, 0, 0, 0, 0, 0, 0, 0, 0, 0, 0, 0, 0, 0, 0, 0, 0, 0, 0, 0, 0, 0, 0, 0, 0, 0, 0, 0, 0, 0, 0, 0, 0, 0, 0, 0, 0, 0, 0, 0, 0, 0, 0, 0, 0, 0, 0, 0, 0, 0, 0, 0, 0, 0, 0, 0, 0, 0, 0, 0, 0, 0, 0, 0, 0, 0, 0, 0, 0, 0, 0, 0, 0, 0, 0, 0, 0, 0, 0, 0, 0, 0, 0, 0, 0, 0, 0, 0, 0, 0, 0, 0, 0, 0, 0, 0, 0, 0, 0, 0, 0, 0, 0, 0, 0, 0, 0, 0, 0, 0, 0, 0, 0, 0, 0, 0, 0, 0, 0, 0, 0, 0, 0, 0, 0, 0, 0, 0, 0, 0, 0, 0, 0, 0, 0, 0, 0, 0, 0, 0, 0, 0, 0, 0, 0, 0, 0, 0, 0, 0, 0, 0, 0, 0, 0, 0, 0, 0, 0, 0, 0, 0, 0, 0, 0, 0, 0, 0, 0, 0, 0, 0, 0, 0, 0, 0, 0, 0, 0, 0, 0, 0, 0, 0, 0, 0, 0, 0, 0, 0, 0, 0, 0, 0, 0, 0, 0, 0, 0, 0, 1, 0, 0, 0, 0, 0, 0, 0, 0, 0, 0, 0, 0, 0, 0, 0, 0, 0, 0, 0, 0, 0, 0, 0, 0, 0, 0, 0, 0, 0, 0, 0, 0, 0, 0, 0, 0, 0, 0, 0, 0, 0, 0, 0, 0, 0, 0, 0, 0, 0, 0, 0, 0, 0, 0, 0, 0, 0, 0, 0, 0, 0, 0, 0, 0, 0, 0, 0, 0, 0, 0, 0, 0, 0, 0, 0, 0, 0, 0, 0, 0, 0, 0, 0, 0, 0, 0, 0, 0, 0, 0, 0, 0, 0, 0, 0, 0, 0, 0, 0, 0, 0, 0, 0, 0, 0, 0, 0, 0, 0, 0, 0, 0, 0, 0, 0, 0, 0, 0, 0, 0, 0, 0, 0, 0, 0, 0, 0, 0, 0, 0, 0, 0, 0, 0, 0, 0, 0, 0, 0, 0, 0, 0, 0, 0, 0, 0, 0, 0, 0, 0, 0, 0, 0, 0, 0, 0, 0, 0, 0, 0, 0, 0, 0, 0, 0, 0, 0, 0, 0, 0, 0, 0, 0, 0, 0, 0, 0, 0, 0, 0, 0, 0, 0, 0, 0, 0, 0, 0, 0, 0, 0, 0, 0, 0, 0, 0, 0, 0, 0, 0, 0, 0, 0, 0, 0, 0, 0, 0, 0, 0, 0, 0, 0, 0, 0, 0, 0, 0, 0, 0, 0, 0, 0, 0, 0, 0, 0, 0, 0, 0, 0, 0, 0, 0, 0, 0, 0, 0, 0, 0, 0, 0, 0, 0, 0, 0, 0, 0, 0, 0, 0, 0, 0, 1, 0, 0, 0, 0, 0, 0, 0, 0, 0, 0, 0, 0, 0, 0, 0, 0, 0, 0, 0, 0, 0, 0, 0, 0, 0, 0, 0, 0, 0, 0, 0, 0, 0, 0, 0, 0, 0, 0, 0, 0, 0, 0, 0, 0, 0, 0, 0, 0, 0, 0, 0, 0, 0, 0, 0, 0, 0, 0, 0, 0, 0, 0, 0, 0, 0, 0, 0, 0, 0, 0, 0, 0, 0, 0, 0, 0, 0, 0, 0, 0, 0, 0, 0, 0, 0, 0, 1, 0, 0, 0, 0, 0, 0, 0, 0, 0, 0, 0, 0, 0, 0, 0, 0, 0, 0, 0, 0, 0, 0, 0, 0, 0, 0, 0, 0, 0, 0, 0, 0, 0, 0, 0, 0, 0, 0, 0, 0, 0, 0, 0, 0, 0, 0, 0, 0, 0, 0, 0, 0, 0, 0, 0, 0, 0, 0, 0, 0, 0, 0, 0, 0, 0, 0, 0, 0, 0, 0, 0, 0, 0, 0, 0, 0, 0, 0, 0, 0, 0, 0, 0, 0, 0, 0, 0, 0, 0, 0, 0, 0, 0, 0, 0, 0, 0, 0, 0, 0, 0, 0, 0, 0, 0, 0, 0, 0, 0, 0, 0, 0, 0, 0, 0, 0, 0, 0, 0, 0, 0, 0, 0, 0, 0, 0, 0, 0, 0, 0, 0, 0, 0, 0, 0, 0, 0, 0, 0, 0, 0, 0, 0, 0, 0, 0, 0, 0, 0, 0, 0, 0, 0, 0, 0, 0, 0, 0, 0, 0, 0, 0, 0, 0, 0, 0, 0, 0, 0, 0, 0, 0, 0, 0, 0, 0, 0, 0, 0, 0, 0, 0, 0, 0, 0, 0, 0, 0, 0, 0, 0, 0, 0, 0, 0, 0, 0, 0, 0, 0, 0, 0, 0, 0, 0, 0, 0, 0, 0, 0, 0, 0, 0, 0, 0, 0, 0, 0, 0, 0, 0, 0, 0, 0, 0, 0, 0, 0, 0, 0, 0, 0, 0, 0, 0, 0, 0, 0, 0, 0, 0, 0, 0, 0, 0, 0, 0, 0, 0, 0, 0, 0, 1, 0, 0, 0, 0, 0, 0, 0, 0, 0, 0, 0, 0, 0, 0, 0, 0, 0, 0, 0, 0, 0, 0, 0, 0, 0, 0, 0, 0, 0, 0, 0, 0, 0, 0, 0, 0, 0, 0, 0, 0, 0, 0, 0, 0, 0, 0, 0, 0, 0, 0, 0, 0, 0, 0, 0, 1, 0, 0, 0, 0, 0, 0, 0, 0, 0, 0, 0, 0, 0, 0, 0, 0, 0, 0, 0, 0, 0, 0, 0, 0, 0, 0, 0, 0, 0, 0, 0, 0, 0, 0, 0, 0, 0, 0, 0, 0, 0, 0, 0, 0, 0, 0, 0, 0, 0, 0, 0, 0, 0, 0, 0, 0, 0, 0, 0, 0, 0, 0, 0, 0, 0, 0, 0, 0, 0, 0, 0, 0, 0, 0, 0, 0, 0, 0, 0, 0, 0, 0, 0, 0, 0, 0, 0, 0, 0, 0, 0, 0, 0, 0, 0, 0, 0, 0, 0, 0, 0, 0, 0, 0, 0, 0, 0, 0, 0, 0, 0, 0, 0, 0, 0, 0, 0, 0, 0, 0, 0, 0, 0, 0, 0, 0, 0, 0, 0, 0, 0, 0, 0, 0, 0, 0, 0, 0, 0, 0, 0, 0, 0, 0, 0, 0, 0, 0, 0, 0, 0, 0, 0, 0, 0, 0, 0, 0, 0, 0, 0, 0, 0, 0, 0, 0, 0, 0, 0, 0, 0, 0, 0, 0, 0, 0, 0, 0, 0, 0, 0, 0, 0, 0, 0, 0, 0, 0, 0, 0, 0, 0, 0, 0, 0, 0, 0, 0, 0, 0, 0, 0, 0, 0, 0, 0, 0, 0, 0, 0, 0, 0, 0, 0, 0, 0, 0, 0, 0, 0, 0, 0, 0, 0, 0, 0, 0, 0, 0, 0, 0, 0, 0, 0, 0, 0, 0, 0, 0, 0, 0, 0, 0, 0, 0, 0, 0, 0, 0, 0, 0, 0, 0, 0, 0, 0, 0, 0, 0, 0, 0, 0, 0, 0, 0, 0, 0, 0, 0, 0, 0, 0, 0, 0, 0, 0, 0, 0, 0, 0, 0, 0, 0, 0, 0, 0, 0, 0, 0, 0, 0, 0, 0, 0, 0, 0, 0, 0, 0, 0, 0, 0, 0, 0, 0, 0, 0, 0, 0, 0, 0, 0, 0, 0, 0, 0, 0, 0, 0, 0, 0, 0, 0, 0, 0, 0, 0, 0, 0, 0, 0, 0, 0, 0, 0, 0, 0, 0, 0, 0, 0, 0, 0, 0, 0, 0, 0, 0, 0, 0, 0, 0, 0, 0, 0, 0, 0, 0, 0, 0, 0, 0, 0, 0, 0, 0, 0, 0, 0, 0, 0, 0, 0, 0, 0, 0, 0, 0, 0, 0, 0, 0, 0, 0, 0, 0, 0, 0, 0, 0, 0, 0, 0, 0, 0, 0, 0, 0, 0, 0, 0, 0, 0, 0, 0, 0, 0, 0, 0, 0, 0, 0, 0, 0, 0, 0, 0, 0, 0, 0, 0, 0, 0, 0, 0, 0, 0, 0, 0, 0, 0, 0, 0, 0, 0, 0, 0, 0, 0, 0, 0, 0, 0, 0, 0, 0, 0, 0, 0, 0, 0, 0, 0, 0, 0, 0, 0, 0, 0, 0, 0, 0, 0, 0, 0, 0, 0, 0, 0, 0, 0, 0, 0, 0, 0, 0, 0, 0, 0, 0, 0, 0, 0, 0, 0, 0, 0, 0, 0, 0, 0, 0, 0, 0, 0, 0, 0, 0, 0, 0, 0, 0, 0, 0, 0, 0, 0, 0, 0, 0, 0, 0, 0, 0, 0, 0, 0, 0, 0, 0, 0, 0, 0, 0, 0, 0, 0, 0, 0, 0, 0, 0, 0, 0, 0, 0, 0, 0, 0, 0, 0, 0, 0, 0, 0, 0, 0, 0, 0, 0, 0, 0, 0, 0, 0, 0, 0, 0, 0, 0, 0, 0, 0, 0, 0, 0, 0, 0, 0, 0, 0, 0, 0, 0, 0, 0, 0, 0, 0, 0, 0, 0, 0, 0, 0, 0, 0, 0, 0, 0, 0, 0, 0, 0, 0, 0, 0, 0, 0, 0, 0, 0, 0, 0, 0, 0, 0, 0, 0, 0, 0, 0, 0, 0, 0, 0, 0, 0, 0, 0, 0, 0, 0, 0, 0, 0, 0, 0, 0, 0, 0, 0, 0, 0, 0, 0, 0, 0, 0, 0, 0, 0, 0, 0, 0, 0, 0, 0, 0, 0, 0, 0, 0, 0, 0, 0, 0, 0, 0, 0, 0, 0, 0, 0, 0, 0, 0, 0, 0, 0, 0, 0, 0, 0, 0, 0, 0, 0, 0, 0, 0, 1, 0, 0, 0, 0, 0, 0, 0, 0, 0, 0, 0, 0, 0, 0, 0, 0, 0, 0, 0, 0, 0, 0, 0, 0, 0, 0, 0, 0, 0, 0, 0, 0, 0, 0, 0, 0, 0, 0, 0, 0, 0, 0, 0, 0, 0, 0, 0, 0, 0, 0, 0, 0, 0, 0, 0, 0, 0, 0, 0, 0, 0, 0, 0, 0, 0, 0, 0, 0, 0, 0, 0, 0, 0, 0, 1, 0, 0, 0, 0, 0, 0, 0, 0, 0, 0, 0, 0, 0, 0, 0, 0, 0, 0, 0, 0, 1, 0, 0, 1, 0, 0, 0, 0, 0, 0, 0, 0, 0, 0, 0, 0, 0, 0, 0, 0, 0, 0, 0, 0, 0, 0, 0, 0, 0, 0, 0, 0, 0, 0, 0, 0, 0, 0, 0, 0, 0, 0, 0, 0, 0, 0, 0, 0, 0, 0, 0, 0, 0, 0, 0, 0, 0, 0, 0, 0, 0, 0, 0, 0, 0, 0, 0, 0, 0, 0, 0, 0, 0, 0, 0, 0, 0, 0, 0, 0, 0, 0, 0, 0, 0, 0, 0, 0, 0, 0, 0, 0, 0, 0, 0, 0, 0, 0, 0, 0, 0, 0, 0, 0, 0, 0, 0, 0, 0, 0, 0, 0, 0, 0, 0, 0, 0, 0, 0, 0, 0, 0, 0, 0, 0, 0, 0, 0, 0, 0, 0, 0, 0, 0, 0, 0, 0, 0, 0, 0, 0, 0, 0, 0, 0, 0, 0, 0, 0, 0, 0, 0, 0, 0, 0, 0, 0, 0, 0, 0, 0, 0, 0, 0, 0, 0, 0, 0, 0, 0, 0, 0, 0, 0, 0, 0, 0, 0, 0, 0, 0, 0, 0, 0, 0, 0, 0, 0, 0, 0, 0, 0, 0, 0, 0, 0, 0, 0, 0, 0, 0, 0, 0, 0, 0, 0, 0, 0, 0, 0, 0, 0, 0, 0, 0, 0, 0, 0, 0, 0, 0, 0, 0, 0, 0, 0, 0, 0, 0, 0, 0, 0, 0, 0, 0, 0, 0, 0, 0, 0, 0, 0, 0, 0, 0, 0, 0, 0, 0, 0, 0, 0, 0, 0, 0, 0, 0, 0, 0, 0, 0, 0, 0, 0, 0, 0, 0, 0, 0, 0, 0, 0, 0, 0, 0, 0, 0, 0, 0, 0, 0, 0, 0, 0, 0, 0, 0, 0, 0, 0, 0, 0, 0, 0, 0, 0, 0, 0, 0, 0, 0, 0, 0, 0, 0, 0, 0, 0, 0, 0, 0, 0, 0, 0, 0, 0, 0, 0, 0, 0, 0, 0, 0, 0, 0, 0, 0, 0, 0, 0, 0, 0, 0, 0, 0, 0, 0, 0, 0, 0, 0, 0, 0, 0, 0, 0, 0, 0, 0, 0, 0, 0, 0, 0, 0, 0, 0, 0, 0, 0, 0, 0, 0, 0, 0, 0, 0, 0, 0, 0, 0, 0, 0, 0, 0, 0, 0, 0, 0, 0, 0, 0, 0, 0, 0, 0, 0, 0, 0, 0, 0, 0, 0, 0, 0, 0, 0, 0, 0, 0, 0, 0, 0, 0, 0, 0, 0, 0, 0, 0, 0, 0, 0, 0, 0, 0, 0, 0, 0, 0, 0, 0, 0, 0, 0, 0, 0, 0, 0, 0, 0, 0, 0, 0, 0, 0, 0, 0, 0, 0, 0, 0, 0, 0, 0, 0, 0, 0, 0, 0, 0, 0, 0, 0, 0, 0, 0, 0, 0, 0, 0, 0, 0, 0, 0, 0, 0, 0, 0, 0, 1, 0, 0, 0, 0, 0, 0, 0, 0, 0, 0, 0, 0, 0, 0, 0, 0, 0, 0, 0, 0, 0, 0, 0, 0, 0, 0, 0, 0, 0, 0, 0, 0, 0, 0, 0, 0, 0, 0, 0, 0, 0, 0, 0, 0, 0, 0, 0, 0, 0, 0, 0, 0, 0, 0, 0, 0, 0, 0, 0, 0, 0, 0, 0, 0, 0, 0, 0, 0, 0, 0, 0, 0, 0, 0, 0, 0, 0, 0, 0, 0, 0, 0, 0, 0, 0, 0, 0, 0, 0, 0, 0, 0, 0, 0, 0, 0, 0, 0, 0, 0, 0, 0, 0, 0, 0, 0, 0, 0, 0, 0, 0, 0, 0, 0, 0, 0, 0, 0, 0, 0, 0, 0, 0, 0, 0, 0, 0, 0, 0, 0, 0, 0, 0, 0, 0, 0, 0, 0, 0, 0, 0, 0, 0, 0, 0, 0, 0, 0, 0, 0, 0, 0, 0, 0, 0, 0, 0, 0, 0, 0, 0, 0, 0, 0, 0, 0, 0, 0, 0, 0, 0, 0, 0, 0, 0, 0, 0, 0, 0, 0, 0, 0, 0, 0, 0, 0, 0, 0, 0, 0, 0, 0, 0, 0, 0, 0, 0, 0, 0, 0, 0, 0, 0, 0, 0, 0, 0, 0, 0, 0, 0, 0, 0, 0, 0, 0, 0, 0, 0, 0, 0, 0, 0, 0, 0, 0, 0, 0, 0, 0, 0, 0, 0, 0, 0, 0, 0, 0, 0, 0, 0, 0, 0, 0, 0, 0, 0, 0, 0, 0, 0, 0, 0, 0, 0, 0, 0, 0, 0, 0, 0, 0, 0, 0, 0, 0, 0, 0, 0, 0, 0, 0, 0, 0, 0, 0, 0, 0, 0, 0, 0, 0, 0, 0, 0, 0, 0, 0, 0, 0, 0, 0, 0, 0, 0, 0, 0, 0, 0, 0, 0, 0, 0, 0, 0, 0, 0, 0, 0, 0, 0, 0, 0, 0, 0, 0, 0, 0, 0, 0, 0, 0, 0, 0, 0, 0, 0, 0, 0, 0, 0, 0, 0, 0, 0, 0, 0, 0, 0, 0, 0, 0, 0, 0, 0, 0, 0, 0, 0, 0, 0, 0, 0, 0, 0, 0, 0, 0, 0, 0, 0, 0, 0, 0, 0, 0, 0, 0, 0, 0, 0, 0, 0, 0, 0, 0, 0, 0, 0, 0, 0, 0, 0, 0, 0, 0, 0, 0, 0, 0, 0, 0, 0, 0, 0, 0, 0, 0, 0, 0, 0, 0, 0, 0, 0, 0, 0, 0, 0, 0, 0, 0, 0, 0, 0, 0, 0, 0, 0, 0, 0, 0, 0, 0, 0, 0, 0, 0, 0, 0, 0, 0, 0, 0, 0, 0, 0, 0, 0, 0, 0, 0, 0, 0, 0, 0, 0, 0, 0, 0, 0, 0, 0, 0, 0, 0, 0, 0, 0, 0, 0, 0, 0, 0, 0, 0, 0, 0, 0, 0, 0, 0, 0, 0, 0, 0, 0, 0, 0, 0, 0, 0, 0, 0, 0, 0, 0, 0, 0, 0, 0, 0, 0, 0, 0, 0, 0, 0, 0, 0, 0, 0, 0, 0, 0, 0, 0, 0, 0, 0, 0, 0, 1, 0, 0, 0, 0, 0, 0, 0, 0, 0, 0, 0, 0, 0, 0, 0, 0, 0, 0, 0, 0, 0, 0, 0, 0, 0, 0, 0, 0, 0, 0, 0, 0, 0, 0, 0, 2, 0, 0, 0, 0, 0, 0, 0, 0, 0, 0, 0, 0, 0, 0, 0, 0, 0, 0, 0, 0, 0, 0, 0, 0, 0, 0, 0, 0, 0, 0, 0, 0, 0, 0, 0, 0, 0, 0, 0, 0, 1, 0, 0, 0, 0, 0, 0, 0, 0, 0, 0, 0, 0, 0, 0, 0, 0, 0, 0, 0, 0, 0, 0, 0, 0, 0, 0, 0, 0, 0, 0, 0, 0, 0, 0, 0, 0, 0, 0, 0, 0, 0, 0, 0, 0, 0, 0, 0, 0, 0, 0, 0, 0, 0, 0, 0, 0, 0, 0, 0, 0, 0, 0, 0, 0, 0, 0, 0, 0, 0, 0, 0, 0, 0, 0, 0, 0, 0, 0, 0, 0, 0, 0, 0, 0, 0, 0, 0, 0, 0, 0, 0, 0, 0, 0, 0, 0, 0, 0, 0, 0, 0, 0, 0, 0, 0, 0, 0, 0, 0, 0, 0, 0, 0, 0, 0, 0, 0, 0, 0, 0, 0, 0, 0, 0, 0, 0, 0, 0, 0, 0, 0, 0, 0, 0, 0, 0, 0, 0, 0, 0, 0, 0, 0, 0, 0, 0, 0, 0, 0, 0, 0, 0, 0, 0, 0, 0, 0, 0, 0, 0, 0, 0, 0, 0, 0, 0, 0, 0, 0, 0, 0, 0, 0, 0, 0, 0, 0, 0, 0, 0, 0, 0, 0, 0, 0, 0, 0, 0, 0, 0, 0, 0, 0, 0, 0, 0, 0, 0, 0, 0, 0, 0, 0, 0, 0, 0, 0, 0, 0, 0, 0, 0, 0, 0, 0, 0, 0, 0, 0, 0, 0, 0, 0, 0, 0, 0, 0, 0, 0, 0, 0, 0, 0, 0, 0, 0, 0, 0, 0, 0, 0, 0, 0, 0, 0, 0, 0, 0, 0, 0, 0, 0, 0, 0, 0, 0, 0, 0, 0, 0, 0, 0, 0, 0, 0, 0, 0, 0, 0, 0, 0, 0, 0, 0, 0, 0, 0, 0, 0, 0, 0, 0, 0, 0, 0, 0, 0, 0, 0, 0, 0, 0, 0, 0, 0, 0, 0, 0, 0, 0, 0, 0, 0, 0, 0, 0, 0, 0, 0, 0, 0, 0, 0, 0, 0, 0, 0, 0, 0, 0, 0, 0, 0, 0, 0, 0, 0, 0, 0, 0, 0, 0, 0, 0, 0, 0, 0, 0, 0, 0, 0, 0, 0, 0, 0, 0, 0, 0, 0, 0, 0, 0, 0, 0, 0, 0, 0, 0, 0, 0, 0, 0, 0, 0, 0, 0, 0, 0, 0, 0, 0, 0, 0, 0, 0, 0, 0, 0, 0, 0, 0, 0, 0, 0, 0, 0, 0, 0, 0, 0, 0, 0, 0, 0, 0, 0, 0, 0, 0, 0, 0, 0, 0, 0, 0, 0, 0, 0, 0, 0, 0, 0, 0, 0, 0, 0, 0, 0, 0, 0, 0, 0, 0, 0, 0, 0, 0, 0, 0, 0, 0, 0, 0, 0, 0, 0, 0, 0, 0, 0, 0, 0, 0, 0, 0, 0, 0, 0, 0, 0, 0, 0, 0, 0, 0, 0, 0, 0, 0, 0, 0, 0, 0, 0, 0, 0, 0, 0, 0, 0, 0, 0, 0, 0, 0, 0, 0, 0, 0, 0, 0, 0, 0, 0, 0, 0, 0, 0, 0, 0, 0, 0, 0, 0, 0, 0, 0, 1, 0, 0, 0, 0, 0, 0, 0, 0, 0, 0, 0, 0, 0, 0, 0, 0, 0, 0, 0, 0, 0, 0, 0, 0, 0, 0, 0, 0, 0, 0, 0, 0, 0, 0, 0, 0, 0, 0, 0, 0, 0, 0, 0, 0, 0, 0, 0, 0, 0, 0, 0, 0, 0, 0, 0, 0, 0, 0, 0, 0, 0, 0, 0, 0, 0, 0, 0, 0, 0, 0, 0, 0, 0, 0, 0, 0, 0, 0, 0, 0, 0, 0, 0, 0, 0, 0, 0, 0, 0, 0, 0, 0, 0, 0, 0, 0, 0, 0, 0, 0, 0, 0, 0, 0, 0, 0, 0, 0, 0, 0, 2, 0, 0, 0, 0, 0, 0, 0, 0, 0, 0, 0, 0, 0, 0, 0, 0, 0, 0, 0, 0, 0, 0, 0, 0, 0, 0, 0, 0, 0, 0, 0, 0, 0, 0, 0, 0, 0, 0, 0, 0, 0, 0, 0, 0, 0, 0, 0, 0, 0, 0, 0, 0, 0, 0, 0, 0, 0, 0, 0, 0, 0, 0, 0, 0, 0, 0, 0, 0, 0, 0, 0, 0, 0, 0, 0, 0, 0, 0, 0, 0, 0, 0, 0, 0, 0, 0, 0, 0, 0, 0, 0, 0, 0, 0, 0, 0, 0, 0, 0, 0, 0, 0, 0, 0, 0, 0, 0, 0, 0, 0, 0, 0, 0, 0, 0, 0, 0, 0, 0, 0, 0, 0, 0, 0, 0, 0, 0, 0, 0, 0, 0, 0, 0, 0, 0, 0, 0, 0, 0, 0, 0, 0, 0, 0, 0, 0, 0, 0, 0, 0, 0, 0, 0, 0, 0, 0, 0, 0, 0, 0, 0, 0, 0, 0, 0, 0, 0, 0, 0, 0, 0, 0, 0, 0, 0, 0, 0, 0, 0, 0, 0, 0, 0, 0, 0, 0, 0, 0, 0, 0, 0, 0, 0, 0, 0, 0, 0, 0, 0, 0, 0, 0, 0, 0, 0, 0, 0, 0, 0, 0, 0, 0, 0, 0, 0, 0, 0, 0, 0, 0, 0, 0, 0, 0, 0, 0, 0, 0, 0, 0, 0, 0, 0, 0, 0, 0, 0, 0, 0, 0, 0, 0, 0, 0, 0, 0, 0, 0, 0, 0, 0, 0, 0, 0, 0, 0, 0, 0, 0, 0, 0, 0, 0, 0, 0, 0, 0, 0, 0, 0, 0, 0, 0, 0, 0, 0, 0, 0, 0, 0, 0, 0, 0, 0, 0, 0, 0, 0, 0, 0, 0, 0, 0, 0, 0, 0, 0, 0, 0, 0, 0, 0, 0, 0, 0, 0, 0, 0, 0, 0, 0, 0, 0, 0, 0, 0, 0, 0, 0, 0, 0, 0, 0, 0, 0, 0, 0, 0, 0, 0, 0, 0, 0, 0, 0, 0, 0, 0, 0, 0, 0, 0, 0, 0, 0, 0, 0, 0, 0, 0, 0, 0, 0, 0, 0, 0, 0, 0, 0, 0, 0, 0, 0, 0, 0, 0, 0, 0, 0, 0, 0, 0, 0, 0, 0, 0, 0, 0, 0, 0, 0, 0, 0, 0, 0, 0, 0, 0, 0, 0, 0, 0, 0, 0, 0, 0, 0, 0, 0, 0, 0, 0, 0, 0, 0, 0, 0, 0, 0, 0, 0, 0, 0, 0, 0, 0, 0, 0, 0, 0, 0, 0, 0, 0, 0, 0, 0, 0, 0, 0, 0, 0, 0, 0, 0, 0, 0, 0, 0, 0, 0, 0, 0, 0, 0, 0, 0, 0, 0, 0, 0, 0, 0, 0, 0, 0, 0, 0, 0, 0, 0, 0, 0, 0, 0, 0, 0, 0, 0, 0, 0, 0, 0, 0, 0, 0, 0, 0, 0, 0, 0, 0, 0, 0, 0, 0, 0, 0, 0, 0, 0, 0, 0, 0, 0, 0, 0, 0, 0, 0, 0, 0, 0, 0, 0, 0, 0, 0, 0, 0, 0, 0, 0, 0, 0, 0, 0, 0, 0, 0, 0, 0, 0, 0, 0, 0, 0, 0, 0, 0, 0, 0, 0, 0, 0, 0, 0, 0, 0, 0, 0, 0, 0, 0, 0, 0, 0, 0, 0, 0, 0, 0, 0, 0, 0, 0, 0, 0, 0, 0, 0, 0, 0, 0, 0, 0, 0, 0, 0, 0, 0, 0, 0, 0, 0, 0, 0, 0, 0, 0, 0, 0, 0, 0, 0, 0, 0, 0, 0, 0, 0, 0, 0, 0, 0, 0, 0, 0, 0, 0, 0, 0, 0, 0, 0, 0, 0, 0, 0, 0, 0, 0, 0, 0, 0, 0, 0, 0, 0, 0, 0, 0, 0, 0, 0, 0, 0, 0, 0, 0, 0, 0, 0, 0, 0, 0, 0, 0, 0, 0, 0, 0, 0, 0, 0, 0, 0, 0, 0, 0, 0, 0, 0, 0, 0, 0, 0, 0, 0, 0, 0, 0, 0, 0, 0, 0, 0, 0, 0, 0, 0, 0, 0, 0, 0, 0, 0, 0, 0, 0, 0, 0, 0, 0, 0, 0, 0, 0, 0, 0, 1, 0, 0, 0, 0, 0, 0, 0, 0, 0, 0, 0, 0, 0, 0, 0, 0, 0, 0, 0, 0, 0, 0, 0, 0, 0, 0, 0, 0, 0, 0, 0, 0, 0, 0, 0, 0, 0, 0, 0, 0, 0, 0, 0, 0, 0, 0, 0, 0, 0, 0, 0, 0, 0, 0, 0, 0, 0, 0, 0, 0, 0, 0, 0, 0, 0, 0, 0, 0, 0, 0, 0, 0, 0, 0, 0, 0, 0, 0, 0, 0, 0, 0, 0, 0, 0, 0, 0, 0, 0, 0, 0, 0, 0, 0, 0, 0, 0, 0, 0, 0, 0, 0, 0, 0, 0, 0, 0, 1, 0, 0, 0, 0, 0, 0, 0, 0, 0, 0, 0, 0, 0, 0, 0, 0, 0, 0, 0, 0, 0, 0, 0, 0, 0, 0, 0, 0, 0, 0, 0, 0, 0, 0, 0, 0, 0, 0, 0, 0, 0, 0, 0, 0, 0, 0, 0, 0, 0, 0, 0, 0, 0, 0, 0, 0, 0, 0, 0, 0, 0, 0, 0, 0, 0, 0, 0, 0, 0, 0, 0, 0, 0, 0, 0, 0, 0, 0, 0, 0, 0, 0, 0, 0, 0, 0, 0, 0, 0, 0, 0, 0, 0, 0, 0, 0, 0, 0, 0, 0, 0, 0, 0, 0, 0, 0, 0, 0, 0, 0, 0, 0, 0, 0, 0, 0, 0, 0, 0, 0, 0, 0, 0, 0, 0, 0, 0, 0, 0, 0, 0, 0, 0, 0, 0, 0, 0, 0, 0, 0, 0, 0, 0, 0, 0, 0, 0, 0, 0, 0, 0, 0, 0, 0, 0, 0, 0, 0, 0, 0, 0, 0, 0, 0, 0, 0, 0, 0, 0, 0, 0, 0, 0, 0, 0, 0, 0, 0, 0, 0, 0, 0, 0, 0, 0, 0, 0, 0, 0, 0, 0, 0, 0, 0, 0, 0, 0, 0, 0, 0, 0, 0, 0, 0, 0, 0, 0, 0, 0, 0, 0, 0, 0, 0, 0, 0, 0, 0, 0, 0, 0, 0, 0, 0, 0, 0, 0, 0, 0, 0, 0, 0, 0, 0, 0, 0, 0, 0, 0, 0, 0, 0, 0, 0, 0, 0, 0, 0, 0, 0, 0, 0, 0, 0, 0, 0, 0, 0, 0, 0, 0, 0, 0, 0, 0, 0, 0, 0, 0, 0, 0, 0, 0, 0, 0, 0, 0, 0, 0, 0, 0, 0, 0, 0, 0, 0, 0, 0, 0, 0, 0, 0, 0, 0, 0, 0, 0, 0, 0, 0, 0, 0, 0, 0, 0, 0, 0, 0, 0, 0, 0, 0, 0, 0, 0, 0, 0, 0, 0, 0, 0, 0, 0, 0, 0, 0, 0, 0, 0, 0, 0, 0, 0, 0, 0, 0, 0, 0, 0, 0, 0, 0, 0, 0, 0, 0, 0, 0, 0, 0, 0, 0, 0, 0, 0, 0, 0, 0, 0, 0, 0, 0, 0, 0, 0, 0, 0, 0, 0, 0, 0, 0, 0, 0, 0, 0, 0, 0, 0, 0, 0, 0, 0, 0, 0, 0, 0, 0, 0, 0, 0, 0, 0, 0, 0, 0, 0, 0, 0, 0, 0, 0, 0, 0, 0, 0, 0, 0, 0, 0, 0, 0, 0, 0, 0, 0, 0, 0, 0, 0, 0, 0, 0, 0, 0, 0, 0, 0, 0, 0, 0, 0, 0, 0, 0, 0, 0, 0, 0, 0, 0, 0, 0, 0, 0, 0, 0, 0, 0, 0, 0, 0, 0, 0, 0, 0, 0, 0, 0, 0, 0, 0, 0, 2, 0, 1, 0], type: <class 'list'>, valid types: <class 'bytes'>, <class 'bytearray'>, file-like object"
     ]
    }
   ],
   "source": [
    "response = runtime.invoke_endpoint(EndpointName = xgb_predictor.endpoint, # The name of the endpoint we created\n",
    "                                       ContentType = 'text/csv',                     # The data format that is expected\n",
    "                                       Body = test_bow)"
   ]
  },
  {
   "cell_type": "markdown",
   "metadata": {},
   "source": [
    "So why did we get an error?\n",
    "\n",
    "Because we tried to send the endpoint a list of integers but it expected us to send data of type `text/csv`. So, we need to convert it."
   ]
  },
  {
   "cell_type": "code",
   "execution_count": 45,
   "metadata": {},
   "outputs": [],
   "source": [
    "response = runtime.invoke_endpoint(EndpointName = xgb_predictor.endpoint, # The name of the endpoint we created\n",
    "                                       ContentType = 'text/csv',                     # The data format that is expected\n",
    "                                       Body = ','.join([str(val) for val in test_bow]).encode('utf-8'))"
   ]
  },
  {
   "cell_type": "code",
   "execution_count": 46,
   "metadata": {},
   "outputs": [
    {
     "name": "stdout",
     "output_type": "stream",
     "text": [
      "{'ResponseMetadata': {'RequestId': '13dc34d4-99f7-432b-ad35-670d101920d5', 'HTTPStatusCode': 200, 'HTTPHeaders': {'x-amzn-requestid': '13dc34d4-99f7-432b-ad35-670d101920d5', 'x-amzn-invoked-production-variant': 'AllTraffic', 'date': 'Mon, 3 Aug 2020 08:19:24 GMT', 'content-type': 'text/csv; charset=utf-8', 'content-length': '14'}, 'RetryAttempts': 0}, 'ContentType': 'text/csv; charset=utf-8', 'InvokedProductionVariant': 'AllTraffic', 'Body': <botocore.response.StreamingBody object at 0x7f548f0649e8>}\n"
     ]
    }
   ],
   "source": [
    "print(response)"
   ]
  },
  {
   "cell_type": "markdown",
   "metadata": {},
   "source": [
    "As we can see, the response from our model is a somewhat complicated looking dict that contains a bunch of information. The bit that we are most interested in is `'Body'` object which is a streaming object that we need to `read` in order to make use of."
   ]
  },
  {
   "cell_type": "code",
   "execution_count": 47,
   "metadata": {},
   "outputs": [
    {
     "name": "stdout",
     "output_type": "stream",
     "text": [
      "0.340907156467\n"
     ]
    }
   ],
   "source": [
    "response = response['Body'].read().decode('utf-8')\n",
    "print(response)"
   ]
  },
  {
   "cell_type": "markdown",
   "metadata": {},
   "source": [
    "Now that we know how to process the incoming user data we can start setting up the infrastructure to make our simple web app work. To do this we will make use of two different services. Amazon's Lambda and API Gateway services.\n",
    "\n",
    "Lambda is a service which allows someone to write some relatively simple code and have it executed whenever a chosen trigger occurs. For example, you may want to update a database whenever new data is uploaded to a folder stored on S3.\n",
    "\n",
    "API Gateway is a service that allows you to create HTTP endpoints (url addresses) which are connected to other AWS services. One of the benefits to this is that you get to decide what credentials, if any, are required to access these endpoints.\n",
    "\n",
    "In our case we are going to set up an HTTP endpoint through API Gateway which is open to the public. Then, whenever anyone sends data to our public endpoint we will trigger a Lambda function which will send the input (in our case a review) to our model's endpoint and then return the result."
   ]
  },
  {
   "cell_type": "markdown",
   "metadata": {},
   "source": [
    "### Setting up a Lambda function\n",
    "\n",
    "The first thing we are going to do is set up a Lambda function. This Lambda function will be executed whenever our public API has data sent to it. When it is executed it will receive the data, perform any sort of processing that is required, send the data (the review) to the SageMaker endpoint we've created and then return the result.\n",
    "\n",
    "#### Part A: Create an IAM Role for the Lambda function\n",
    "\n",
    "Since we want the Lambda function to call a SageMaker endpoint, we need to make sure that it has permission to do so. To do this, we will construct a role that we can later give the Lambda function.\n",
    "\n",
    "Using the AWS Console, navigate to the **IAM** page and click on **Roles**. Then, click on **Create role**. Make sure that the **AWS service** is the type of trusted entity selected and choose **Lambda** as the service that will use this role, then click **Next: Permissions**.\n",
    "\n",
    "In the search box type `sagemaker` and select the check box next to the **AmazonSageMakerFullAccess** policy. Then, click on **Next: Review**.\n",
    "\n",
    "Lastly, give this role a name. Make sure you use a name that you will remember later on, for example `LambdaSageMakerRole`. Then, click on **Create role**."
   ]
  },
  {
   "cell_type": "markdown",
   "metadata": {},
   "source": [
    "#### Part B: Create a Lambda function\n",
    "\n",
    "Now it is time to actually create the Lambda function. Remember from earlier that in order to process the user provided input and send it to our endpoint we need to gather two pieces of information:\n",
    "\n",
    " - The name of the endpoint, and\n",
    " - the vocabulary object.\n",
    "\n",
    "We will copy these pieces of information to our Lambda function after we create it.\n",
    "\n",
    "To start, using the AWS Console, navigate to the AWS Lambda page and click on **Create a function**. When you get to the next page, make sure that **Author from scratch** is selected. Now, name your Lambda function, using a name that you will remember later on, for example `sentiment_analysis_xgboost_func`. Make sure that the **Python 3.6** runtime is selected and then choose the role that you created in the previous part. Then, click on **Create Function**.\n",
    "\n",
    "On the next page you will see some information about the Lambda function you've just created. If you scroll down you should see an editor in which you can write the code that will be executed when your Lambda function is triggered. Collecting the code we wrote above to process a single review and adding it to the provided example `lambda_handler` we arrive at the following.\n",
    "\n",
    "```python\n",
    "# We need to use the low-level library to interact with SageMaker since the SageMaker API\n",
    "# is not available natively through Lambda.\n",
    "import boto3\n",
    "\n",
    "# And we need the regular expression library to do some of the data processing\n",
    "import re\n",
    "\n",
    "REPLACE_NO_SPACE = re.compile(\"(\\.)|(\\;)|(\\:)|(\\!)|(\\')|(\\?)|(\\,)|(\\\")|(\\()|(\\))|(\\[)|(\\])\")\n",
    "REPLACE_WITH_SPACE = re.compile(\"(<br\\s*/><br\\s*/>)|(\\-)|(\\/)\")\n",
    "\n",
    "def review_to_words(review):\n",
    "    words = REPLACE_NO_SPACE.sub(\"\", review.lower())\n",
    "    words = REPLACE_WITH_SPACE.sub(\" \", words)\n",
    "    return words\n",
    "    \n",
    "def bow_encoding(words, vocabulary):\n",
    "    bow = [0] * len(vocabulary) # Start by setting the count for each word in the vocabulary to zero.\n",
    "    for word in words.split():  # For each word in the string\n",
    "        if word in vocabulary:  # If the word is one that occurs in the vocabulary, increase its count.\n",
    "            bow[vocabulary[word]] += 1\n",
    "    return bow\n",
    "\n",
    "\n",
    "def lambda_handler(event, context):\n",
    "    \n",
    "    vocab = \"*** ACTUAL VOCABULARY GOES HERE ***\"\n",
    "    \n",
    "    words = review_to_words(event['body'])\n",
    "    bow = bow_encoding(words, vocab)\n",
    "\n",
    "    # The SageMaker runtime is what allows us to invoke the endpoint that we've created.\n",
    "    runtime = boto3.Session().client('sagemaker-runtime')\n",
    "\n",
    "    # Now we use the SageMaker runtime to invoke our endpoint, sending the review we were given\n",
    "    response = runtime.invoke_endpoint(EndpointName = '***ENDPOINT NAME HERE***',# The name of the endpoint we created\n",
    "                                       ContentType = 'text/csv',                 # The data format that is expected\n",
    "                                       Body = ','.join([str(val) for val in bow]).encode('utf-8')) # The actual review\n",
    "\n",
    "    # The response is an HTTP response whose body contains the result of our inference\n",
    "    result = response['Body'].read().decode('utf-8')\n",
    "    \n",
    "    # Round the result so that our web app only gets '1' or '0' as a response.\n",
    "    result = round(float(result))\n",
    "\n",
    "    return {\n",
    "        'statusCode' : 200,\n",
    "        'headers' : { 'Content-Type' : 'text/plain', 'Access-Control-Allow-Origin' : '*' },\n",
    "        'body' : str(result)\n",
    "    }\n",
    "```"
   ]
  },
  {
   "cell_type": "markdown",
   "metadata": {},
   "source": [
    "Once you have copy and pasted the code above into the Lambda code editor, replace the `**ENDPOINT NAME HERE**` portion with the name of the endpoint that we deployed earlier. You can determine the name of the endpoint using the code cell below."
   ]
  },
  {
   "cell_type": "code",
   "execution_count": 48,
   "metadata": {},
   "outputs": [
    {
     "data": {
      "text/plain": [
       "'xgboost-2020-08-03-06-55-21-301'"
      ]
     },
     "execution_count": 48,
     "metadata": {},
     "output_type": "execute_result"
    }
   ],
   "source": [
    "xgb_predictor.endpoint"
   ]
  },
  {
   "cell_type": "markdown",
   "metadata": {},
   "source": [
    "In addition, you will need to copy the vocabulary dict to the appropriate place in the code at the beginning of the `lambda_handler` method. The cell below prints out the vocabulary dict in a way that is easy to copy and paste."
   ]
  },
  {
   "cell_type": "code",
   "execution_count": 49,
   "metadata": {},
   "outputs": [
    {
     "name": "stdout",
     "output_type": "stream",
     "text": [
      "{'the': 4426, 'danes': 1108, 'character': 758, 'finally': 1724, 'lets': 2580, 'buddy': 609, 'have': 2052, 'awful': 372, 'truth': 4599, 'leave': 2555, 'me': 2778, 'alone': 194, 'kiss': 2483, 'men': 2805, 'if': 2222, 'you': 4986, 'want': 4788, 'to': 4507, 'she': 3923, 'screams': 3828, 'self': 3869, 'in': 2257, 'front': 1841, 'of': 3083, 'everyone': 1542, 'thus': 4486, 'destroying': 1215, 'man': 2721, 'who': 4871, 'has': 2043, 'been': 438, 'love': 2669, 'with': 4911, 'her': 2085, 'for': 1784, 'so': 4046, 'long': 2644, 'nice': 3008, 'girl': 1909, 'this': 4457, 'might': 2835, 'be': 418, 'place': 3282, 'all': 187, 'charm': 767, 'that': 4424, 'into': 2332, 'great': 1964, 'reason': 3557, 'feel': 1684, 'sympathy': 4343, 'lying': 2690, 'bed': 436, 'and': 226, 'dying': 1393, 'but': 636, 'hey': 2095, 'remember': 3616, 'there': 4438, 'are': 285, 'no': 3020, 'mistakes': 2873, 'except': 1556, 'maybe': 2776, 'seeing': 3857, 'film': 1716, 'wait': 4770, 'minute': 2858, 'irony': 2357, 'is': 2360, 'intended': 2315, 'actually': 109, 'masterpiece': 2759, 'ironic': 2355, 'wit': 4908, 'yes': 4982, 'somehow': 4063, 'doubt': 1332, 'thats': 4425, 'what': 4858, 'creators': 1044, 'had': 2003, 'mind': 2849, 'sadly': 3769, 'few': 1700, 'after': 143, 'found': 1811, 'episode': 1507, 'one': 3107, 'funniest': 1851, 'ive': 2372, 'seen': 3865, 'time': 4495, 'south': 4087, 'park': 3190, 'done': 1322, 'best': 469, 'spoof': 4127, 'ever': 1538, 'truly': 4597, 'touched': 4534, 'on': 3105, 'underlying': 4641, 'social': 4049, 'commentary': 899, 'he': 2056, 'made': 2697, 'each': 1395, 'his': 2118, 'films': 1721, 'would': 4957, 'know': 2489, 'george': 1893, 'opinion': 3118, 'was': 4805, 'im': 2232, 'sure': 4308, 'it': 2366, 'purely': 3472, 'positive': 3346, 'keeping': 2450, 'true': 4596, 'vision': 4754, 'zombie': 4997, 'fully': 1847, 'most': 2909, 'deal': 1135, 'pure': 3471, 'gore': 1941, 'without': 4913, 'making': 2718, 'viewer': 4738, 'think': 4452, 'as': 311, 'tries': 4585, 'do': 1302, 'did': 1241, 'happen': 2026, 'we': 4823, 'may': 2775, 'worry': 4950, 'about': 67, 'our': 3139, 'property': 3438, 'values': 4710, 'before': 440, 'lives': 2628, 'shown': 3959, 'doesnt': 1309, 'even': 1533, 'merit': 2816, 'review': 3676, 'other': 3135, 'than': 4420, 'warning': 4800, 'potential': 3355, 'viewers': 4739, 'its': 2370, 'somewhat': 4068, 'generic': 1885, 'ghost': 1902, 'story': 4207, 'an': 223, 'actress': 105, 'haunting': 2051, 'studio': 4240, 'during': 1387, 'filming': 1718, 'wwii': 4975, 'period': 3236, 'drama': 1346, 'theres': 4440, 'fear': 1676, 'involved': 2346, 'suspense': 4330, 'whatsoever': 4861, 'nor': 3032, 'any': 256, 'surprises': 4314, 'shocking': 3940, 'moment': 2886, 'looks': 2649, 'bit': 488, 'too': 4522, 'silly': 3976, 'visual': 4757, 'style': 4249, 'very': 4723, 'flat': 1748, 'dull': 1384, 'although': 201, 'some': 4061, 'really': 3556, 'editing': 1421, 'once': 3106, 'while': 4868, 'never': 3001, 'comes': 891, 'together': 4511, 'just': 2437, 'total': 4531, '10': 0, 'superman': 4301, 'ii': 2226, 'richard': 3686, 'cut': 1089, 'should': 3951, 'fans': 1650, 'dream': 1354, 'come': 886, 'at': 331, 'last': 2521, 'footage': 1782, 'only': 3110, 'photos': 3261, 'scenes': 3811, 'existed': 1570, 'page': 3167, 'life': 2592, 'director': 1264, 'unable': 4631, 'complete': 921, 'opportunity': 3121, 'restored': 3659, 'seems': 3864, 'like': 2599, 'winning': 4898, 'situation': 4008, 'then': 4436, 'start': 4156, 'watching': 4815, 'realize': 3552, 'real': 3547, 'nightmare': 3014, 'entirely': 1503, 'possible': 3350, 'movie': 2926, 'could': 1007, 'finished': 1733, 'perfect': 3224, 'version': 4720, 'us': 4690, 'imagined': 2239, 'over': 3148, 'years': 4979, 'thrill': 4471, 'see': 3855, 'project': 3427, 'times': 4497, 'things': 4451, 'when': 4862, 'first': 1736, 'text': 4419, 'screen': 3829, 'home': 2142, 'computer': 927, 'graphics': 1959, 'new': 3003, 'from': 1840, 'trial': 4580, 'away': 369, 'pretty': 3384, 'neat': 2982, 'alright': 198, 'these': 4441, 'moments': 2887, 'until': 4680, 'effects': 1431, 'convince': 983, 'point': 3316, 'up': 4683, 'probably': 3407, 'not': 3040, 'right': 3696, 'judge': 2424, 'because': 432, 'bad': 382, 'supposedly': 4307, 'direct': 1258, 'follow': 1772, 'whose': 4877, 'tag': 4348, 'line': 2610, 'youll': 4988, 'believe': 454, 'can': 665, 'fly': 1763, 'difficult': 1249, 'anything': 260, 'here': 2086, 'original': 3129, 'productions': 3420, 'another': 250, 'issue': 2364, 're': 3535, 'lot': 2661, 'make': 2713, 'sense': 3877, 'works': 4945, 'weve': 4856, 'theatrical': 4430, 'does': 1308, 'holes': 2133, 'part': 3193, 'didnt': 1242, 'get': 1899, 'shooting': 3943, 'makers': 2715, 'were': 4848, 'intent': 2318, 'using': 4698, 'little': 2624, 'material': 2766, 'end': 1468, 'makes': 2716, 'look': 2646, 'coherent': 871, 'viewing': 4740, 'gets': 1900, 'faithful': 1634, 'comfortable': 892, 'michael': 2829, 'team': 4378, 'extremely': 1610, 'towards': 4540, 'filmed': 1717, 'by': 642, 'ones': 3108, 'relatively': 3600, 'released': 3603, 'includes': 2263, 'moon': 2900, 'sequence': 3887, 'ironically': 2356, 'both': 547, 'else': 1448, 'edited': 1420, 'such': 4268, 'fashion': 1659, 'now': 3054, 'seem': 3861, 'ham': 2011, 'nothing': 3047, 'thrown': 4481, 'under': 4639, 'bus': 631, 'good': 1937, 'release': 3602, 'well': 4843, 'brando': 566, 'fact': 1621, 'shot': 3949, 'since': 3990, 'same': 3778, 'highlights': 2104, 'problems': 3409, 'major': 2711, 'jumping': 2431, 'better': 472, 'served': 3894, 'section': 3853, 'instead': 2307, 'they': 4442, 'nonsensical': 3031, 'narrative': 2966, 'inferior': 2285, 'performances': 3229, 'many': 2732, 'alternate': 200, 'takes': 4351, 'familiar': 1643, 'used': 4693, 'sloppy': 4030, 'decisions': 1152, 'watch': 4811, 'opening': 3114, 'scene': 3809, 'daily': 1097, 'planet': 3289, 'why': 4878, 'looking': 2648, 'jackie': 2374, 'back': 378, 'calls': 654, 'clark': 832, 'walking': 4779, 'dark': 1115, 'apartment': 265, 'followed': 1773, 'cooper': 990, 'bathroom': 412, 'turning': 4608, 'lights': 2597, 'initially': 2291, 'confused': 941, 'expected': 1577, 'entire': 1502, 'filled': 1715, 'questionable': 3488, 'choices': 798, 'battle': 414, 'mess': 2818, 'between': 475, 'cuts': 1091, 'random': 3514, 'action': 100, 'course': 1019, 'bridge': 578, 'next': 3007, 'set': 3898, 'or': 3124, 'more': 2904, 'much': 2934, 'pride': 3391, 'admit': 122, 'military': 2844, 'noted': 3045, 'elsewhere': 1449, 'bears': 421, 'blind': 506, 'knows': 2493, 'producers': 3416, 'tried': 4584, 'hard': 2033, 'honor': 2150, 'dropped': 1370, 'ball': 388, 'less': 2575, 'five': 1743, 'minutes': 2859, 'mistake': 2871, 'quality': 3484, 'production': 3419, 'supposed': 4306, 'care': 684, 'put': 3480, 'final': 1722, 'product': 3418, 'air': 164, 'affair': 135, 'easier': 1405, 'separate': 3883, 'states': 4163, 'pay': 3216, 'essentially': 1523, 'bonus': 534, 'disc': 1278, 'play': 3296, 'worth': 4953, 'legendary': 2565, 'initial': 2290, 'expect': 1575, 'will': 4886, 'excellent': 1555, 'dust': 1388, 'my': 2951, 'experience': 1580, 'respect': 3652, 'means': 2783, 'realized': 3553, 'script': 3834, 'stand': 4143, 'out': 3141, 'bold': 528, 'relief': 3605, 'managed': 2723, 'entertained': 1498, 'continue': 969, 'likely': 2601, 'remembered': 3617, 'history': 2121, 'recently': 3567, 'audience': 352, 'favorite': 1671, '2005': 35, 'international': 2326, 'festival': 1697, 'inspiring': 2302, 'moving': 2928, 'famous': 1647, 'forced': 1787, 'illness': 2230, 'returns': 3668, 'small': 4033, 'village': 4743, 'birth': 486, 'become': 433, 'leader': 2546, 'church': 813, 'find': 1726, 'music': 2946, 'drawing': 1350, 'within': 4912, 'swedish': 4335, 'develops': 1226, 'characters': 760, 'superbly': 4297, 'directed': 1259, 'acted': 98, 'brought': 600, 'tears': 4380, 'eyes': 1613, 'hopefully': 2157, 'distribution': 1298, 'united': 4664, 'concept': 930, 'deserves': 1201, 'received': 3564, 'isnt': 2362, 'oscar': 3133, 'caliber': 649, 'least': 2554, 'left': 2561, 'impression': 2252, 'saw': 3798, '1984': 23, 'theatre': 4429, 'dont': 1324, 'hope': 2155, 'spoiler': 4123, 'imagine': 2238, 'acting': 99, 'your': 4991, 'doing': 1312, 'thought': 4462, 'pops': 3332, 'head': 2057, 'saying': 3800, 'words': 4938, 'lips': 2615, 'holding': 2130, 'intelligent': 2314, 'adults': 126, 'shouldnt': 3952, 'say': 3799, 'surface': 4310, 'go': 1924, 'far': 1653, 'hollywood': 2137, 'obsessed': 3069, 'older': 3101, 'classics': 837, 'try': 4600, 'cash': 709, 'today': 4508, 'wouldnt': 4958, 'them': 4432, 'remake': 3612, 'success': 4265, 'sake': 3775, 'taking': 4352, 'level': 2584, 'further': 1853, 'explore': 1594, 'crew': 1053, 'couldnt': 1008, '20': 29, 'ago': 154, 'anyway': 261, 'originally': 3131, 'came': 656, 'old': 3100, 'highly': 2105, 'entertaining': 1499, 'frightening': 1839, 'unlike': 4670, 'basic': 406, 'plot': 3309, 'sent': 3880, 'earth': 1403, 'fourth': 1813, 'star': 4150, 'happened': 2027, 'which': 4867, 'twenty': 4612, 'heard': 2062, 'theme': 4433, 'civilization': 827, 'namely': 2962, 'contact': 961, 'remains': 3611, 'greatly': 1967, 'advanced': 128, 'alien': 183, 'removed': 3624, 'seed': 3856, 'destruction': 1216, 'being': 448, 'passed': 3202, 'vs': 4767, 'evil': 1548, 'brother': 598, 'boy': 557, 'tiger': 4491, 'scare': 3803, 'unseen': 4678, 'creature': 1045, 'force': 1786, 'also': 199, 'amazed': 208, 'how': 2181, 'looked': 2647, 'captures': 678, 'attention': 345, 'adult': 125, 'though': 4461, 'forbidden': 1785, 'knowledge': 2491, 'relevant': 3604, 'developed': 1223, 'ourselves': 3140, 'technology': 4385, 'responsibility': 3655, 'hand': 2015, 'must': 2950, 'work': 4940, 'along': 195, 'wisdom': 4902, 'use': 4692, 'moral': 2902, 'learned': 2551, 'school': 3813, 'power': 3359, 'correct': 1000, 'upon': 4684, 'overall': 3150, 'impact': 2244, 'own': 3158, 'future': 1856, 'itself': 2371, 'enough': 1491, 'control': 977, 'destiny': 1212, 'thanks': 4423, 'those': 4460, 'earlier': 1399, 'versions': 4721, 'comments': 901, 'appreciated': 280, 'past': 3207, '40': 48, 'rating': 3529, 'stars': 4155, 'picture': 3269, 'started': 4157, 'intentions': 2321, 'scientist': 3818, 'test': 4416, 'theory': 4437, 'cute': 1090, 'usual': 4699, 'role': 3726, 'falls': 1640, 'apart': 264, 'typical': 4623, 'thriller': 4472, 'special': 4097, 'kind': 2476, 'humour': 2194, 'soul': 4079, 'waste': 4808, 'tape': 4365, 'john': 2409, 'invisible': 2344, 'starring': 4154, 'leonard': 2572, 'wells': 4845, 'casting': 711, 'bone': 533, 'pick': 3265, 'david': 1124, 'playing': 3300, 'father': 1666, 'robert': 3713, 'yeah': 4977, 'hes': 2093, 'college': 875, 'clues': 865, 'him': 2110, '24': 39, '25': 40, 'still': 4188, 'puts': 3481, 'classes': 834, 'junior': 2435, 'high': 2100, 'assume': 328, 'wrote': 4974, 'medical': 2790, 'miracle': 2860, 'their': 4431, 'year': 4978, 'hasnt': 2044, 'aged': 149, 'main': 2707, 'appeal': 271, 'sin': 3988, 'city': 825, 'smoking': 4040, 'weird': 4841, 'hair': 2005, 'hip': 2114, 'cousin': 1021, 'went': 4847, 'anyone': 259, 'wasnt': 4807, 'exactly': 1551, 'london': 2641, 'mob': 2879, 'days': 1130, 'off': 3084, 'sexually': 3910, 'dad': 1095, 'thinks': 4454, 'gay': 1876, 'sad': 3767, 'himself': 2111, 'died': 1244, 'aids': 161, 'conflict': 939, 'generation': 1883, 'call': 651, 'wants': 4791, 'pull': 3461, 'girls': 1911, 'including': 2264, 'money': 2888, 'williams': 4888, 'son': 4070, 'unusual': 4681, 'brenda': 575, 'nearby': 2980, 'nudity': 3059, 'awfully': 373, 'lame': 2510, 'needed': 2988, 'early': 1400, 'system': 4345, 'horrible': 2163, 'stupid': 4247, 'late': 2523, '60s': 54, 'neo': 2998, 'comedy': 890, 'map': 2733, 'couple': 1016, 'don': 1320, 'board': 522, 'seemingly': 3863, 'floor': 1759, 'manager': 2724, 'two': 4620, 'decades': 1145, 'later': 2525, 'give': 1912, 'wouldve': 4959, 'dealt': 1138, 'mr': 2929, 'hole': 2132, 'desert': 1198, 'curiosity': 1082, 'again': 146, 'writer': 4968, 'sue': 4274, 'smith': 4038, 'clearly': 840, 'however': 2183, 'need': 2987, 'explanation': 1590, 'themes': 4434, 'clear': 839, 'deals': 1137, 'ability': 65, 'dare': 1113, 'face': 1616, 'especially': 1520, 'down': 1335, 'figures': 1713, 'overcome': 3151, 'possibilities': 3348, 'enjoyed': 1486, 'agree': 155, 'australian': 357, 'delivers': 1172, 'glad': 1916, 'hoping': 2160, 'going': 1931, 'fan': 1648, 'timothy': 4499, 'james': 2378, 'bond': 532, 'deserved': 1200, '3rd': 47, 'laugh': 2529, 'dalton': 1098, 'nicely': 3009, 'liked': 2600, 'jack': 2373, 'nicholson': 3011, 'consists': 955, '80': 58, 'either': 1438, 'drinking': 1362, 'jokes': 2415, 'humor': 2192, 'funny': 1852, 'female': 1693, 'idiots': 2220, 'written': 4972, '14': 6, 'cool': 989, 'women': 4923, 'designed': 1203, 'please': 3304, 'view': 4736, 'american': 213, 'pie': 3271, 'movies': 2927, 'names': 2963, 'minor': 2857, 'thing': 4450, 'fooled': 1780, 'obviously': 3072, 'overrated': 3156, 'deserve': 1199, 'above': 68, 'talent': 4354, 'showed': 3956, 'accident': 84, 'guy': 2000, 'talented': 4355, 'way': 4820, 'brilliant': 583, 'sequences': 3888, 'awesome': 371, 'chemistry': 782, 'actors': 104, 'gives': 1914, 'loving': 2675, 'fantastic': 1651, 'young': 4989, 'married': 2744, 'job': 2405, 'shy': 3962, 'yet': 4984, 'strong': 4229, 'gone': 1935, 'through': 4477, 'beautiful': 428, 'documentary': 1307, 'begins': 444, 'setting': 3900, 'perspective': 3245, 'several': 3905, 'light': 2595, 'traveling': 4568, 'sounds': 4084, 'space': 4090, 'contains': 964, 'johnson': 2411, 'skip': 4016, 'actor': 103, 'shows': 3960, 'blues': 519, 'covers': 1024, 'nick': 3012, 'cave': 727, 'among': 217, 'others': 3136, 'death': 1141, 'song': 4071, 'striking': 4226, 'event': 1535, 'got': 1944, 'political': 3324, 'engaged': 1480, 'considered': 951, 'league': 2549, 'martin': 2748, 'king': 2479, 'lyrics': 2692, 'native': 2972, 'america': 212, 'roots': 3738, 'rest': 3657, 'title': 4504, 'boring': 543, 'crappy': 1032, 'series': 3890, 'wars': 4804, 'hype': 2207, 'amazing': 209, 'goes': 1930, 'completely': 922, 'un': 4630, 'noticed': 3049, 'beyond': 476, 'open': 3112, 'disturbing': 1300, 'scary': 3807, 'world': 4946, 'live': 2625, 'elephant': 1444, 'day': 1129, 'pulls': 3464, 'focuses': 1768, 'happens': 2029, 'played': 3297, 'hot': 2174, 'happy': 2032, 'straight': 4210, 'student': 4238, 'friends': 1837, 'luckily': 2682, 'killed': 2469, 'hospital': 2172, 'causing': 726, 'emotional': 1459, 'pain': 3170, 'addition': 118, 'physical': 3262, 'meanwhile': 2785, 'gorgeous': 1942, 'busy': 635, 'nasty': 2968, 'cold': 872, 'hearted': 2065, 'anti': 254, 'single': 3996, 'turns': 4609, 'knew': 2486, 'causes': 725, 'police': 3322, 'station': 4164, 'asked': 317, 'questions': 3489, 'refuses': 3587, 'tell': 4395, 'cops': 993, 'constantly': 958, 'house': 2178, 'something': 4066, 'principal': 3398, 'attend': 344, 'funeral': 1849, 'dead': 1132, 'students': 4239, 'walks': 4780, 'decides': 1150, 'forces': 1788, 'visit': 4755, 'says': 3801, 'lonely': 2643, 'physically': 3263, 'emotionally': 1460, 'wounded': 4961, 'someone': 4064, 'attempts': 343, 'friendly': 1836, 'welcome': 4842, 'harsh': 2040, 'statement': 4162, 'intention': 2319, 'change': 749, 'ill': 2228, 'tie': 4488, 'equally': 1510, 'risk': 3704, 'graphic': 1958, 'images': 2235, 'ashamed': 312, 'dvd': 1391, 'cover': 1022, 'mean': 2779, 'brosnan': 597, 'grey': 1973, 'beautifully': 429, 'photographed': 3258, 'paced': 3162, 'surprised': 4313, 'basically': 407, 'read': 3543, 'fascinating': 1658, 'purpose': 3474, 'oh': 3096, 'god': 1926, 'worst': 4952, 'understand': 4643, 'anybody': 257, 'opposite': 3123, 'idea': 2213, 'effect': 1428, 'miserable': 2863, 'destroyed': 1214, 'affected': 137, 'annoying': 249, 'every': 1539, 'appears': 278, 'reminds': 3620, 'spirit': 4113, 'whole': 4873, 'faces': 1618, 'create': 1036, 'emotion': 1458, 'terrible': 4407, 'gabriel': 1859, 'serious': 3891, 'roles': 3727, 'tom': 4514, 'keaton': 2448, 'suspects': 4328, 'recommend': 3571, 'take': 4349, 'particular': 3194, 'youve': 4995, 'bucks': 606, 'close': 853, 'nine': 3017, 'order': 3126, 'online': 3109, 'rent': 3626, 'rental': 3627, 'whether': 4866, 'normally': 3034, 'gangster': 1868, 'type': 4621, 'mad': 2696, 'dog': 1310, 'forget': 1793, 'yourself': 4993, 'talk': 4358, 'cartoon': 704, 'anime': 243, 'blow': 514, 'seat': 3845, 'songs': 4072, 'emotions': 1461, 'show': 3953, 'wing': 4896, 'meaning': 2780, 'tells': 4397, 'sometimes': 4067, 'lose': 2654, 'peace': 3219, 'gundam': 1997, 'trying': 4601, 'closing': 859, 'endless': 1473, 'dislike': 1288, 'books': 536, 'watched': 4813, 'closely': 855, 'youre': 4992, 'compared': 912, 'saga': 3773, 'presented': 3376, 'novel': 3052, 'ridiculous': 3693, 'relationships': 3598, 'ends': 1474, 'reaching': 3539, 'nowhere': 3056, 'direction': 1261, 'understandable': 4644, 'different': 1248, '90s': 61, 'gonna': 1936, 'copy': 994, 'dialogues': 1235, 'fit': 1740, 'poorly': 3329, 'sequels': 3886, 'qualities': 3483, 'mario': 2738, 'al': 170, 'pacino': 3164, 'joined': 2413, 'pieces': 3273, 'godfather': 1927, 'almost': 193, 'cinema': 816, 'dies': 1245, 'previous': 3387, 'shame': 3918, 'friend': 1835, 'iii': 2227, 'ok': 3098, 'critics': 1064, 'alike': 185, 'devils': 1229, 'suggest': 4280, 'often': 3095, 'people': 3221, 'themselves': 4435, 'wanted': 4789, 'sit': 4003, 'guys': 2001, 'corner': 996, 'magic': 2703, 'perhaps': 3235, 'reach': 3536, 'decided': 1149, 'based': 404, 'everybody': 1540, 'nose': 3037, 'biggest': 480, 'flaw': 1749, 'wide': 4880, 'support': 4303, 'complex': 923, 'described': 1195, 'non': 3027, 'storytelling': 4209, 'device': 1227, 'showing': 3958, 'subtle': 4260, 'hints': 2113, 'commit': 904, 'memory': 2804, 'ie': 2221, 'ray': 3533, 'gun': 1996, 'portrayed': 3342, 'pathetic': 3210, 'example': 1553, 'mature': 2773, 'approach': 282, 'taken': 4350, 'storyline': 4208, 'silent': 3975, 'gritty': 1977, 'hero': 2088, 'jail': 2376, 'score': 3822, 'settle': 3902, 'drawn': 1351, 'corruption': 1002, 'paint': 3173, 'numbers': 3061, 'noir': 3023, 'vague': 4705, 'poetic': 3313, 'choice': 797, 'voice': 4761, 'number': 3060, 'philosophical': 3253, 'points': 3319, 'where': 4864, 'jason': 2383, 'runs': 3757, 'car': 680, 'difference': 1246, 'chance': 747, 'phone': 3255, 'act': 97, 'id': 2212, 'said': 3774, 'spend': 4105, 'date': 1118, 'piece': 3272, 'art': 304, 'easy': 1410, 'nobody': 3022, 'seemed': 3862, 'humble': 2191, 'stylish': 4251, 'modern': 2882, 'manner': 2729, 'brothers': 599, 'choose': 799, 'ah': 158, 'load': 2631, 'gangsters': 1869, 'allowed': 190, 'shallow': 3917, 'name': 2960, 'cant': 671, 'deep': 1154, 'pretentious': 3383, 'thoughtful': 4463, 'interesting': 2325, 'soon': 4074, 'trailer': 4554, 'excited': 1561, 'disappointed': 1273, 'hurt': 2202, 'felt': 1692, 'amateurish': 207, 'cast': 710, 'kid': 2464, 'merely': 2815, 'clothes': 860, 'lines': 2612, 'props': 3439, 'cheap': 774, 'unrealistic': 4677, 'surprisingly': 4316, 'check': 777, 'screenplay': 3831, 'author': 359, 'building': 615, 'tension': 4404, 'mild': 2839, 'climax': 849, 'hurts': 2203, 'content': 966, 'fun': 1848, 'intriguing': 2335, 'unfortunately': 4654, 'technically': 4382, 'brilliance': 582, 'problem': 3408, 'camera': 659, 'whoever': 4872, 'hold': 2129, 'having': 2054, 'disgusting': 1286, 'screaming': 3827, 'stop': 4201, 'credits': 1050, 'roll': 3728, 'van': 4713, 'band': 391, 'gas': 1874, 'person': 3238, 'run': 3755, 'richards': 3687, 'draw': 1349, 'popular': 3333, 'performers': 3232, 'already': 197, 'romantic': 3733, 'serial': 3889, 'slasher': 4020, 'turned': 4606, 'dance': 1103, '13': 4, 'include': 2261, 'cards': 683, 'weapon': 4828, 'knife': 2487, 'iron': 2354, 'etc': 1527, 'horror': 2168, 'twisted': 4618, 'sexuality': 3909, 'arent': 288, 'shakespeare': 3915, 'favorites': 1672, 'sexy': 3911, 'killers': 2471, 'mask': 2752, 'creepy': 1052, 'victim': 4729, 'wish': 4904, 'am': 204, 'leading': 2547, 'jessica': 2398, 'capable': 672, 'blonde': 511, 'urban': 4688, 'legend': 2564, 'smaller': 4034, 'parts': 3199, 'younger': 4990, 'ludicrous': 2685, 'sinister': 3998, 'soundtrack': 4085, 'fine': 1729, 'tunes': 4603, 'killer': 2470, 'featured': 1679, 'barely': 399, 'nonetheless': 3029, 'twist': 4617, 'big': 478, 'surprise': 4312, 'filmmakers': 1720, 'spare': 4093, 'explaining': 1588, 'routine': 3743, 'kim': 2475, 'tea': 4373, 'ryan': 3765, 'mouth': 2920, 'everything': 1544, 'cable': 644, '30': 42, 'trouble': 4592, 'staying': 4168, 'awake': 365, '60': 53, 'hit': 2122, 'record': 3573, 'button': 639, 'fell': 1690, 'asleep': 320, 'morning': 2906, 'bothered': 549, 'cure': 1081, 'guarantee': 1987, 'hour': 2176, 'half': 2007, 'sleep': 4024, 'dialogue': 1234, 'continuity': 972, 'existent': 1572, 'held': 2074, 'super': 4295, 'disaster': 1276, 'likes': 2602, 'reasons': 3560, 'black': 493, 'pat': 3208, 'features': 1680, 'joe': 2407, 'donna': 1323, 'effort': 1432, 'norman': 3035, 'anthony': 253, 'comedies': 889, 'similar': 3978, 'eating': 1413, 'bet': 470, 'definitely': 1162, 'amusing': 221, 'second': 3846, 'directors': 1266, 'profound': 3423, 'color': 877, 'motion': 2913, 'produce': 3413, 'entertainment': 1500, 'paris': 3189, 'ex': 1549, 'france': 1816, 'war': 4792, 'study': 4242, 'charming': 768, 'brings': 587, 'touch': 4533, 'french': 1830, 'technique': 4383, 'artistic': 308, 'musical': 2947, 'introduces': 2338, 'exciting': 1563, 'personality': 3242, 'leslie': 2574, 'debut': 1143, 'diamond': 1236, 'class': 833, 'describes': 1196, 'grace': 1950, 'montage': 2894, 'styles': 4250, 'sweet': 4336, 'leads': 2548, 'kelly': 2452, 'share': 3920, 'gentle': 1890, 'parody': 3192, 'tap': 4364, 'dancing': 1107, 'crowd': 1067, 'children': 792, 'singing': 3995, 'massive': 2756, 'jazz': 2387, 'spots': 4132, 'dreams': 1355, 'instantly': 2306, 'blue': 518, 'onto': 3111, 'sing': 3992, 'stay': 4166, 'la': 2500, 'provides': 3450, 'around': 297, 'room': 3735, 'top': 4525, 'brown': 601, 'piano': 3264, 'meets': 2795, 'cinderella': 815, 'river': 3707, 'meeting': 2794, 'definite': 1161, 'lovers': 2673, 'soft': 4051, 'elements': 1443, 'dances': 1106, 'move': 2921, 'rush': 3759, 'toward': 4539, 'warm': 4794, 'weakest': 4825, 'bear': 420, 'relation': 3595, 'georges': 1894, 'performs': 3234, 'stage': 4139, 'giant': 1905, 'floating': 1758, 'concert': 935, 'members': 2801, 'climactic': 848, 'ballet': 389, 'quite': 3495, 'adventure': 130, 'taste': 4369, 'design': 1202, 'fury': 1855, 'fantasy': 1652, 'lost': 2660, 'feeling': 1685, 'viewed': 4737, 'huge': 2185, 'starts': 4159, 'arts': 310, 'finds': 1728, 'important': 2247, 'changing': 752, 'locations': 2636, 'influenced': 2287, 'jerry': 2396, 'tour': 4538, 'attractive': 351, 'atmospheric': 334, 'de': 1131, 'market': 2740, 'dancers': 1105, 'appeared': 276, 'elegant': 1441, 'white': 4870, 'asks': 319, 'dress': 1357, 'holds': 2131, 'cleverly': 842, 'modesty': 2883, 'six': 4010, 'oscars': 3134, 'award': 366, 'gene': 1879, 'gave': 1875, 'wealth': 4826, 'memories': 2803, 'britain': 588, '80s': 59, 'tale': 4353, 'middle': 2833, 'teenage': 4389, 'wife': 4884, 'gratuitous': 1961, 'fails': 1628, 'miserably': 2864, 'intellectual': 2312, 'controversial': 978, 'michelle': 2830, 'holmes': 2139, 'utter': 4701, 'rubbish': 3748, 'sinatra': 3989, 'interest': 2323, 'leaves': 2556, 'desired': 1206, 'dean': 1139, 'mouse': 2919, 'personal': 3240, 'mine': 2853, 'daughters': 1122, 'shes': 3930, 'mickey': 2831, 'always': 203, 'captivating': 675, 'full': 1846, 'excitement': 1562, 'steals': 4172, '20th': 38, 'century': 736, 'wonder': 4926, 'moves': 2925, 'list': 2617, 'miss': 2866, 'william': 4887, 'macy': 2695, 'sympathetic': 4342, 'compelling': 916, 'step': 4175, 'family': 1645, 'business': 633, 'parents': 3188, 'territory': 4411, 'terms': 4406, 'mid': 2832, 'crisis': 1060, 'criminal': 1057, 'visits': 4756, 'forward': 1808, 'directs': 1267, 'donald': 1321, 'sutherland': 4333, 'tracy': 4546, 'riveting': 3708, 'dramatic': 1348, 'turn': 4605, 'bright': 581, 'sensitive': 3879, 'sound': 4081, 'ad': 110, 'wonderful': 4928, 'usually': 4700, 'troubled': 4593, 'woman': 4921, 'eye': 1611, 'pace': 3161, 'lead': 2545, 'predictable': 3367, 'powerful': 3360, 'meaningful': 2781, 'touching': 4536, 'suspect': 4327, 'connected': 945, 'audiences': 353, 'let': 2579, 'secondly': 3847, 'italian': 2367, 'fulci': 1845, '15': 7, 'rats': 3531, 'night': 3013, 'terror': 4412, 'dawn': 1127, 'folks': 1771, 'easily': 1406, 'wonderfully': 4929, 'scientists': 3819, 'putting': 3482, 'zombies': 4998, 'birds': 485, 'legs': 2566, 'arms': 294, 'fast': 1661, 'flying': 1764, 'attack': 337, 'greatest': 1966, 'possessed': 3347, 'sort': 4077, 'whos': 4876, 'beer': 439, 'mention': 2810, 'okay': 3099, 'disney': 1289, 'hate': 2046, 'video': 4733, 'believed': 455, 'lived': 2626, 'happily': 2030, 'quick': 3490, 'summary': 4290, 'daughter': 1121, 'prince': 3396, 'eric': 1514, 'born': 544, 'sister': 4001, 'herself': 2092, 'green': 1971, 'failing': 1627, 'doom': 1326, 'near': 2979, 'sea': 3838, 'becomes': 434, 'bargain': 400, 'bring': 585, 'witch': 4909, 'animals': 240, 'named': 2961, 'huh': 2187, 'reveal': 3670, 'guessed': 1990, 'short': 3946, 'horribly': 2164, 'obvious': 3071, 'persona': 3239, 'telling': 4396, 'known': 2492, 'grow': 1982, 'plus': 3311, 'theyve': 4446, 'decide': 1148, 'created': 1037, 'mainly': 2708, 'imagination': 2236, 'waiting': 4772, 'till': 4493, 'channel': 753, 'tv': 4610, 'price': 3389, 'ed': 1415, 'standard': 4144, 'whom': 4875, 'sean': 3840, 'alive': 186, 'harris': 2038, 'attorney': 348, 'breathtaking': 574, 'master': 2757, 'largely': 2518, 'premise': 3370, 'prisoner': 3402, 'law': 2538, 'officers': 3093, 'drives': 1367, 'wrong': 4973, 'tad': 4347, 'cheated': 775, 'channels': 754, 'human': 2188, 'beings': 449, 'attracted': 349, 'innocent': 2294, 'virgin': 4749, 'ethan': 1528, 'jesse': 2397, 'julie': 2428, 'heart': 2064, 'deeply': 1156, 'hearts': 2066, 'loved': 2670, 'track': 4544, 'conversation': 980, 'explosion': 1596, 'sequel': 3885, '2004': 34, 'reviewer': 3677, 'talking': 4360, 'era': 1513, 'feels': 1687, 'travel': 4567, 'mary': 2751, 'match': 2762, 'claire': 831, 'juvenile': 2441, 'convincing': 985, 'beaten': 424, 'curious': 1083, 'gothic': 1945, 'independent': 2272, 'shock': 3938, 'capture': 676, 'summer': 4291, 'shelley': 3928, 'titles': 4506, 'shots': 3950, 'range': 3516, 'depth': 1190, 'kinda': 2477, 'indie': 2276, 'flick': 1754, 'mainstream': 2709, 'crafted': 1029, 'stereotypes': 4179, 'watchable': 4812, 'consider': 949, 'sorry': 4076, 'excuse': 1564, 'lit': 2621, 'loads': 2633, 'clips': 852, 'repeated': 3631, 'boredom': 542, 'normal': 3033, 'existence': 1571, 'outside': 3146, 'exist': 1569, 'sudden': 4272, 'stupidity': 4248, 'zero': 4996, 'depicted': 1183, 'ladies': 2506, 'ready': 3546, 'willing': 4889, 'mission': 2870, 'absolutely': 72, 'charisma': 762, 'weak': 4824, 'knowing': 2490, 'outrageous': 3145, 'stopped': 4202, 'alas': 172, 'bland': 500, 'british': 589, 'couldve': 1009, 'regular': 3592, 'speaking': 4095, 'poor': 3328, 'accent': 78, 'cared': 685, 'fish': 1738, 'academy': 77, 'lack': 2502, 'development': 1225, 'unnecessary': 4672, 'cliché': 844, 'rare': 3523, 'rated': 3527, 'higher': 2101, 'inspired': 2301, 'understated': 4646, 'triumph': 4590, 'defeat': 1157, 'lee': 2559, 'throughout': 4478, 'tragic': 4552, 'beauty': 430, 'alan': 171, 'totally': 4532, 'lovable': 2668, 'soviet': 4089, 'spy': 4135, 'mother': 2911, 'appreciate': 279, 'havent': 2053, 'notice': 3048, 'symbolism': 4341, 'kurt': 2499, 'cameo': 657, 'christmas': 810, 'write': 4967, 'getting': 1901, 'heavy': 2070, 'radio': 3504, 'driving': 1368, 'nuts': 3064, 'forgotten': 1797, 'keeps': 2451, 'fresh': 1833, 'regarding': 3589, 'terrific': 4409, 'considering': 952, 'superb': 4296, 'english': 1483, 'purchased': 3470, 'able': 66, 'whenever': 4863, 'interested': 2324, 'post': 3352, 'plain': 3286, 'survivor': 4324, 'fight': 1707, 'town': 4541, 'suddenly': 4273, 'against': 147, 'indian': 2274, 'land': 2511, 'returned': 3666, 'hear': 2061, 'hell': 2077, 'stiff': 4187, 'ugly': 4625, 'favourite': 1673, 'plays': 3301, 'rented': 3628, 'amanda': 205, 'pays': 3218, 'unless': 4669, 'tough': 4537, 'journalist': 2420, 'vast': 4716, 'bound': 553, 'reviews': 3679, '1996': 26, 'spite': 4117, 'performance': 3228, 'depiction': 1185, '2000': 30, 'slick': 4026, 'delivered': 1170, 'grave': 1962, '2003': 33, 'comic': 893, 'starting': 4158, 'spiritual': 4116, 'mansion': 2731, 'pretend': 3381, 'company': 910, 'planned': 3290, 'scenery': 3810, 'promising': 3433, 'directing': 1260, 'manage': 2722, 'game': 1864, 'unexpected': 4650, 'consequences': 947, 'follows': 1775, 'worn': 4948, 'specific': 4099, 'fall': 1637, 'sincere': 3991, 'bored': 541, 'caught': 722, 'witness': 4914, 'christian': 808, 'stephen': 4176, 'frank': 1821, 'turner': 4607, 'walker': 4778, 'uwe': 4703, 'boll': 529, 'packed': 3166, 'nail': 2957, 'succeed': 4262, 'celebrity': 729, 'lacks': 2505, 'necessary': 2984, 'needs': 2990, 'whats': 4860, 'creative': 1041, 'cgi': 740, 'monsters': 2893, 'honestly': 2147, 'worse': 4951, 'answer': 251, 'naive': 2958, 'illegal': 2229, 'aspect': 321, '30s': 44, '40s': 49, 'warren': 4801, 'gary': 1873, 'root': 3737, 'valuable': 4708, 'dedicated': 1153, 'owner': 3159, 'mini': 2854, 'vacation': 4704, 'charge': 761, 'harry': 2039, 'couples': 1017, 'aware': 368, 'offers': 3090, 'molly': 2884, 'kids': 2467, 'possibility': 3349, 'ending': 1471, 'christopher': 811, 'lloyd': 2630, 'everywhere': 1545, 'prove': 3445, 'joy': 2422, 'laughing': 2533, 'melting': 2799, 'tons': 4520, 'free': 1827, 'strike': 4224, 'hello': 2078, '3d': 46, 'hideous': 2098, 'double': 1331, 'hunting': 2201, 'season': 3843, 'camp': 662, 'blood': 512, 'sucked': 4270, 'ear': 1397, 'age': 148, '16': 8, 'grew': 1972, 'began': 441, 'information': 2288, 'reel': 3581, 'university': 4667, 'assistant': 326, 'professor': 3422, 'conspiracy': 956, 'shocked': 3939, 'lies': 2591, 'evidence': 1546, 'claims': 830, 'quickly': 3491, 'subject': 4253, 'humans': 2190, 'claim': 828, 'craft': 1028, 'allen': 188, 'americans': 214, 'secret': 3849, 'exact': 1550, 'race': 3499, 'dumb': 1385, 'stones': 4198, 'rocks': 3722, 'matter': 2769, 'proved': 3446, 'hundreds': 2196, 'fake': 1635, 'generally': 1881, 'mostly': 2910, 'lie': 2590, 'facts': 1624, 'walk': 4775, 'imdb': 2240, 'pass': 3201, 'prefer': 3368, 'reviewers': 3678, 'stated': 4161, 'fox': 1814, 'certainly': 738, 'ingredients': 2289, 'boys': 559, 'laughs': 2534, 'seriously': 3892, 'essence': 1521, 'faced': 1617, 'issues': 2365, 'related': 3594, 'stress': 4220, 'doctor': 1304, 'plausible': 3295, 'circumstances': 822, 'incredible': 2269, 'relate': 3593, 'caused': 724, 'stan': 4142, 'universal': 4665, 'slapstick': 4019, 'comparison': 914, 'actual': 108, 'mirror': 2861, 'studios': 4241, 'finish': 1732, 'stayed': 4167, 'continued': 970, 'missed': 2867, 'enjoy': 1484, 'jimmy': 2403, 'stewart': 4184, 'lesser': 2576, 'career': 686, 'pictures': 3270, 'decent': 1147, 'york': 4985, 'spell': 4104, 'ms': 2931, 'apparently': 270, 'rule': 3753, 'book': 535, 'odd': 3080, 'witches': 4910, 'neither': 2996, 'baby': 376, 'variety': 4714, 'limited': 2606, 'pointless': 3318, 'lemmon': 2567, 'powers': 3361, 'street': 4216, 'oddly': 3081, 'hang': 2022, 'wearing': 4831, 'listening': 2620, 'mildly': 2840, 'comedic': 888, 'offer': 3087, 'exceptional': 1558, 'revenge': 3675, 'credit': 1049, 'child': 789, 'enjoyable': 1485, 'deaths': 1142, 'becoming': 435, 'facing': 1620, 'freddy': 1826, 'official': 3094, 'sees': 3866, 'myself': 2953, 'superhero': 4299, 'note': 3044, 'batman': 413, 'forever': 1792, 'recent': 3566, 'blair': 497, 'mystery': 2956, 'basis': 408, 'theater': 4427, 'stiller': 4189, 'hilarious': 2106, 'adds': 119, 'mitchell': 2875, 'paul': 3214, 'added': 116, 'keep': 2449, 'sets': 3899, 'bizarre': 492, 'blade': 495, 'catch': 714, 'guard': 1988, 'classic': 835, 'twice': 4613, 'latest': 2526, 'writing': 4971, 'worried': 4949, 'plan': 3287, 'pleasantly': 3303, 'losers': 2656, 'texas': 4418, 'taylor': 4372, 'dennis': 1179, 'hopper': 2161, 'boat': 523, 'makeup': 2717, 'unique': 4662, 'remarkable': 3613, 'believable': 453, 'displays': 1293, 'rock': 3720, 'hudson': 2184, 'doll': 1313, 'ken': 2453, 'male': 2719, 'relationship': 3597, 'collection': 874, 'cardboard': 682, 'pop': 3330, 'racism': 3502, 'subjects': 4254, 'size': 4012, 'wont': 4932, 'missing': 2869, 'case': 707, 'episodes': 1508, 'beginning': 443, 'moved': 2922, 'drug': 1373, 'central': 735, '1960s': 15, 'aka': 168, 'partner': 3198, 'vietnam': 4735, 'form': 1798, 'friendship': 1838, 'hide': 2097, 'culture': 1079, 'flashback': 1746, 'bits': 490, 'examples': 1554, 'red': 3576, 'yellow': 4981, 'blowing': 515, 'window': 4894, 'bedroom': 437, 'drink': 1361, 'alcohol': 176, 'state': 4160, 'figured': 1712, 'scheme': 3812, 'fellow': 1691, 'intensity': 2317, 'key': 2458, 'respected': 3653, 'officer': 3092, 'surrounding': 4319, 'views': 4742, 'sex': 3907, 'robin': 3715, 'realizing': 3555, 'cannot': 670, 'reached': 3537, 'sat': 3786, 'spoke': 4125, 'lucky': 2683, 'outstanding': 3147, 'former': 1800, 'needless': 2989, 'scared': 3805, 'cinematography': 820, 'cheesy': 781, 'dreadful': 1353, 'chorus': 803, 'behind': 447, 'nostalgic': 3039, 'besides': 468, 'cars': 702, 'running': 3756, 'water': 4816, 'struggle': 4234, 'told': 4513, 'slow': 4031, 'plenty': 3307, 'attached': 336, 'extra': 1606, 'handle': 2018, 'swimming': 4338, 'pool': 3327, 'add': 115, 'methods': 2825, 'hat': 2045, 'surely': 4309, 'explored': 1595, 'angles': 237, 'became': 431, 'format': 1799, 'yesterday': 4983, 'internet': 2327, 'photography': 3260, 'justice': 2438, 'nervous': 2999, 'latin': 2527, 'gold': 1932, 'silver': 3977, 'successfully': 4267, 'treatment': 4574, 'shorts': 3948, 'formula': 1802, 'artists': 309, 'inside': 2297, 'coming': 896, 'simple': 3983, 'crazy': 1035, 'chinese': 796, 'took': 4523, 'flesh': 1753, 'heavily': 2069, 'breath': 573, 'simplicity': 3984, 'feelings': 1686, 'general': 1880, 'simply': 3986, 'commercial': 902, 'delight': 1167, 'interaction': 2322, 'alexander': 180, 'question': 3487, 'repeat': 3630, 'mix': 2876, '1st': 28, 'monster': 2892, 'kill': 2468, 'efforts': 1433, 'featuring': 1681, 'dramas': 1347, 'adventures': 131, 'science': 3816, 'fiction': 1702, 'mysteries': 2954, 'westerns': 4854, 'genre': 1888, 'foreign': 1790, 'entertain': 1497, 'halfway': 2008, 'walked': 4776, 'describe': 1194, 'incoherent': 2265, 'trashy': 4566, 'meaningless': 2782, 'convey': 982, 'redeeming': 3577, 'value': 4709, 'suffice': 4279, 'ranks': 3519, 'clever': 841, 'cringe': 1059, 'worthy': 4956, 'manages': 2725, 'depicting': 1184, 'protagonists': 3442, 'shark': 3921, 'guess': 1989, 'resort': 3650, 'gross': 1978, 'despite': 1211, '45': 50, 'smile': 4036, 'behave': 445, 'goofy': 1939, 'group': 1980, 'wood': 4933, 'slaughter': 4021, 'brilliantly': 584, 'eg': 1434, '3000': 43, 'thankfully': 4422, 'rather': 3528, 'regard': 3588, 'naturally': 2974, 'eventually': 1537, 'painfully': 3172, 'talents': 4356, 'solely': 4056, 'impressive': 2253, 'location': 2635, 'memorable': 2802, 'incredibly': 2270, 'listen': 2619, 'seconds': 3848, 'laurel': 2537, 'hardy': 2037, 'offended': 3085, 'introduce': 2336, 'reasonably': 3559, 'duo': 1386, 'supporting': 4304, 'tight': 4492, 'longer': 2645, 'abandoned': 62, 'ultimately': 4628, 'superior': 4300, 'explosions': 1597, 'violence': 4747, 'ruthless': 3764, 'threatening': 4468, 'chilling': 794, 'lifetime': 2594, 'psychological': 3458, 'unfortunate': 4653, 'simon': 3982, 'possibly': 3351, 'tony': 4521, 'september': 3884, 'element': 1442, 'everyday': 1541, 'carl': 692, 'discover': 1279, 'situations': 4009, 'closer': 856, 'danger': 1109, 'menace': 2806, 'brave': 567, 'supernatural': 4302, 'trap': 4563, 'hiding': 2099, 'trapped': 4564, 'defend': 1158, 'heroic': 2090, 'buck': 605, 'hunter': 2199, 'wrapped': 4964, 'involving': 2349, 'anymore': 258, 'likable': 2598, 'writers': 4969, 'suit': 4284, 'suspenseful': 4331, 'lasted': 2522, 'tired': 4501, 'week': 4837, 'starred': 4153, 'bumbling': 622, 'determined': 1221, 'reporter': 3636, 'guest': 1992, 'aint': 163, 'twists': 4619, 'ten': 4399, 'context': 968, 'decision': 1151, 'punch': 3466, 'explained': 1587, 'spoilers': 4124, 'kidding': 2465, 'tense': 4403, 'utterly': 4702, 'ask': 316, 'government': 1948, 'explain': 1586, 'belief': 451, 'improved': 2255, 'changed': 750, 'extreme': 1609, 'gripping': 1976, 'werent': 4849, 'apparent': 269, 'mysterious': 2955, 'streets': 4217, 'slight': 4027, 'understanding': 4645, 'below': 462, 'par': 3184, 'contained': 963, 'errors': 1516, 'latter': 2528, 'rank': 3518, 'recognition': 3568, 'source': 4086, 'genuine': 1891, 'places': 3284, 'sadness': 3770, 'across': 96, 'treat': 4572, 'cynical': 1093, 'refreshing': 3586, 'heroes': 2089, 'glimpse': 1919, 'extraordinary': 1607, 'extent': 1605, 'pilot': 3276, 'expecting': 1578, 'cameron': 661, 'titanic': 4503, 'strange': 4211, 'failed': 1626, 'hours': 2177, 'synopsis': 4344, 'figure': 1711, 'facial': 1619, 'expression': 1602, 'attitude': 346, 'count': 1010, 'technical': 4381, 'genius': 1887, 'visuals': 4759, 'wake': 4774, 'bay': 416, 'scott': 3824, 'million': 2847, 'von': 4765, 'breaking': 570, 'waves': 4819, 'dancer': 1104, 'crime': 1055, 'whilst': 4869, 'hidden': 2096, 'dragon': 1344, 'clean': 838, 'awards': 367, 'mtv': 2933, 'substance': 4258, 'uses': 4697, 'tracks': 4545, 'narrator': 2967, 'max': 2774, 'allows': 192, 'three': 4469, 'imagery': 2234, 'background': 380, 'colour': 880, 'instance': 2304, 'jean': 2389, 'actions': 101, 'distracting': 1297, 'round': 3742, 'slowly': 4032, 'warn': 4797, 'sides': 3967, 'narration': 2965, 'fate': 1665, 'tremendous': 4579, 'help': 2079, 'thinking': 4453, 'working': 4944, 'cinematic': 818, 'argue': 290, 'imaginative': 2237, 'player': 3298, 'kept': 2456, 'box': 555, 'ben': 463, 'talked': 4359, 'slightly': 4029, 'trust': 4598, 'happening': 2028, '1930s': 11, 'england': 1482, 'childrens': 793, 'therefore': 4439, 'recall': 3562, 'called': 652, 'tribute': 4581, 'paid': 3169, 'chief': 788, 'influence': 2286, 'environment': 1505, 'costumes': 1006, 'wow': 4962, 'itll': 2369, 'cry': 1073, 'household': 2179, 'farm': 1656, 'desperately': 1209, 'wanting': 4790, 'escape': 1517, 'provided': 3449, 'shadow': 3912, 'wise': 4903, 'golden': 1934, 'sally': 3776, 'field': 1704, 'providing': 3451, 'cat': 713, 'voiced': 4762, 'youd': 4987, 'crack': 1027, 'trio': 4587, 'none': 3028, 'solid': 4057, 'chase': 769, 'intrigued': 2334, 'dialog': 1232, 'garbage': 1870, 'portrayal': 3341, 'comment': 898, 'folk': 1770, 'wound': 4960, 'disappointing': 1274, 'complain': 919, 'border': 539, 'colors': 879, 'admittedly': 123, 'tends': 4402, 'nature': 2975, 'epic': 1506, 'thoroughly': 4459, 'animal': 239, 'lover': 2672, 'sharp': 3922, 'virtually': 4751, 'offensive': 3086, 'save': 3794, 'angry': 238, 'win': 4892, 'nevertheless': 3002, 'nowadays': 3055, 'mill': 2845, 'produced': 3414, 'bollywood': 530, 'seeking': 3859, 'india': 2273, 'cultural': 1078, 'attitudes': 347, 'protagonist': 3441, 'womans': 4922, 'tonight': 4519, 'sounded': 4082, 'ordinary': 3128, 'passing': 3204, 'western': 4853, 'corny': 997, 'news': 3005, 'stays': 4169, 'mixed': 2877, 'rid': 3690, 'laws': 2540, 'intense': 2316, 'violent': 4748, 'effective': 1429, 'combat': 882, 'spread': 4133, 'fault': 1668, 'blown': 516, 'enter': 1494, 'potentially': 3356, 'entry': 1504, 'door': 1328, 'locked': 2637, 'broken': 594, 'clue': 864, 'represent': 3637, 'joke': 2414, 'laughed': 2532, 'negative': 2991, 'pleasant': 3302, 'ticket': 4487, 'fairly': 1631, 'luke': 2687, 'matt': 2768, 'asking': 318, 'chick': 786, 'shed': 3924, 'wild': 4885, 'leaving': 2557, 'justify': 2439, 'sexual': 3908, 'acts': 107, 'explicit': 1591, 'humorous': 2193, 'compare': 911, 'expectations': 1576, 'girlfriend': 1910, 'deeper': 1155, '50s': 52, 'happiness': 2031, 'hopeless': 2158, 'failure': 1629, 'belongs': 460, 'feminist': 1695, 'sports': 4130, 'previously': 3388, 'struggles': 4235, 'break': 569, 'gender': 1878, 'contrast': 975, 'dirty': 1268, 'types': 4622, 'uk': 4626, 'painful': 3171, 'bank': 394, 'theyre': 4445, 'theyd': 4443, 'security': 3854, 'cameras': 660, 'anywhere': 263, 'speak': 4094, 'east': 1407, 'dick': 1239, 'ears': 1402, 'gang': 1867, 'west': 4852, 'unbelievable': 4634, 'marvelous': 2750, 'exotic': 1574, 'stunning': 4244, 'hanks': 2025, 'saving': 3797, 'private': 3404, 'mile': 2842, 'road': 3709, 'sam': 3777, 'depression': 1189, 'chicago': 785, 'trip': 4588, 'sullivan': 4288, 'boss': 546, 'loves': 2674, 'daniel': 1111, 'craig': 1030, 'peter': 3247, 'jr': 2423, 'sitting': 4007, 'answers': 252, 'blame': 499, 'loss': 2659, 'innocence': 2293, 'travels': 4569, 'nearly': 2981, 'ride': 3692, 'mike': 2838, 'husband': 2204, 'devoted': 1231, 'fighting': 1709, 'lewis': 2586, 'website': 4834, 'danny': 1112, 'exposed': 1598, 'unlikely': 4671, 'reading': 3544, 'advice': 133, 'ahead': 159, 'following': 1774, 'monkey': 2890, 'tree': 4576, 'dropping': 1371, 'smart': 4035, 'shower': 3957, 'hardly': 2036, 'cause': 723, 'reputation': 3640, 'office': 3091, 'touches': 4535, 'marriage': 2743, 'struggling': 4236, 'laid': 2508, 'misses': 2868, 'attraction': 350, 'enters': 1496, 'johnny': 2410, 'painting': 3175, 'instant': 2305, 'raw': 3532, 'lust': 2689, 'spin': 4112, 'threat': 4467, 'fatal': 1664, 'angle': 236, 'genres': 1889, 'developing': 1224, 'erotic': 1515, 'desire': 1205, 'current': 1084, 'grows': 1985, 'weight': 4840, 'naked': 2959, 'nicholas': 3010, 'cage': 645, 'stolen': 4195, 'anderson': 227, 'rough': 3741, 'thin': 4449, 'appear': 273, 'edge': 1418, 'steve': 4181, 'mood': 2898, 'notorious': 3051, 'barbara': 397, 'stanwyck': 4149, 'local': 2634, 'trail': 4553, 'wayne': 4821, 'extended': 1604, 'headed': 2058, 'st': 4137, 'fire': 1734, 'majority': 2712, 'common': 906, 'insulting': 2310, 'intelligence': 2313, 'sir': 4000, 'screening': 3830, 'club': 863, 'crash': 1033, 'experiment': 1583, 'manipulative': 2727, 'lowest': 2678, 'ted': 4386, 'exploitation': 1592, 'steps': 4177, 'empty': 1465, 'devoid': 1230, 'attempt': 340, 'connect': 944, 'serve': 3893, 'months': 2897, 'stunt': 4245, 'homeless': 2143, 'persons': 3244, 'hands': 2020, 'stinker': 4191, 'gem': 1877, 'dvds': 1392, 'ripped': 3701, 'lighting': 2596, 'inept': 2281, 'smoke': 4039, 'stories': 4205, 'hysterical': 2208, 'arm': 292, 'omen': 3104, 'ultra': 4629, 'sleazy': 4023, 'kung': 2498, 'fu': 1844, 'fights': 1710, 'demented': 1176, 'trade': 4547, 'lousy': 2667, 'included': 2262, 'blend': 504, 'aspects': 322, 'amounts': 220, 'opens': 3115, 'warriors': 4803, 'island': 2361, 'raise': 3507, 'buy': 640, 'hitler': 2124, 'businessman': 634, 'womens': 4924, 'required': 3641, 'army': 295, 'cruise': 1071, 'ship': 3934, 'martial': 2747, 'cop': 991, 'bunch': 623, 'attacked': 338, 'planning': 3291, 'challenge': 743, 'survivors': 4325, 'midnight': 2834, 'embarrassing': 1454, '70s': 56, 'appearance': 274, 'badly': 383, 'romance': 3732, 'trash': 4565, 'literally': 2622, 'stops': 4203, 'obscure': 3068, 'winner': 4897, 'consistently': 954, 'quote': 3496, 'avoided': 364, 'suffering': 4277, 'allowing': 191, 'creativity': 1042, 'bat': 410, 'given': 1913, 'proper': 3436, 'response': 3654, 'ass': 323, 'detective': 1220, 'murder': 2939, 'underrated': 4642, 'pulled': 3462, 'ease': 1404, 'shines': 3932, 'department': 1182, 'fair': 1630, 'bottom': 551, 'send': 3875, 'celluloid': 731, 'heaven': 2068, 'library': 2589, 'food': 1778, 'average': 362, 'confusing': 942, 'stuff': 4243, 'wrap': 4963, 'scripted': 3835, 'reminded': 3619, 'porn': 3336, 'porno': 3337, 'ultimate': 4627, 'exercise': 1568, 'detail': 1217, 'chris': 806, 'torn': 4528, 'hearing': 2063, 'conclusion': 936, 'elaborate': 1439, 'process': 3412, 'otherwise': 3137, 'waters': 4817, 'appealing': 272, 'neighbors': 2994, 'edward': 1426, 'pet': 3246, 'meat': 2787, 'nation': 2969, 'significant': 3972, 'bush': 632, 'selfish': 3870, 'upper': 4685, 'society': 4050, 'category': 718, '100': 1, 'mixture': 2878, 'raised': 3508, 'parties': 3196, 'newspaper': 3006, 'survive': 4321, 'helped': 2080, 'rescue': 3643, 'brutally': 604, 'fired': 1735, 'large': 2517, 'afford': 138, 'handful': 2017, 'thru': 4483, 'meant': 2784, 'armed': 293, 'colorful': 878, 'focused': 1767, 'lots': 2662, 'suck': 4269, 'victims': 4730, 'co': 867, 'revelation': 3674, 'peoples': 3222, 'prior': 3400, 'spoken': 4126, 'word': 4937, 'numerous': 3062, 'masterful': 2758, 'davies': 1125, 'lucy': 2684, 'primarily': 3393, 'expressions': 1603, 'balls': 390, 'primary': 3394, 'references': 3583, 'sunday': 4293, 'afternoon': 144, 'airplane': 166, 'veteran': 4724, 'cia': 814, 'jane': 2380, 'four': 1812, 'opened': 3113, 'demon': 1177, 'demons': 1178, 'trained': 4557, 'outfit': 3144, 'ann': 244, 'lord': 2652, 'singer': 3993, 'wealthy': 4827, 'grant': 1956, 'alcoholic': 177, 'hugh': 2186, 'patrick': 3213, 'wilson': 4891, 'bride': 577, 'crush': 1072, 'brief': 579, 'tragedy': 4551, 'mars': 2746, 'richardson': 3688, 'differences': 1247, 'evening': 1534, 'magnificent': 2705, 'resemblance': 3645, 'streep': 4215, 'understood': 4647, 'message': 2819, 'occasional': 3074, 'encounter': 1466, 'thoughts': 4464, 'vote': 4766, 'seven': 3903, 'brazil': 568, 'rolled': 3729, 'dated': 1119, 'overdone': 3152, '2001': 31, 'breasts': 572, 'wicked': 4879, '11': 2, 'giving': 1915, 'denzel': 1181, 'washington': 4806, 'margaret': 2735, 'glover': 1923, 'scripts': 3836, 'alice': 182, 'adaptation': 113, 'african': 142, 'somewhere': 4069, 'africa': 141, 'steven': 4182, 'spielberg': 4110, 'speaks': 4096, 'sick': 3963, 'walter': 4784, 'chased': 770, 'raymond': 3534, 'body': 527, 'dr': 1340, 'reed': 3580, 'widmark': 4882, 'public': 3460, 'health': 2060, 'service': 3896, 'plague': 3285, 'forty': 1807, 'eight': 1436, 'avoid': 363, 'mayor': 2777, 'captain': 674, 'douglas': 1334, 'clint': 850, 'panic': 3181, 'villain': 4744, 'engaging': 1481, 'terrorist': 4413, 'terrorists': 4414, 'borrowed': 545, 'account': 89, 'chess': 783, 'neighbor': 2992, 'relatives': 3601, 'connection': 946, 'strikes': 4225, 'games': 1865, 'faster': 1662, '1980s': 21, 'industry': 2280, 'screens': 3832, 'language': 2516, 'dear': 1140, 'provoking': 3452, 'fest': 1696, 'drive': 1363, 'san': 3780, 'flashbacks': 1747, 'presumably': 3380, 'led': 2558, 'distance': 1294, 'driver': 1366, 'chasing': 772, 'quest': 3486, 'arrested': 298, 'delivery': 1173, 'jumped': 2430, 'ran': 3513, 'heroine': 2091, 'pre': 3365, 'code': 869, 'regret': 3591, 'display': 1291, 'appearing': 277, 'sophisticated': 4075, 'cook': 988, 'henry': 2084, 'portray': 3340, 'recognize': 3569, 'charles': 764, 'perfectly': 3226, 'davis': 1126, 'louis': 2665, 'prime': 3395, 'dealing': 1136, 'experienced': 1581, 'hunters': 2200, 'hire': 2116, 'guide': 1993, 'ice': 2210, 'woods': 4935, 'thomas': 4458, 'burns': 628, 'dangerous': 1110, 'grade': 1951, 'cutting': 1092, 'ended': 1470, 'inventive': 2341, 'japanese': 2382, 'rooms': 3736, 'successful': 4266, 'surprising': 4315, 'reminiscent': 3621, 'cell': 730, 'lab': 2501, 'tedious': 4387, 'hoffman': 2128, 'topless': 4527, 'sole': 4055, 'citizen': 824, 'exceptionally': 1559, 'impressed': 2251, 'emma': 1457, 'rachel': 3500, 'store': 4204, 'discovered': 1280, 'immediately': 2242, 'overly': 3155, 'critical': 1062, 'concerned': 932, 'convinced': 984, 'countryside': 1015, 'backgrounds': 381, 'fare': 1655, 'country': 1014, 'settings': 3901, 'combine': 884, 'viewings': 4741, 'essential': 1522, 'complicated': 925, 'intrigue': 2333, 'occurs': 3078, 'endearing': 1469, 'competent': 917, 'rap': 3520, 'tone': 4517, 'path': 3209, 'associated': 327, 'shoot': 3942, 'loaded': 2632, 'scenario': 3808, 'dozen': 1338, 'magical': 2704, 'budget': 610, 'sub': 4252, 'conceived': 929, 'effectively': 1430, 'beat': 423, 'usa': 4691, 'princess': 3397, 'forest': 1791, 'tomatoes': 4515, 'hundred': 2195, 'critic': 1061, 'jaws': 2385, 'wind': 4893, 'financial': 1725, 'side': 3965, 'particularly': 3195, 'bacall': 377, 'terribly': 4408, 'dorothy': 1330, 'won': 4925, 'kudos': 2497, 'russell': 3761, 'tune': 4602, 'unforgettable': 4652, 'shining': 3933, 'widely': 4881, 'masters': 2761, 'due': 1382, 'stanley': 4148, 'overlook': 3153, 'hotel': 2175, 'canada': 666, 'winter': 4900, 'gruesome': 1986, 'isolated': 2363, 'wendy': 4846, 'psychic': 3456, 'energy': 1478, 'gift': 1906, 'increasingly': 2268, 'seeks': 3860, 'defined': 1160, 'ghosts': 1903, 'chain': 741, 'kubrick': 2496, 'worked': 4941, 'hence': 2083, 'larger': 2519, 'focus': 1766, 'atmosphere': 333, 'subplot': 4255, 'disappointment': 1275, 'redemption': 3578, 'albeit': 173, 'spot': 4131, 'mental': 2808, 'expert': 1585, 'twins': 4616, 'criticism': 1063, 'trademark': 4548, 'insane': 2296, 'kings': 2481, 'ideal': 2214, 'deliver': 1169, 'terrifying': 4410, 'unsettling': 4679, 'heres': 2087, 'impossible': 2249, 'alongside': 196, 'harvey': 2042, 'cinemas': 817, 'scream': 3826, 'ought': 3138, '1980': 20, 'queen': 3485, 'rarely': 3524, 'genuinely': 1892, 'necessarily': 2983, 'proves': 3447, 'perfection': 3225, 'loose': 2650, 'translation': 4562, 'finest': 1730, 'cares': 690, 'target': 4366, 'females': 1694, '18': 10, 'religious': 3608, 'nonsense': 3030, 'stargate': 4151, 'ruined': 3751, 'hitchcock': 2123, 'simmons': 3981, 'guilty': 1995, 'howard': 2182, 'charismatic': 763, 'pair': 3176, 'metal': 2823, 'rings': 3699, 'false': 1641, 'pushed': 3478, 'core': 995, 'worthless': 4954, 'vaguely': 4706, 'burn': 625, 'abuse': 74, 'stuck': 4237, 'ground': 1979, 'interview': 2329, 'disappear': 1270, 'tricks': 4583, 'expensive': 1579, 'costs': 1004, 'dollars': 1315, 'humanity': 2189, 'torture': 4529, 'various': 4715, 'pacing': 3163, 'diane': 1238, 'lane': 2515, 'throws': 4482, 'throwing': 4480, 'mom': 2885, 'throw': 4479, 'site': 4005, 'directly': 1263, 'spent': 4108, 'hill': 2108, 'lifestyle': 2593, 'bother': 548, 'plots': 3310, 'convoluted': 987, 'exists': 1573, 'toys': 4543, 'degree': 1164, 'revealing': 3672, 'adams': 112, 'lou': 2663, 'bugs': 613, 'carried': 698, 'hits': 2125, 'coach': 868, 'individual': 2277, 'transformation': 4560, 'suicide': 4283, 'grown': 1984, 'gordon': 1940, 'fears': 1677, 'halloween': 2010, 'costume': 1005, 'party': 3200, 'wooden': 4934, 'fathers': 1667, 'kills': 2474, 'toilet': 4512, 'eaten': 1412, 'finding': 1727, 'remain': 3609, 'mrs': 2930, 'friday': 1834, '13th': 5, 'delightful': 1168, 'grandmother': 1955, 'senseless': 3878, 'scares': 3806, 'brain': 562, 'die': 1243, 'blah': 496, 'ritter': 3705, '75': 57, 'delivering': 1171, 'noise': 3024, 'passion': 3205, 'card': 681, 'television': 4394, 'suggests': 4282, 'sum': 4289, 'eddie': 1416, 'murphy': 2944, 'insult': 2309, 'jamie': 2379, 'jennifer': 2392, 'broadway': 592, 'suffered': 4276, 'racist': 3503, 'population': 3335, 'murdered': 2940, 'freedom': 1828, 'kevin': 2457, 'begin': 442, 'living': 2629, 'movement': 2923, 'stands': 4147, 'storm': 4206, 'media': 2789, 'occasionally': 3075, 'burning': 627, 'confidence': 938, 'irritating': 2359, 'alex': 179, 'north': 3036, 'talks': 4361, 'fallen': 1638, 'simpson': 3987, 'lesson': 2577, 'woody': 4936, 'annie': 247, 'hall': 2009, 'per': 3223, 'laughably': 2531, 'matters': 2770, 'heads': 2059, 'decade': 1144, 'california': 650, 'purple': 3473, 'lesbian': 2573, 'companion': 909, 'blatant': 502, 'jealous': 2388, 'burt': 629, 'sheriff': 3929, 'suspicious': 4332, 'sun': 4292, 'melodrama': 2797, 'low': 2676, 'fortunately': 1805, 'weekend': 4838, 'brand': 565, 'rolling': 3730, 'laughter': 2535, 'lol': 2640, 'uncomfortable': 4637, 'calling': 653, 'honest': 2146, 'horrid': 2165, 'logical': 2639, 'jerk': 2395, 'levels': 2585, 'descent': 1193, 'wears': 4832, 'satire': 3788, 'twelve': 4611, 'funnier': 1850, 'exaggerated': 1552, 'results': 3662, 'gags': 1862, 'luck': 2681, 'bore': 540, '90': 60, 'ideas': 2215, 'miike': 2837, 'rate': 3526, 'fill': 1714, 'clichés': 846, 'walken': 4777, 'abusive': 75, 'convincingly': 986, 'elizabeth': 1445, 'scottish': 3825, 'producing': 3417, 'curse': 1086, 'sounding': 4083, 'quiet': 3492, 'satisfying': 3791, 'typically': 4624, 'passes': 3203, 'surfing': 4311, 'cross': 1066, 'franchise': 1817, 'rendition': 3625, 'campy': 664, 'requires': 3642, 'pamela': 3179, 'reality': 3551, 'killing': 2472, 'staged': 4140, 'mark': 2739, 'cost': 1003, 'anyways': 262, 'similarities': 3979, 'stealing': 4171, 'titled': 4505, 'dragged': 1343, 'columbo': 881, 'murders': 2943, 'matched': 2763, 'realistic': 3550, 'species': 4098, 'bull': 619, 'areas': 287, 'granted': 1957, 'repeatedly': 3632, 'pointed': 3317, 'behavior': 446, 'odds': 3082, 'whale': 4857, 'thick': 4447, 'certain': 737, 'aforementioned': 139, 'laughable': 2530, 'knock': 2488, 'frequently': 1832, 'rip': 3700, 'witnesses': 4916, 'reactions': 3542, 'patients': 3212, 'community': 908, 'thank': 4421, 'buried': 624, 'incomprehensible': 2267, 'wolf': 4920, 'whatever': 4859, 'paper': 3183, 'involve': 2345, 'provide': 3448, 'thrilling': 4474, 'miller': 2846, 'events': 1536, 'executed': 1565, 'inspector': 2299, 'eve': 1532, 'accurate': 90, 'rape': 3521, 'revealed': 3671, 'achieve': 92, 'investigation': 2343, 'practically': 3362, 'lovely': 2671, 'contain': 962, 'infamous': 2284, 'beach': 419, 'chaos': 755, 'mentioned': 2811, 'execution': 1566, 'praise': 3364, 'vehicle': 4718, 'despair': 1207, 'portrays': 3344, 'calm': 655, 'offered': 3088, 'cup': 1080, 'duty': 1390, 'credible': 1048, 'thumbs': 4485, 'flawless': 1751, 'web': 4833, 'search': 3841, 'flicks': 1755, 'tongue': 4518, 'spends': 4107, 'amount': 219, 'cheek': 779, 'print': 3399, 'seventies': 3904, 'gerard': 1895, 'eighties': 1437, 'medium': 2792, 'hbo': 2055, 'speed': 4103, 'cartoons': 705, 'quirky': 3493, 'larry': 2520, 'kenneth': 2455, 'vegas': 4717, 'pursuit': 3476, 'ring': 3698, 'shop': 3945, 'driven': 1365, 'ambitious': 211, 'worlds': 4947, 'belong': 459, 'personally': 3243, 'goal': 1925, 'machine': 2693, 'skin': 4015, 'religion': 3607, 'mans': 2730, 'beliefs': 452, 'ways': 4822, 'progress': 3425, 'journey': 2421, 'april': 284, 'agreed': 156, 'national': 2970, 'offering': 3089, 'research': 3644, 'built': 618, 'unintentionally': 4659, '50': 51, 'plant': 3293, 'thousands': 4466, 'tall': 4362, 'program': 3424, 'established': 1524, 'center': 732, 'union': 4661, 'german': 1896, 'according': 88, 'concerns': 934, 'splendid': 4119, 'arrival': 299, 'raising': 3509, 'royal': 3746, 'operation': 3117, 'europe': 1529, 'captured': 677, 'orders': 3127, 'germany': 1898, 'signed': 3971, 'ps': 3453, 'march': 2734, '1983': 22, 'fictional': 1703, 'neck': 2985, 'rocky': 3723, 'castle': 712, 'hired': 2117, 'cliff': 847, 'buffs': 612, 'characterization': 759, 'remaining': 3610, 'copies': 992, 'equipment': 1511, 'corrupt': 1001, 'criminals': 1058, 'propaganda': 3435, 'cliche': 843, 'horses': 2171, 'korean': 2495, 'solve': 4060, 'massacre': 2754, 'hills': 2109, 'stereotypical': 4180, 'hollow': 2135, 'ian': 2209, 'robinson': 3716, 'wishing': 4907, 'minded': 2850, 'string': 4227, 'absurd': 73, 'train': 4556, 'wreck': 4965, 'details': 1219, 'meet': 2793, 'irish': 2353, 'restaurant': 3658, 'poignant': 3315, 'tear': 4379, 'develop': 1222, 'andy': 230, 'bill': 481, 'resident': 3647, 'carefully': 689, 'severe': 3906, 'motivation': 2914, 'joseph': 2419, 'alfred': 181, 'holiday': 2134, 'proceedings': 3410, 'presents': 3377, 'southern': 4088, 'tender': 4401, 'unknown': 4668, 'disease': 1285, 'notable': 3041, 'stunts': 4246, 'introduction': 2339, 'discuss': 1283, 'families': 1644, 'downhill': 1336, 'husbands': 2205, 'trick': 4582, 'creating': 1039, 'timing': 4498, 'frustration': 1843, 'third': 4455, 'pleased': 3305, 'indeed': 2271, 'thrillers': 4473, 'sidney': 3968, 'clip': 851, 'traditional': 4550, 'crimes': 1056, 'advise': 134, 'proceeds': 3411, 'suspend': 4329, 'disbelief': 1277, 'minimum': 2856, 'importance': 2246, 'jones': 2418, 'lawyer': 2541, 'testament': 4417, 'abilities': 64, 'creates': 1038, 'wannabe': 4787, 'semi': 3874, 'adapted': 114, 'jay': 2386, 'builds': 617, 'improvement': 2256, 'finale': 1723, 'lumet': 2688, '12': 3, 'spooky': 4128, 'hated': 2047, 'relies': 3606, 'unfunny': 4655, 'rob': 3710, 'favor': 1670, 'advance': 127, 'via': 4726, 'fonda': 1777, 'pack': 3165, 'president': 3378, 'notably': 3042, 'fail': 1625, 'safe': 3771, 'learn': 2550, 'lincoln': 2608, 'ford': 1789, 'abraham': 69, 'edition': 1422, 'neighborhood': 2993, 'deadly': 1133, 'flynn': 1765, 'kennedy': 2454, 'dynamic': 1394, 'credibility': 1047, 'reference': 3582, 'presence': 3373, 'enormous': 1490, 'affect': 136, 'polished': 3323, 'damon': 1101, '70': 55, 'jim': 2402, 'carrey': 696, 'growing': 1983, 'ellen': 1446, 'boyfriend': 558, 'marry': 2745, 'sleeping': 4025, 'reveals': 3673, 'loses': 2657, 'equal': 1509, 'result': 3660, 'depressed': 1187, 'desperate': 1208, 'kick': 2460, 'overwhelming': 3157, 'exception': 1557, 'eccentric': 1414, 'prison': 3401, 'losing': 2658, 'subplots': 4256, 'soap': 4047, 'opera': 3116, 'rise': 3702, 'tiny': 4500, 'cult': 1077, 'bare': 398, 'nights': 3016, 'bodies': 526, 'laura': 2536, 'handsome': 2021, 'scientific': 3817, 'block': 508, 'detailed': 1218, 'murderous': 2942, 'ages': 152, 'originality': 3130, 'jeff': 2390, 'whereas': 4865, 'giallo': 1904, 'phantom': 3251, 'retarded': 3663, 'boot': 538, 'placed': 3283, 'drivel': 1364, 'philip': 3252, '17': 9, 'voices': 4763, 'adorable': 124, 'sold': 4052, 'fix': 1744, 'quit': 3494, 'challenging': 744, 'foul': 1810, 'priest': 3392, 'caring': 691, 'bbc': 417, 'object': 3066, 'evident': 1547, 'somebody': 4062, 'inevitable': 2282, 'attacks': 339, 'teen': 4388, 'canadian': 667, 'audio': 354, 'orson': 3132, 'welles': 4844, 'closed': 854, 'toy': 4542, 'factory': 1623, 'arrive': 300, 'dolls': 1316, 'tend': 4400, 'sci': 3815, 'fi': 1701, 'tales': 4357, 'relative': 3599, 'carrying': 701, 'sadistic': 3768, 'enjoying': 1487, 'minimal': 2855, 'eastern': 1408, 'european': 1530, 'doomed': 1327, 'host': 2173, 'pretending': 3382, 'trek': 4578, 'seasons': 3844, 'gotten': 1947, 'battles': 415, 'ships': 3935, 'hooked': 2153, 'lake': 2509, 'heat': 2067, 'rubber': 3747, 'dressed': 1358, 'worthwhile': 4955, 'judging': 2425, 'satisfy': 3790, 'sacrifice': 3766, 'em': 1452, 'jeffrey': 2391, 'hadnt': 2004, 'horrific': 2166, 'express': 1600, 'crap': 1031, 'hilariously': 2107, 'damn': 1100, 'pile': 3275, 'horse': 2170, 'mountains': 2918, 'forgot': 1796, 'warner': 4799, 'winters': 4901, 'bud': 607, 'discovery': 1282, 'landscapes': 2514, 'screenwriter': 3833, 'fisher': 1739, 'navy': 2976, 'directorial': 1265, 'formulaic': 1803, 'present': 3374, 'anger': 235, 'base': 402, 'childhood': 790, 'derek': 1192, 'psychiatrist': 3455, 'foster': 1809, 'nelson': 2997, 'build': 614, 'succeeds': 4264, 'warmth': 4796, 'return': 3665, 'comedian': 887, 'reaches': 3538, 'cried': 1054, 'corpse': 999, 'virus': 4752, 'soldiers': 4054, 'chaplin': 756, 'performed': 3230, 'image': 2233, 'kissing': 2484, 'shine': 3931, 'clichéd': 845, 'maintain': 2710, 'eva': 1531, 'implausible': 2245, 'concern': 931, 'baseball': 403, 'beating': 425, 'wives': 4918, 'wondering': 4930, 'riding': 3695, 'nations': 2971, 'press': 3379, 'teaching': 4377, 'stone': 4197, 'candy': 668, 'rick': 3689, 'bruce': 602, 'beloved': 461, 'faith': 1633, 'christ': 807, 'recognized': 3570, 'hardcore': 2034, 'actresses': 106, 'ginger': 1908, 'cameos': 658, 'arguably': 289, '2002': 32, 'feature': 1678, 'exposure': 1599, 'abysmal': 76, 'responsible': 3656, 'teacher': 4375, 'ireland': 2352, 'escaped': 1518, 'shoes': 3941, 'nude': 3058, 'feet': 1688, 'unhappy': 4656, 'countless': 1012, 'jump': 2429, 'guts': 1999, 'spirited': 4114, 'honesty': 2148, 'wes': 4851, 'structure': 4233, 'perform': 3227, 'ignore': 2224, 'choreographed': 801, 'constructed': 959, 'checking': 778, 'ha': 2002, 'butt': 638, 'advertising': 132, 'sucks': 4271, 'tommy': 4516, 'peters': 3248, 'randomly': 3515, 'realizes': 3554, 'eat': 1411, 'plastic': 3294, 'standing': 4146, 'highest': 2102, 'sorts': 4078, 'drunk': 1375, 'falling': 1639, 'month': 2896, 'vhs': 4725, 'duke': 1383, 'highlight': 2103, 'victor': 4731, 'producer': 3415, 'nancy': 2964, 'covered': 1023, 'buff': 611, 'switch': 4339, 'simplistic': 3985, 'push': 3477, 'struck': 4232, 'kate': 2446, 'lacking': 2504, 'hung': 2197, 'kane': 2442, 'bite': 489, 'murderer': 2941, 'centers': 734, 'pink': 3277, 'mundane': 2938, 'fits': 1741, 'nurse': 3063, 'sign': 3970, 'blob': 507, 'valley': 4707, 'endure': 1475, 'timeless': 4496, 'moody': 2899, 'catholic': 720, 'smooth': 4041, 'grandfather': 1954, 'dogs': 1311, 'elderly': 1440, 'skill': 4013, 'available': 361, 'dreary': 1356, 'dubbed': 1379, 'unwatchable': 4682, 'shape': 3919, 'dire': 1257, 'condition': 937, 'involves': 2348, 'snake': 4042, 'photographer': 3259, 'assigned': 325, 'mountain': 2917, 'sight': 3969, 'loud': 2664, 'deaf': 1134, 'eyed': 1612, 'foot': 1781, 'ancient': 225, 'intentionally': 2320, 'cats': 721, 'darkness': 1117, 'slap': 4018, 'suffer': 4275, 'immensely': 2243, 'sitcom': 4004, 'teens': 4392, 'accidentally': 85, 'stole': 4194, 'resulting': 3661, 'rochester': 3719, 'eyre': 1614, 'superficial': 4298, 'santa': 3783, 'helping': 2081, 'ho': 2127, 'enemy': 1477, 'pitch': 3279, 'satan': 3787, 'ruin': 3750, 'wizard': 4919, 'downright': 1337, 'houses': 2180, 'mexico': 2827, 'bomb': 531, 'amongst': 218, 'fbi': 1675, 'mindless': 2851, 'jet': 2400, 'moronic': 2907, 'robot': 3717, 'combination': 883, 'futuristic': 1857, 'coffee': 870, 'row': 3744, 'robots': 3718, 'realism': 3549, 'techniques': 4384, 'holy': 2140, 'jobs': 2406, 'soldier': 4053, 'civil': 826, 'glory': 1922, 'training': 4558, 'receive': 3563, 'chose': 804, 'appearances': 275, 'undoubtedly': 4648, 'helps': 2082, 'melodramatic': 2798, 'contrary': 974, 'fame': 1642, 'popularity': 3334, 'lawrence': 2539, 'aid': 160, 'quotes': 3497, 'hitting': 2126, 'players': 3299, 'rich': 3685, 'poster': 3353, 'acceptable': 81, 'vincent': 4746, 'hammer': 2014, 'bin': 483, 'mst3k': 2932, 'devil': 1228, 'carry': 700, 'politics': 3326, 'steal': 4170, 'unconvincing': 4638, 'machines': 2694, 'roberts': 3714, 'werewolf': 4850, 'secretary': 3850, 'saturday': 3792, 'trees': 4577, 'preview': 3386, '2nd': 41, 'domino': 1319, 'trite': 4589, 'frankly': 1823, 'ups': 4686, 'multi': 2935, 'blockbuster': 509, 'wrestling': 4966, '1999': 27, 'birthday': 487, 'protect': 3443, 'gotta': 1946, 'dating': 1120, 'recommended': 3572, 'prequel': 3372, 'cube': 1076, 'glass': 1917, 'unintentional': 4658, 'fitting': 1742, 'mediocre': 2791, 'curtis': 1087, 'clown': 862, 'manhattan': 2726, 'cole': 873, 'drew': 1360, 'youth': 4994, 'teenager': 4390, 'concerning': 933, 'doors': 1329, 'sisters': 4002, 'stick': 4185, 'feed': 1683, 'asian': 314, 'china': 795, 'fashioned': 1660, 'buying': 641, 'bag': 384, 'cheese': 780, 'picking': 3267, 'lately': 2524, 'letting': 2583, 'depressing': 1188, 'japan': 2381, 'dimensional': 1253, 'link': 2613, 'experiences': 1582, 'returning': 3667, 'spanish': 4092, 'bobby': 525, 'loosely': 2651, 'thrills': 4475, 'boom': 537, 'strangely': 4212, 'jaw': 2384, 'politically': 3325, 'inspiration': 2300, 'sword': 4340, 'troubles': 4594, 'thirty': 4456, 'pulling': 3463, 'harder': 2035, 'liberal': 2588, 'revolves': 3682, 'spectacular': 4101, 'hint': 2112, 'remind': 3618, 'remarkably': 3614, 'forth': 1804, 'carpenter': 694, 'todays': 4509, 'relations': 3596, 'motives': 2916, 'sandler': 3781, 'zone': 4999, 'parker': 3191, 'renting': 3629, 'aside': 315, 'marie': 2737, 'grab': 1949, 'constant': 957, 'nightmares': 3015, 'leo': 2571, 'andrew': 228, 'competition': 918, 'lacked': 2503, 'insight': 2298, 'spending': 4106, 'millions': 2848, 'del': 1165, 'mall': 2720, 'remote': 3622, 'thugs': 4484, 'logic': 2638, 'serving': 3897, 'carries': 699, 'focusing': 1769, 'proud': 3444, 'hamlet': 2013, 'branagh': 564, 'wasted': 4809, 'unfolds': 4651, 'vivid': 4760, 'universe': 4666, 'gradually': 1952, 'catherine': 719, 'importantly': 2248, 'allow': 189, 'darker': 1116, 'marks': 2742, 'cheating': 776, 'unaware': 4632, 'unbelievably': 4635, 'loyal': 2679, 'hong': 2149, 'kong': 2494, 'enjoyment': 1488, 'fed': 1682, 'estate': 1525, 'fond': 1776, 'fields': 1705, 'multiple': 2936, 'chases': 771, 'forgettable': 1794, 'claimed': 829, 'stranger': 4213, 'innovative': 2295, 'hoped': 2156, 'nomination': 3026, 'maggie': 2702, 'baker': 385, 'uninspired': 4657, 'aired': 165, 'theaters': 4428, 'spike': 4111, 'commented': 900, 'hed': 2072, 'wasting': 4810, '1970s': 17, 'stereotype': 4178, 'cowboy': 1025, 'drops': 1372, 'chest': 784, 'football': 1783, 'rules': 3754, 'francis': 1818, 'ralph': 3510, 'rival': 3706, 'earned': 1401, 'dentist': 1180, 'dignity': 1252, 'ruby': 3749, 'afraid': 140, 'amy': 222, 'maker': 2714, 'beast': 422, 'silence': 3974, 'letter': 2581, 'walls': 4783, 'gory': 1943, 'pleasure': 3306, 'stronger': 4230, 'rage': 3505, 'visible': 4753, 'movements': 2924, 'unbearable': 4633, 'instinct': 2308, 'introduced': 2337, 'groups': 1981, 'waited': 4771, 'banned': 395, 'argument': 291, 'courage': 1018, 'minds': 2852, 'visually': 4758, 'satisfied': 3789, 'circle': 821, 'achieved': 93, 'expressed': 1601, 'tradition': 4549, 'catches': 715, 'lazy': 2543, 'hopes': 2159, 'gag': 1861, 'pan': 3180, 'proof': 3434, 'properly': 3437, 'dolph': 1317, 'member': 2800, 'thousand': 4465, 'flash': 1745, 'winds': 4895, 'underground': 4640, 'dig': 1250, 'warrior': 4802, 'accept': 80, 'threw': 4470, 'shell': 3927, 'familys': 1646, 'wondered': 4927, 'jenny': 2393, 'wished': 4905, 'horrifying': 2167, 'versus': 4722, 'jewish': 2401, 'inner': 2292, 'bullet': 620, 'opposed': 3122, 'length': 2569, 'combined': 885, 'unoriginal': 4673, 'consistent': 953, 'brains': 563, 'brian': 576, 'jonathan': 2417, 'treasure': 4571, 'doc': 1303, 'judy': 2426, 'portraying': 3343, 'cary': 706, 'plans': 3292, 'louise': 2666, 'picked': 3266, 'met': 2822, 'tame': 4363, 'absolute': 71, 'integrity': 2311, 'hood': 2151, 'hank': 2024, 'choreography': 802, 'watches': 4814, 'report': 3635, 'ensemble': 1492, 'plight': 3308, 'anne': 246, 'rural': 3758, 'area': 286, 'plane': 3288, 'chair': 742, 'speech': 4102, 'notion': 3050, 'carter': 703, 'suited': 4286, 'flight': 1757, 'bigger': 479, 'vampires': 4712, 'homosexual': 2145, 'sticks': 4186, 'basement': 405, 'frequent': 1831, 'breaks': 571, 'worker': 4942, 'susan': 4326, 'aliens': 184, 'continues': 971, 'discussion': 1284, 'attempting': 342, 'balance': 387, 'specifically': 4100, 'searching': 3842, 'kitchen': 2485, 'amazingly': 210, 'slightest': 4028, 'editor': 1423, 'generous': 1886, 'bought': 552, 'saved': 3795, 'godzilla': 1929, 'pseudo': 3454, 'destroy': 1213, 'overacting': 3149, 'agents': 151, 'heck': 2071, 'promise': 3430, 'taxi': 4371, 'sport': 4129, 'sunshine': 4294, 'dan': 1102, 'reunion': 3669, 'obnoxious': 3067, 'alert': 178, 'rushed': 3760, 'tortured': 4530, 'wedding': 4836, 'helen': 2075, 'explains': 1589, 'crying': 1074, 'shadows': 3913, 'individuals': 2278, 'tarzan': 4367, 'ron': 3734, 'savage': 3793, 'occasion': 3073, 'priceless': 3390, 'afterwards': 145, 'picks': 3268, 'dinner': 1254, 'repetitive': 3633, 'uninteresting': 4660, 'phony': 3256, 'brutal': 603, 'cabin': 643, 'discovers': 1281, 'bloody': 513, 'sixties': 4011, 'identify': 2216, 'method': 2824, 'madness': 2698, 'atrocious': 335, 'jon': 2416, 'excessive': 1560, 'splatter': 4118, 'greater': 1965, 'ridiculously': 3694, 'conservative': 948, 'greed': 1968, 'ties': 4490, 'awkward': 374, 'album': 175, 'lisa': 2616, 'briefly': 580, 'carrie': 697, 'strictly': 4223, 'status': 4165, 'bergman': 466, 'confusion': 943, 'doubts': 1333, 'arrogant': 303, 'kidnapped': 2466, 'learns': 2553, 'useless': 4695, 'artist': 307, 'mentally': 2809, 'demands': 1175, 'wonders': 4931, 'reaction': 3541, 'olivier': 3103, 'killings': 2473, 'gods': 1928, 'bar': 396, 'dollar': 1314, 'designs': 1204, 'mexican': 2826, 'guessing': 1991, 'dubbing': 1380, 'subtitles': 4259, 'committed': 905, 'suppose': 4305, 'disturbed': 1299, 'championship': 745, 'depicts': 1186, 'position': 3345, 'wishes': 4906, 'useful': 4694, 'flawed': 1750, 'fabulous': 1615, 'smiling': 4037, 'kirk': 2482, 'installment': 2303, 'enterprise': 1495, 'wanna': 4786, 'hop': 2154, 'hook': 2152, 'extras': 1608, 'videos': 4734, 'solo': 4058, 'sandra': 3782, 'stale': 4141, 'inducing': 2279, 'villains': 4745, 'rangers': 3517, 'fifteen': 1706, 'embarrassment': 1455, 'accents': 79, 'warned': 4798, 'fortune': 1806, 'freak': 1824, 'hamilton': 2012, 'illogical': 2231, 'executive': 1567, 'barry': 401, 'ratings': 3530, 'unit': 4663, 'court': 1020, 'magazine': 2701, 'mail': 2706, 'le': 2544, 'commercials': 903, 'drop': 1369, 'oz': 3160, 'corporate': 998, 'rights': 3697, 'network': 3000, 'legal': 2563, 'loser': 2655, 'considerable': 950, 'leg': 2562, 'currently': 1085, 'activities': 102, 'bringing': 586, 'morgan': 2905, 'freeman': 1829, 'kinds': 2478, 'tim': 4494, 'draws': 1352, 'prepared': 3371, 'fat': 1663, 'fetched': 1698, 'paying': 3217, 'agent': 150, 'flow': 1762, 'staring': 4152, 'fancy': 1649, 'widow': 4883, 'table': 4346, 'upset': 4687, 'cruel': 1070, 'countries': 1013, 'andrews': 229, 'schools': 3814, 'transfer': 4559, 'educational': 1425, 'teachers': 4376, 'flies': 1756, 'accomplished': 87, 'teenagers': 4391, 'signs': 3973, 'clumsy': 866, 'temple': 4398, 'displayed': 1292, 'frame': 1815, 'gray': 1963, 'spoil': 4121, 'robbery': 3711, 'mafia': 2700, 'wacky': 4769, 'racial': 3501, 'buddies': 608, 'sky': 4017, 'intimate': 2331, 'notch': 3043, 'fascinated': 1657, 'dinosaurs': 1256, 'pokemon': 3320, 'amateur': 206, 'aunt': 355, 'lady': 2507, 'edie': 1419, 'sings': 3997, 'portrait': 3339, 'promises': 3432, 'suffers': 4278, 'engage': 1479, 'dialogs': 1233, 'arthur': 305, 'virginia': 4750, 'lively': 2627, 'professional': 3421, 'chosen': 805, 'germans': 1897, 'historical': 2119, 'succeeded': 4263, 'victoria': 4732, 'counter': 1011, 'awe': 370, 'attempted': 341, 'emily': 1456, 'blunt': 520, 'forms': 1801, 'natural': 2973, 'et': 1526, 'strip': 4228, 'grasp': 1960, 'surviving': 4323, 'elm': 1447, 'arnold': 296, 'tied': 4489, 'babe': 375, 'disneys': 1290, 'spring': 4134, 'filmmaker': 1719, 'motivations': 2915, 'shirt': 3937, 'nuclear': 3057, '2007': 37, 'newly': 3004, 'christians': 809, 'forgive': 1795, 'sons': 4073, 'chan': 746, 'agrees': 157, 'bitter': 491, 'vice': 4727, 'angel': 231, 'topic': 4526, 'da': 1094, 'interpretation': 2328, 'beneath': 464, 'haunted': 2050, 'ruth': 3763, 'obsession': 3070, 'identity': 2217, 'psycho': 3457, 'represents': 3639, 'jumps': 2432, 'staff': 4138, 'hanging': 2023, 'masses': 2755, 'careful': 688, 'nominated': 3025, 'treated': 4573, 'vicious': 4728, '1972': 18, 'sits': 4006, 'hart': 2041, 'waitress': 4773, 'secretly': 3851, 'stilted': 4190, 'miles': 2843, 'strongly': 4231, 'shut': 3961, 'truck': 4595, 'shoots': 3944, 'hatred': 2049, 'seek': 3858, 'models': 2881, 'bath': 411, 'suits': 4287, 'psychotic': 3459, 'mothers': 2912, 'kicked': 2461, 'montana': 2895, 'powell': 3358, 'contract': 973, 'broadcast': 591, 'rain': 3506, 'hollywoods': 2138, 'rogers': 3725, 'brooklyn': 595, 'edgar': 1417, 'eager': 1396, '1990s': 25, 'billy': 482, 'abc': 63, 'wandering': 4785, 'changes': 751, 'suggested': 4281, 'bela': 450, 'lugosi': 2686, 'dracula': 1341, 'gandhi': 1866, 'ignored': 2225, 'arrives': 302, 'join': 2412, 'education': 1424, 'hates': 2048, 'stellar': 4174, 'reynolds': 3684, 'sell': 3871, 'liners': 2611, 'pig': 3274, 'remotely': 3623, 'comparing': 913, 'hunt': 2198, 'someones': 4065, 'witty': 4917, 'cusack': 1088, 'blank': 501, 'joan': 2404, 'bell': 458, 'contrived': 976, 'ruins': 3752, 'jesus': 2399, 'mistress': 2874, 'guns': 1998, 'australia': 356, 'precious': 3366, 'description': 1197, 'documentaries': 1306, 'muslim': 2949, 'anna': 245, 'interviews': 2330, 'con': 928, 'react': 3540, 'swear': 4334, 'trilogy': 4586, 'butler': 637, 'wear': 4830, 'marty': 2749, 'pearl': 3220, 'horrors': 2169, 'grand': 1953, 'daddy': 1096, 'handled': 2019, 'sappy': 3784, 'blows': 517, 'stretch': 4221, 'gain': 1863, 'dave': 1123, 'mate': 2765, 'accused': 91, 'surrounded': 4318, 'shall': 3916, '1940s': 13, 'cagney': 646, 'mighty': 2836, 'embarrassed': 1453, 'aging': 153, 'safety': 3772, 'inappropriate': 2259, 'iraq': 2351, 'subtlety': 4261, 'animation': 242, 'aimed': 162, 'imitation': 2241, 'revolutionary': 3681, 'amitabh': 216, 'neil': 2995, 'complexity': 924, 'patient': 3211, 'atlantis': 332, 'empire': 1464, 'animated': 241, 'opportunities': 3120, 'sheer': 3925, 'handed': 2016, 'oliver': 3102, 'jeremy': 2394, 'musicals': 2948, 'personalities': 3241, 'pal': 3177, 'nostalgia': 3038, 'bob': 524, 'partly': 3197, 'boxing': 556, 'altogether': 202, 'dressing': 1359, 'firstly': 1737, 'learning': 2552, 'defense': 1159, 'terry': 4415, 'reasonable': 3558, 'parent': 3187, 'wholly': 4874, 'teeth': 4393, 'elvira': 1450, 'ego': 1435, 'los': 2653, 'angeles': 233, 'vulnerable': 4768, 'unpleasant': 4674, 'kicking': 2462, 'prom': 3429, 'mentioning': 2812, 'factor': 1622, 'advantage': 129, 'vampire': 4711, 'appropriate': 283, 'mass': 2753, 'scarecrow': 3804, 'der': 1191, 'bo': 521, 'greek': 1970, 'roman': 3731, 'standards': 4145, 'model': 2880, 'dickens': 1240, 'term': 4405, 'poem': 3312, 'admire': 121, 'glenn': 1918, 'passionate': 3206, 'believes': 456, 'suitable': 4285, 'drunken': 1376, 'irrelevant': 2358, 'helicopter': 2076, 'bands': 392, 'pro': 3406, 'assumed': 329, 'incident': 2260, 'mistaken': 2872, 'accepted': 82, 'noble': 3021, 'kingdom': 2480, 'twilight': 4614, 'heights': 2073, 'chapter': 757, 'shirley': 3936, '1933': 12, 'matthew': 2772, 'diana': 1237, 'pit': 3278, 'construction': 960, 'poetry': 3314, 'reads': 3545, 'distinct': 1296, 'mgm': 2828, 'segments': 3868, 'orange': 3125, 'russian': 3762, 'appreciation': 281, 'roger': 3724, 'moore': 2901, 'flaws': 1752, 'grim': 1974, 'voight': 4764, 'likewise': 2603, 'horrendous': 2162, 'serves': 3895, 'measure': 2786, 'bang': 393, 'matrix': 2767, 'dozens': 1339, 'replaced': 3634, 'resembles': 3646, 'benefit': 465, 'crude': 1069, 'punk': 3468, 'flop': 1760, 'drugs': 1374, 'maria': 2736, 'pregnant': 3369, 'scale': 3802, 'projects': 3428, 'dry': 1377, 'disjointed': 1287, 'survival': 4320, 'julia': 2427, 'emphasis': 1463, 'justin': 2440, 'annoyed': 248, 'troops': 4591, 'scope': 3821, 'subsequent': 4257, 'glorious': 1921, 'guilt': 1994, 'misery': 2865, 'solution': 4059, 'lees': 2560, 'homage': 2141, 'monkeys': 2891, 'willis': 4890, 'airport': 167, 'brad': 560, 'wall': 4781, 'conventional': 979, '1950s': 14, 'sellers': 3872, 'rabbit': 3498, 'treats': 4575, 'realise': 3548, 'parallel': 3185, 'italy': 2368, 'capturing': 679, 'adam': 111, 'recorded': 3574, 'chances': 748, 'workers': 4943, 'showcase': 3954, 'task': 4368, 'resources': 3651, 'domestic': 1318, 'drag': 1342, 'similarly': 3980, 'sentence': 3881, 'snl': 4044, 'lower': 2677, 'merits': 2817, 'incompetent': 2266, 'souls': 4080, 'inane': 2258, 'gifted': 1907, 'jackson': 2375, 'elvis': 1451, 'unpredictable': 4675, 'bette': 471, 'novels': 3053, 'travesty': 4570, 'masterpieces': 2760, 'thief': 4448, 'roy': 3745, 'wore': 4939, 'cuba': 1075, 'pity': 3281, 'adequate': 120, 'absence': 70, 'purchase': 3469, 'weeks': 4839, 'uneven': 4649, 'uncle': 4636, 'blond': 510, 'mummy': 2937, 'throat': 4476, 'disagree': 1269, 'poverty': 3357, 'falk': 1636, 'betty': 474, 'matches': 2764, 'snow': 4045, 'steel': 4173, 'invasion': 2340, 'slave': 4022, 'iran': 2350, 'soccer': 4048, 'homer': 2144, 'bible': 477, 'believing': 457, 'fool': 1779, 'everyones': 1543, 'campbell': 663, 'junk': 2436, 'surreal': 4317, 'mann': 2728, 'showdown': 3955, 'americas': 215, 'wins': 4899, 'contest': 967, 'dutch': 1389, 'rex': 3683, 'rotten': 3740, 'closet': 858, 'mentions': 2813, 'menacing': 2807, 'closest': 857, 'paulie': 3215, 'hal': 2006, 'achievement': 94, 'farce': 1654, 'disappeared': 1271, 'bird': 484, 'centered': 733, 'creatures': 1046, 'creation': 1040, 'weapons': 4829, 'rebel': 3561, 'earl': 1398, 'lucas': 2680, 'beatty': 427, 'madonna': 2699, 'compelled': 915, 'raped': 3522, 'greedy': 1969, 'sends': 3876, 'cox': 1026, 'mel': 2796, 'faults': 1669, 'goodness': 1938, 'exploration': 1593, 'rat': 3525, 'todd': 4510, 'distant': 1295, 'linda': 2609, 'stomach': 4196, 'deliberately': 1166, 'promised': 3431, 'encounters': 1467, 'shortly': 3947, 'impress': 2250, '1973': 19, '1990': 24, 'skills': 4014, 'angels': 234, 'disappoint': 1272, 'empathy': 1462, 'goldberg': 1933, 'khan': 2459, 'kicks': 2463, 'carradine': 695, 'rising': 3703, 'investigate': 2342, 'carol': 693, 'deceased': 1146, 'stood': 4199, 'letters': 2582, 'photo': 3257, 'francisco': 1819, 'miscast': 2862, 'beats': 426, 'presentation': 3375, 'outer': 3143, 'frustrated': 1842, 'idiot': 2218, 'cannibal': 669, 'dude': 1381, 'fred': 1825, 'astaire': 330, 'berlin': 467, 'singers': 3994, 'performer': 3231, 'resist': 3648, 'furthermore': 1854, 'warming': 4795, 'ensues': 1493, 'paranoia': 3186, 'definition': 1163, 'pitt': 3280, 'childish': 791, 'authority': 360, 'endings': 1472, 'jake': 2377, 'lily': 2605, 'frankenstein': 1822, 'spider': 4109, 'survived': 4322, 'enjoys': 1489, 'sidekick': 3966, 'listed': 2618, 'backdrop': 379, 'prize': 3405, 'burned': 626, 'cake': 648, 'bullets': 621, 'taught': 4370, 'appalling': 268, 'seagal': 3839, 'fighter': 1708, 'sentimental': 3882, 'marketing': 2741, 'cities': 823, 'desperation': 1210, 'hyde': 2206, 'sink': 3999, 'contemporary': 965, 'inevitably': 2283, 'ridden': 3691, 'performing': 3233, 'landing': 2512, 'paltrow': 3178, 'broad': 590, 'philosophy': 3254, 'revolution': 3680, 'tiresome': 4502, 'pants': 3182, 'robbins': 3712, 'careers': 687, 'lessons': 2578, 'punishment': 3467, 'enthusiasm': 1501, 'digital': 1251, 'stinks': 4192, 'cd': 728, 'theyll': 4444, 'ned': 2986, 'popcorn': 3331, 'catching': 716, 'portion': 3338, 'selling': 3873, 'shake': 3914, 'teach': 4374, 'retired': 3664, 'damage': 1099, 'improve': 2254, 'reduced': 3579, 'lynch': 2691, 'catchy': 717, 'prevent': 3385, 'kapoor': 2443, 'escapes': 1519, 'segment': 3867, 'experiments': 1584, 'fx': 1858, 'holly': 2136, 'messed': 2821, 'lay': 2542, 'felix': 1689, 'turkey': 4604, 'classical': 836, 'mere': 2814, 'trailers': 4555, 'vengeance': 4719, 'brooks': 596, 'receives': 3565, 'opinions': 3119, 'capital': 673, 'wet': 4855, 'occurred': 3077, 'liking': 2604, 'divorce': 1301, 'accompanied': 86, 'adding': 117, 'limits': 2607, 'stretched': 4222, 'spain': 4091, 'cases': 708, 'generated': 1882, 'global': 1920, 'rocket': 3721, 'daring': 1114, 'involvement': 2347, 'idiotic': 2219, 'ignorant': 2223, 'lion': 2614, 'secrets': 3852, 'mildred': 2841, 'writes': 4970, 'nazi': 2977, '35': 45, 'pages': 3168, 'outcome': 3142, 'split': 4120, 'doctors': 1305, 'hippie': 2115, 'strength': 4219, 'arrived': 301, 'comical': 894, 'sarah': 3785, 'access': 83, 'conflicts': 940, 'crucial': 1068, 'indians': 2275, 'conversations': 981, 'niro': 3019, 'progresses': 3426, '2006': 36, '1968': 16, 'reflect': 3584, 'enemies': 1476, 'sid': 3964, 'user': 4696, 'scores': 3823, 'brady': 561, 'nazis': 2978, 'comics': 895, 'akshay': 169, 'directions': 1262, 'artificial': 306, 'lone': 2642, 'authentic': 358, 'chicks': 787, 'bourne': 554, 'creator': 1043, 'saves': 3796, 'literature': 2623, 'che': 773, 'stevens': 4183, 'karen': 2444, 'icon': 2211, 'ward': 4793, 'wave': 4818, 'cinematographer': 819, 'creep': 1051, 'june': 2433, 'rose': 3739, 'grinch': 1975, 'messages': 2820, 'pg': 3250, 'franco': 1820, 'historically': 2120, 'museum': 2945, 'practice': 3363, 'transition': 4561, 'mechanical': 2788, 'spoiled': 4122, 'pushing': 3479, 'fairy': 1632, 'eerie': 1427, 'charlie': 765, 'garden': 1872, 'albert': 174, 'strangers': 4214, 'chuck': 812, 'spirits': 4115, 'blew': 505, 'yelling': 4980, 'pulp': 3465, 'charlotte': 766, 'li': 2587, 'overlooked': 3154, 'resolution': 3649, 'fever': 1699, 'clothing': 861, 'wallace': 4782, 'joey': 2408, 'communist': 907, 'pot': 3354, 'nyc': 3065, 'kay': 2447, 'caine': 647, 'ya': 4976, 'lena': 2568, 'notes': 3046, 'streisand': 4218, 'crocodile': 1065, 'twin': 4615, 'dawson': 1128, 'broke': 593, 'basketball': 409, 'bakshi': 386, 'shelf': 3926, 'matthau': 2771, 'florida': 1761, 'reflection': 3585, 'sneak': 4043, 'angela': 232, 'regardless': 3590, 'ocean': 3079, 'occur': 3076, 'jungle': 2434, 'heston': 2094, 'unreal': 4676, 'composed': 926, 'cg': 739, 'lengthy': 2570, 'swim': 4337, 'scrooge': 3837, 'recording': 3575, 'morris': 2908, 'fay': 1674, 'complaint': 920, 'purposes': 3475, 'perry': 3237, 'stock': 4193, 'petty': 3249, 'wed': 4835, 'blacks': 494, 'represented': 3638, 'remarks': 3615, 'oil': 3097, 'urge': 4689, 'analysis': 224, 'eastwood': 1409, 'morality': 2903, 'prostitute': 3440, 'landscape': 2513, 'dinosaur': 1255, 'painted': 3174, 'buildings': 616, 'bleak': 503, 'karloff': 2445, 'bottle': 550, 'apes': 267, 'craven': 1034, 'equivalent': 1512, 'dub': 1378, 'ninja': 3018, 'demand': 1174, 'prisoners': 3403, 'samurai': 3779, 'burton': 630, 'acid': 95, 'chooses': 800, 'monk': 2889, 'finger': 1731, 'colonel': 876, 'drags': 1345, 'ashley': 313, 'ape': 266, 'command': 897, 'myers': 2952, 'stooges': 4200, 'witnessed': 4915, 'generations': 1884, 'rambo': 3511, 'antics': 255, 'assault': 324, 'blake': 498, 'doo': 1325, 'gadget': 1860, 'square': 4136, 'tooth': 4524, 'polanski': 3321, 'scooby': 3820, 'garbo': 1871, 'ramones': 3512, 'bettie': 473}\n"
     ]
    }
   ],
   "source": [
    "print(str(vocabulary))"
   ]
  },
  {
   "cell_type": "markdown",
   "metadata": {},
   "source": [
    "Once you have added the endpoint name to the Lambda function, click on **Save**. Your Lambda function is now up and running. Next we need to create a way for our web app to execute the Lambda function."
   ]
  },
  {
   "cell_type": "markdown",
   "metadata": {},
   "source": [
    "### Setting up API Gateway\n",
    "\n",
    "Now that our Lambda function is set up, it is time to create a new API using API Gateway that will trigger the Lambda function we have just created.\n",
    "\n",
    "Using AWS Console, navigate to **Amazon API Gateway** and then click on **Get started**.\n",
    "\n",
    "On the next page, make sure that **New API** is selected and give the new api a name, for example, `sentiment_analysis_web_app`. Then, click on **Create API**.\n",
    "\n",
    "Now we have created an API, however it doesn't currently do anything. What we want it to do is to trigger the Lambda function that we created earlier.\n",
    "\n",
    "Select the **Actions** dropdown menu and click **Create Method**. A new blank method will be created, select its dropdown menu and select **POST**, then click on the check mark beside it.\n",
    "\n",
    "For the integration point, make sure that **Lambda Function** is selected and click on the **Use Lambda Proxy integration**. This option makes sure that the data that is sent to the API is then sent directly to the Lambda function with no processing. It also means that the return value must be a proper response object as it will also not be processed by API Gateway.\n",
    "\n",
    "Type the name of the Lambda function you created earlier into the **Lambda Function** text entry box and then click on **Save**. Click on **OK** in the pop-up box that then appears, giving permission to API Gateway to invoke the Lambda function you created.\n",
    "\n",
    "The last step in creating the API Gateway is to select the **Actions** dropdown and click on **Deploy API**. You will need to create a new Deployment stage and name it anything you like, for example `prod`.\n",
    "\n",
    "You have now successfully set up a public API to access your SageMaker model. Make sure to copy or write down the URL provided to invoke your newly created public API as this will be needed in the next step. This URL can be found at the top of the page, highlighted in blue next to the text **Invoke URL**."
   ]
  },
  {
   "cell_type": "markdown",
   "metadata": {},
   "source": [
    "## Step 7: Deploying our web app\n",
    "\n",
    "Now that we have a publicly available API, we can start using it in a web app. For our purposes, we have provided a simple static html file which can make use of the public api you created earlier.\n",
    "\n",
    "In the `website` folder there should be a file called `index.html`. Download the file to your computer and open that file up in a text editor of your choice. There should be a line which contains **\\*\\*REPLACE WITH PUBLIC API URL\\*\\***. Replace this string with the url that you wrote down in the last step and then save the file.\n",
    "\n",
    "Now, if you open `index.html` on your local computer, your browser will behave as a local web server and you can use the provided site to interact with your SageMaker model.\n",
    "\n",
    "If you'd like to go further, you can host this html file anywhere you'd like, for example using github or hosting a static site on Amazon's S3. Once you have done this you can share the link with anyone you'd like and have them play with it too!\n",
    "\n",
    "> **Important Note** In order for the web app to communicate with the SageMaker endpoint, the endpoint has to actually be deployed and running. This means that you are paying for it. Make sure that the endpoint is running when you want to use the web app but that you shut it down when you don't need it, otherwise you will end up with a surprisingly large AWS bill."
   ]
  },
  {
   "cell_type": "markdown",
   "metadata": {},
   "source": [
    "### Delete the endpoint\n",
    "\n",
    "Remember to always shut down your endpoint if you are no longer using it. You are charged for the length of time that the endpoint is running so if you forget and leave it on you could end up with an unexpectedly large bill."
   ]
  },
  {
   "cell_type": "code",
   "execution_count": 49,
   "metadata": {},
   "outputs": [],
   "source": [
    "xgb_predictor.delete_endpoint()"
   ]
  },
  {
   "cell_type": "markdown",
   "metadata": {},
   "source": [
    "## Optional: Clean up\n",
    "\n",
    "The default notebook instance on SageMaker doesn't have a lot of excess disk space available. As you continue to complete and execute notebooks you will eventually fill up this disk space, leading to errors which can be difficult to diagnose. Once you are completely finished using a notebook it is a good idea to remove the files that you created along the way. Of course, you can do this from the terminal or from the notebook hub if you would like. The cell below contains some commands to clean up the created files from within the notebook."
   ]
  },
  {
   "cell_type": "code",
   "execution_count": 50,
   "metadata": {},
   "outputs": [],
   "source": [
    "# First we will remove all of the files contained in the data_dir directory\n",
    "!rm $data_dir/*\n",
    "\n",
    "# And then we delete the directory itself\n",
    "!rmdir $data_dir\n",
    "\n",
    "# Similarly we remove the files in the cache_dir directory and the directory itself\n",
    "!rm $cache_dir/*\n",
    "!rmdir $cache_dir"
   ]
  },
  {
   "cell_type": "code",
   "execution_count": null,
   "metadata": {},
   "outputs": [],
   "source": []
  }
 ],
 "metadata": {
  "kernelspec": {
   "display_name": "conda_python3",
   "language": "python",
   "name": "conda_python3"
  },
  "language_info": {
   "codemirror_mode": {
    "name": "ipython",
    "version": 3
   },
   "file_extension": ".py",
   "mimetype": "text/x-python",
   "name": "python",
   "nbconvert_exporter": "python",
   "pygments_lexer": "ipython3",
   "version": "3.6.10"
  }
 },
 "nbformat": 4,
 "nbformat_minor": 2
}
